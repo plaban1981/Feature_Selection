{
  "nbformat": 4,
  "nbformat_minor": 0,
  "metadata": {
    "colab": {
      "name": "Feature_Selection_using_Genetic_Algorithm.ipynb",
      "provenance": [],
      "authorship_tag": "ABX9TyNO8mfi5KjboGSZpzcPssJ9",
      "include_colab_link": true
    },
    "kernelspec": {
      "name": "python3",
      "display_name": "Python 3"
    }
  },
  "cells": [
    {
      "cell_type": "markdown",
      "metadata": {
        "id": "view-in-github",
        "colab_type": "text"
      },
      "source": [
        "<a href=\"https://colab.research.google.com/github/plaban1981/Feature_Selection/blob/master/Feature_Selection_using_Genetic_Algorithm.ipynb\" target=\"_parent\"><img src=\"https://colab.research.google.com/assets/colab-badge.svg\" alt=\"Open In Colab\"/></a>"
      ]
    },
    {
      "cell_type": "code",
      "metadata": {
        "id": "lBEViKm-LcnH",
        "colab_type": "code",
        "outputId": "467c772e-34c7-40e7-d020-139734b24b53",
        "colab": {
          "base_uri": "https://localhost:8080/",
          "height": 309
        }
      },
      "source": [
        "!pip install sklearn-genetic"
      ],
      "execution_count": 1,
      "outputs": [
        {
          "output_type": "stream",
          "text": [
            "Collecting sklearn-genetic\n",
            "  Downloading https://files.pythonhosted.org/packages/25/a7/495e10b18fa87d8865fb768c7dc050bbc183bfbbc212f3e612423f74cd16/sklearn-genetic-0.2.tar.gz\n",
            "Requirement already satisfied: scikit-learn>=0.18 in /usr/local/lib/python3.6/dist-packages (from sklearn-genetic) (0.22.2.post1)\n",
            "Collecting deap>=1.0.2\n",
            "\u001b[?25l  Downloading https://files.pythonhosted.org/packages/0a/eb/2bd0a32e3ce757fb26264765abbaedd6d4d3640d90219a513aeabd08ee2b/deap-1.3.1-cp36-cp36m-manylinux2010_x86_64.whl (157kB)\n",
            "\u001b[K     |████████████████████████████████| 163kB 3.7MB/s \n",
            "\u001b[?25hRequirement already satisfied: scipy>=0.17.0 in /usr/local/lib/python3.6/dist-packages (from scikit-learn>=0.18->sklearn-genetic) (1.4.1)\n",
            "Requirement already satisfied: numpy>=1.11.0 in /usr/local/lib/python3.6/dist-packages (from scikit-learn>=0.18->sklearn-genetic) (1.18.3)\n",
            "Requirement already satisfied: joblib>=0.11 in /usr/local/lib/python3.6/dist-packages (from scikit-learn>=0.18->sklearn-genetic) (0.14.1)\n",
            "Building wheels for collected packages: sklearn-genetic\n",
            "  Building wheel for sklearn-genetic (setup.py) ... \u001b[?25l\u001b[?25hdone\n",
            "  Created wheel for sklearn-genetic: filename=sklearn_genetic-0.2-py2.py3-none-any.whl size=6695 sha256=ac5a2038a66cb01cebf0d15c2473be40112b12a8ae47b6048bcaa1fa31056916\n",
            "  Stored in directory: /root/.cache/pip/wheels/e0/0d/a7/698bc5a79bdf76ad619116359c01dcc40298b8b275279fd826\n",
            "Successfully built sklearn-genetic\n",
            "Installing collected packages: deap, sklearn-genetic\n",
            "Successfully installed deap-1.3.1 sklearn-genetic-0.2\n"
          ],
          "name": "stdout"
        }
      ]
    },
    {
      "cell_type": "code",
      "metadata": {
        "id": "7voJw5onHAJU",
        "colab_type": "code",
        "outputId": "e31c96e4-5ce5-467e-89d2-24c1d3381ce4",
        "colab": {
          "base_uri": "https://localhost:8080/",
          "height": 394
        }
      },
      "source": [
        "from genetic_selection import GeneticSelectionCV\n",
        "\n",
        "import numpy as np\n",
        "import pandas as pd\n",
        "from sklearn import datasets, linear_model\n",
        "\n",
        "from genetic_selection import GeneticSelectionCV\n",
        "\n",
        "\n",
        "iris = datasets.load_iris()\n",
        "\n",
        "# Some noisy data not correlated\n",
        "E = np.random.uniform(0, 0.1, size=(len(iris.data)))\n",
        "print(E.shape)\n",
        "df = pd.DataFrame(iris.data,columns=iris.feature_names)\n",
        "df['Noise'] = E\n",
        "df['Label'] = iris.target\n",
        "\n",
        "X = df.drop('Label',axis=1)\n",
        "y = df['Label']\n",
        "\n",
        "estimator = linear_model.LogisticRegression(solver=\"liblinear\", multi_class=\"ovr\")\n",
        "\n",
        "selector = GeneticSelectionCV(estimator,\n",
        "                                  cv=5,\n",
        "                                  verbose=1,\n",
        "                                  scoring=\"accuracy\",\n",
        "                                  max_features=2,\n",
        "                                  n_population=50,\n",
        "                                  crossover_proba=0.5,\n",
        "                                  mutation_proba=0.2,\n",
        "                                  n_generations=40,\n",
        "                                  crossover_independent_proba=0.5,\n",
        "                                  mutation_independent_proba=0.05,\n",
        "                                  tournament_size=3,\n",
        "                                  n_gen_no_change=10,\n",
        "                                  caching=True,\n",
        "                                  n_jobs=-1)\n",
        "selector = selector.fit(X, y)\n",
        "\n",
        "print(selector.support_)\n"
      ],
      "execution_count": 2,
      "outputs": [
        {
          "output_type": "stream",
          "text": [
            "/usr/local/lib/python3.6/dist-packages/sklearn/utils/deprecation.py:144: FutureWarning: The sklearn.metrics.scorer module is  deprecated in version 0.22 and will be removed in version 0.24. The corresponding classes / functions should instead be imported from sklearn.metrics. Anything that cannot be imported from sklearn.metrics is now part of the private API.\n",
            "  warnings.warn(message, FutureWarning)\n",
            "/usr/local/lib/python3.6/dist-packages/sklearn/utils/deprecation.py:144: FutureWarning: The sklearn.feature_selection.base module is  deprecated in version 0.22 and will be removed in version 0.24. The corresponding classes / functions should instead be imported from sklearn.feature_selection. Anything that cannot be imported from sklearn.feature_selection is now part of the private API.\n",
            "  warnings.warn(message, FutureWarning)\n",
            "/usr/local/lib/python3.6/dist-packages/sklearn/externals/joblib/__init__.py:15: FutureWarning: sklearn.externals.joblib is deprecated in 0.21 and will be removed in 0.23. Please import this functionality directly from joblib, which can be installed with: pip install joblib. If this warning is raised when loading pickled models, you may need to re-serialize those models with scikit-learn 0.21+.\n",
            "  warnings.warn(msg, category=FutureWarning)\n"
          ],
          "name": "stderr"
        },
        {
          "output_type": "stream",
          "text": [
            "(150,)\n",
            "Selecting features with genetic algorithm.\n",
            "gen\tnevals\tavg                              \tstd                            \tmin              \tmax        \n",
            "0  \t50    \t[-4.79958613e+03  2.32000000e+00]\t[4.99639603e+03 1.04766407e+00]\t[-10000.      0.]\t[0.94 4.  ]\n",
            "1  \t35    \t[-2.99939813e+03  1.96000000e+00]\t[4.58296971e+03 7.98999374e-01]\t[-10000.      0.]\t[0.94 3.  ]\n",
            "2  \t33    \t[-1799.28493333     1.98      ]  \t[3.84220957e+03 6.77938050e-01]\t[-10000.      0.]\t[0.94 4.  ]\n",
            "3  \t22    \t[-399.14013333    1.96      ]    \t[1.95976731e+03 5.27636238e-01]\t[-1.e+04  1.e+00]\t[0.94 4.  ]\n",
            "4  \t30    \t[-799.17386667    1.98      ]    \t[2.71317561e+03 5.09509568e-01]\t[-1.e+04  1.e+00]\t[0.94 4.  ]\n",
            "5  \t24    \t[-399.1072    2.02  ]            \t[1.95977404e+03 2.44131112e-01]\t[-1.e+04  1.e+00]\t[0.94 3.  ]\n",
            "6  \t38    \t[0.922 1.96 ]                    \t[0.08025792 0.19595918]        \t[0.53333333 1.        ]\t[0.94 2.  ]\n",
            "7  \t33    \t[-799.13693333    2.06      ]    \t[2.71318650e+03 3.10483494e-01]\t[-1.e+04  1.e+00]      \t[0.94 3.  ]\n",
            "8  \t32    \t[0.93186667 1.98      ]          \t[0.05693333 0.14      ]        \t[0.53333333 1.        ]\t[0.94 2.  ]\n",
            "9  \t27    \t[-199.0788    2.02  ]            \t[1.4001316e+03 1.4000000e-01]  \t[-1.e+04  2.e+00]      \t[0.94 3.  ]\n",
            "10 \t27    \t[0.94 2.  ]                      \t[3.33066907e-16 0.00000000e+00]\t[0.94 2.  ]            \t[0.94 2.  ]\n",
            "[False  True False  True False]\n"
          ],
          "name": "stdout"
        }
      ]
    },
    {
      "cell_type": "code",
      "metadata": {
        "id": "SudJ3qurUoLd",
        "colab_type": "code",
        "outputId": "20564fe5-e38d-46a8-d932-e8dfcbbb408a",
        "colab": {
          "base_uri": "https://localhost:8080/",
          "height": 85
        }
      },
      "source": [
        "iris.feature_names"
      ],
      "execution_count": 3,
      "outputs": [
        {
          "output_type": "execute_result",
          "data": {
            "text/plain": [
              "['sepal length (cm)',\n",
              " 'sepal width (cm)',\n",
              " 'petal length (cm)',\n",
              " 'petal width (cm)']"
            ]
          },
          "metadata": {
            "tags": []
          },
          "execution_count": 3
        }
      ]
    },
    {
      "cell_type": "markdown",
      "metadata": {
        "id": "7qvn3suXVE-a",
        "colab_type": "text"
      },
      "source": [
        "## Best 2 features"
      ]
    },
    {
      "cell_type": "code",
      "metadata": {
        "id": "TJ-nh8zqT6qN",
        "colab_type": "code",
        "outputId": "b9e8777a-d75c-4f3c-c19d-c8435bc50b5d",
        "colab": {
          "base_uri": "https://localhost:8080/",
          "height": 34
        }
      },
      "source": [
        "X.columns[selector.support_].tolist()"
      ],
      "execution_count": 4,
      "outputs": [
        {
          "output_type": "execute_result",
          "data": {
            "text/plain": [
              "['sepal width (cm)', 'petal width (cm)']"
            ]
          },
          "metadata": {
            "tags": []
          },
          "execution_count": 4
        }
      ]
    },
    {
      "cell_type": "code",
      "metadata": {
        "id": "1cogQTRwWd1o",
        "colab_type": "code",
        "colab": {}
      },
      "source": [
        "cols =  ['Number of times pregnant',\n",
        "'Plasma glucose concentration', \n",
        "'Diastolic blood pressure',\n",
        "'Triceps skin fold thickness',\n",
        "'2-Hour serum insulin',\n",
        "'Body mass index',\n",
        "'Diabetes pedigree function',\n",
        "'Age',\n",
        "'Class variable (0 or 1)']"
      ],
      "execution_count": 0,
      "outputs": []
    },
    {
      "cell_type": "code",
      "metadata": {
        "id": "GaWtm28kVmh7",
        "colab_type": "code",
        "colab": {}
      },
      "source": [
        "\n",
        "dataset = pd.read_csv(\"https://raw.githubusercontent.com/jbrownlee/Datasets/master/pima-indians-diabetes.data.csv\", delimiter=\",\",names=cols,header=None)"
      ],
      "execution_count": 0,
      "outputs": []
    },
    {
      "cell_type": "code",
      "metadata": {
        "id": "MmMEkdQvVsDp",
        "colab_type": "code",
        "outputId": "1eb39a5b-66ca-43bf-d38a-d1bbcd72d2b4",
        "colab": {
          "base_uri": "https://localhost:8080/",
          "height": 34
        }
      },
      "source": [
        "dataset.isnull().sum()[dataset.isnull().sum() > 0]"
      ],
      "execution_count": 7,
      "outputs": [
        {
          "output_type": "execute_result",
          "data": {
            "text/plain": [
              "Series([], dtype: int64)"
            ]
          },
          "metadata": {
            "tags": []
          },
          "execution_count": 7
        }
      ]
    },
    {
      "cell_type": "code",
      "metadata": {
        "id": "qRdMV7NmVz_q",
        "colab_type": "code",
        "outputId": "1d744eb2-9ca0-4728-dc29-1ecf38194c7e",
        "colab": {
          "base_uri": "https://localhost:8080/",
          "height": 221
        }
      },
      "source": [
        "dataset.head()"
      ],
      "execution_count": 8,
      "outputs": [
        {
          "output_type": "execute_result",
          "data": {
            "text/html": [
              "<div>\n",
              "<style scoped>\n",
              "    .dataframe tbody tr th:only-of-type {\n",
              "        vertical-align: middle;\n",
              "    }\n",
              "\n",
              "    .dataframe tbody tr th {\n",
              "        vertical-align: top;\n",
              "    }\n",
              "\n",
              "    .dataframe thead th {\n",
              "        text-align: right;\n",
              "    }\n",
              "</style>\n",
              "<table border=\"1\" class=\"dataframe\">\n",
              "  <thead>\n",
              "    <tr style=\"text-align: right;\">\n",
              "      <th></th>\n",
              "      <th>Number of times pregnant</th>\n",
              "      <th>Plasma glucose concentration</th>\n",
              "      <th>Diastolic blood pressure</th>\n",
              "      <th>Triceps skin fold thickness</th>\n",
              "      <th>2-Hour serum insulin</th>\n",
              "      <th>Body mass index</th>\n",
              "      <th>Diabetes pedigree function</th>\n",
              "      <th>Age</th>\n",
              "      <th>Class variable (0 or 1)</th>\n",
              "    </tr>\n",
              "  </thead>\n",
              "  <tbody>\n",
              "    <tr>\n",
              "      <th>0</th>\n",
              "      <td>6</td>\n",
              "      <td>148</td>\n",
              "      <td>72</td>\n",
              "      <td>35</td>\n",
              "      <td>0</td>\n",
              "      <td>33.6</td>\n",
              "      <td>0.627</td>\n",
              "      <td>50</td>\n",
              "      <td>1</td>\n",
              "    </tr>\n",
              "    <tr>\n",
              "      <th>1</th>\n",
              "      <td>1</td>\n",
              "      <td>85</td>\n",
              "      <td>66</td>\n",
              "      <td>29</td>\n",
              "      <td>0</td>\n",
              "      <td>26.6</td>\n",
              "      <td>0.351</td>\n",
              "      <td>31</td>\n",
              "      <td>0</td>\n",
              "    </tr>\n",
              "    <tr>\n",
              "      <th>2</th>\n",
              "      <td>8</td>\n",
              "      <td>183</td>\n",
              "      <td>64</td>\n",
              "      <td>0</td>\n",
              "      <td>0</td>\n",
              "      <td>23.3</td>\n",
              "      <td>0.672</td>\n",
              "      <td>32</td>\n",
              "      <td>1</td>\n",
              "    </tr>\n",
              "    <tr>\n",
              "      <th>3</th>\n",
              "      <td>1</td>\n",
              "      <td>89</td>\n",
              "      <td>66</td>\n",
              "      <td>23</td>\n",
              "      <td>94</td>\n",
              "      <td>28.1</td>\n",
              "      <td>0.167</td>\n",
              "      <td>21</td>\n",
              "      <td>0</td>\n",
              "    </tr>\n",
              "    <tr>\n",
              "      <th>4</th>\n",
              "      <td>0</td>\n",
              "      <td>137</td>\n",
              "      <td>40</td>\n",
              "      <td>35</td>\n",
              "      <td>168</td>\n",
              "      <td>43.1</td>\n",
              "      <td>2.288</td>\n",
              "      <td>33</td>\n",
              "      <td>1</td>\n",
              "    </tr>\n",
              "  </tbody>\n",
              "</table>\n",
              "</div>"
            ],
            "text/plain": [
              "   Number of times pregnant  ...  Class variable (0 or 1)\n",
              "0                         6  ...                        1\n",
              "1                         1  ...                        0\n",
              "2                         8  ...                        1\n",
              "3                         1  ...                        0\n",
              "4                         0  ...                        1\n",
              "\n",
              "[5 rows x 9 columns]"
            ]
          },
          "metadata": {
            "tags": []
          },
          "execution_count": 8
        }
      ]
    },
    {
      "cell_type": "code",
      "metadata": {
        "id": "ngO8YSN_W_6_",
        "colab_type": "code",
        "colab": {}
      },
      "source": [
        "X = dataset.drop('Class variable (0 or 1)',axis=1)\n",
        "Y = dataset['Class variable (0 or 1)']"
      ],
      "execution_count": 0,
      "outputs": []
    },
    {
      "cell_type": "code",
      "metadata": {
        "id": "iGnRryicXddJ",
        "colab_type": "code",
        "outputId": "2e8a6d65-55eb-40db-afe6-7689af6e53d9",
        "colab": {
          "base_uri": "https://localhost:8080/",
          "height": 323
        }
      },
      "source": [
        "estimator = linear_model.LogisticRegression()\n",
        "\n",
        "selector = GeneticSelectionCV(estimator,\n",
        "                                  cv=5,\n",
        "                                  verbose=1,\n",
        "                                  scoring=\"accuracy\",\n",
        "                                  max_features=5,\n",
        "                                  n_population=50,\n",
        "                                  crossover_proba=0.5,\n",
        "                                  mutation_proba=0.2,\n",
        "                                  n_generations=40,\n",
        "                                  crossover_independent_proba=0.5,\n",
        "                                  mutation_independent_proba=0.05,\n",
        "                                  tournament_size=3,\n",
        "                                  n_gen_no_change=10,\n",
        "                                  caching=True,\n",
        "                                  n_jobs=-1)\n",
        "selector = selector.fit(X, Y)\n",
        "\n",
        "print(selector.support_)"
      ],
      "execution_count": 10,
      "outputs": [
        {
          "output_type": "stream",
          "text": [
            "Selecting features with genetic algorithm.\n",
            "gen\tnevals\tavg                            \tstd                            \tmin              \tmax                    \n",
            "0  \t50    \t[-1199.37802071     3.74      ]\t[3.24984504e+03 1.49412182e+00]\t[-10000.      0.]\t[0.76956965 7.        ]\n",
            "1  \t26    \t[-199.27073271    4.1       ]  \t[1.40010418e+03 9.43398113e-01]\t[-1.e+04  2.e+00]\t[0.76956965 6.        ]\n",
            "2  \t32    \t[-399.27000373    4.18      ]  \t[1.9597408e+03 9.9378066e-01]  \t[-1.e+04  2.e+00]\t[0.76956965 6.        ]\n",
            "3  \t30    \t[-599.28323996    4.08      ]  \t[2.37504950e+03 9.96794864e-01]\t[-1.e+04  3.e+00]\t[0.76956965 6.        ]\n",
            "4  \t28    \t[-399.26589882    4.14      ]  \t[1.95974164e+03 9.59374796e-01]\t[-1.e+04  2.e+00]\t[0.77217554 6.        ]\n",
            "5  \t25    \t[-399.26439012    4.44      ]  \t[1.95974195e+03 8.52291030e-01]\t[-1.e+04  2.e+00]\t[0.77217554 6.        ]\n",
            "6  \t34    \t[-399.26240998    4.74      ]  \t[1.95974235e+03 5.93632883e-01]\t[-1.e+04  3.e+00]\t[0.77217554 6.        ]\n",
            "7  \t23    \t[-399.26204719    4.94      ]  \t[1.95974243e+03 3.69323706e-01]\t[-1.e+04  4.e+00]\t[0.77217554 6.        ]\n",
            "8  \t21    \t[-1199.32163365     4.98      ]\t[3.24986587e+03 6.16116872e-01]\t[-1.e+04  3.e+00]\t[0.77217554 7.        ]\n",
            "9  \t30    \t[-399.26126373    4.94      ]  \t[1.95974259e+03 4.20000000e-01]\t[-1.e+04  3.e+00]\t[0.77217554 6.        ]\n",
            "10 \t24    \t[-599.27808862    4.98      ]  \t[2.37505081e+03 4.23792402e-01]\t[-1.e+04  3.e+00]\t[0.77217554 6.        ]\n",
            "11 \t26    \t[0.77201901 4.96      ]        \t[0.0007668  0.19595918]        \t[0.76826246 4.        ]\t[0.77217554 5.        ]\n",
            "12 \t25    \t[-199.24686393    5.        ]  \t[1.40010759e+03 3.46410162e-01]\t[-1.e+04  4.e+00]      \t[0.77217554 7.        ]\n",
            "13 \t29    \t[-399.26100365    4.98      ]  \t[1.95974264e+03 3.73630834e-01]\t[-1.e+04  3.e+00]      \t[0.77217554 6.        ]\n",
            "14 \t29    \t[-399.25980409    5.        ]  \t[1.95974289e+03 2.82842712e-01]\t[-1.e+04  4.e+00]      \t[0.77217554 6.        ]\n",
            "[ True  True  True False False  True False  True]\n"
          ],
          "name": "stdout"
        }
      ]
    },
    {
      "cell_type": "code",
      "metadata": {
        "id": "UNHprp22XueU",
        "colab_type": "code",
        "outputId": "285e4e1b-8147-4f50-c0b0-dcd7f148aeff",
        "colab": {
          "base_uri": "https://localhost:8080/",
          "height": 102
        }
      },
      "source": [
        "X.columns[selector.support_].tolist()"
      ],
      "execution_count": 11,
      "outputs": [
        {
          "output_type": "execute_result",
          "data": {
            "text/plain": [
              "['Number of times pregnant',\n",
              " 'Plasma glucose concentration',\n",
              " 'Diastolic blood pressure',\n",
              " 'Body mass index',\n",
              " 'Age']"
            ]
          },
          "metadata": {
            "tags": []
          },
          "execution_count": 11
        }
      ]
    },
    {
      "cell_type": "code",
      "metadata": {
        "id": "n73muK7mX0wM",
        "colab_type": "code",
        "outputId": "2c6f92a6-3f71-4f61-8748-ce44deecf54e",
        "colab": {
          "base_uri": "https://localhost:8080/",
          "height": 255
        }
      },
      "source": [
        "from sklearn.ensemble import RandomForestClassifier\n",
        "estimator = RandomForestClassifier(n_estimators=100,random_state=1)\n",
        "\n",
        "selector = GeneticSelectionCV(estimator,\n",
        "                                  cv=5,\n",
        "                                  verbose=1,\n",
        "                                  scoring=\"accuracy\",\n",
        "                                  max_features=5,\n",
        "                                  n_population=50,\n",
        "                                  crossover_proba=0.5,\n",
        "                                  mutation_proba=0.2,\n",
        "                                  n_generations=40,\n",
        "                                  crossover_independent_proba=0.5,\n",
        "                                  mutation_independent_proba=0.05,\n",
        "                                  tournament_size=3,\n",
        "                                  n_gen_no_change=10,\n",
        "                                  caching=True,\n",
        "                                  n_jobs=-1)\n",
        "selector = selector.fit(X, Y)\n",
        "\n",
        "print(selector.support_)"
      ],
      "execution_count": 12,
      "outputs": [
        {
          "output_type": "stream",
          "text": [
            "Selecting features with genetic algorithm.\n",
            "gen\tnevals\tavg                            \tstd                            \tmin              \tmax                    \n",
            "0  \t50    \t[-1599.42375605     4.12      ]\t[3.66631205e+03 1.19398492e+00]\t[-1.e+04  2.e+00]\t[0.77087684 7.        ]\n",
            "1  \t26    \t[-399.31785078    4.        ]  \t[1.95973104e+03 1.09544512e+00]\t[-1.e+04  1.e+00]\t[0.77087684 6.        ]\n",
            "2  \t35    \t[-799.32146779    4.5       ]  \t[2.71313208e+03 8.77496439e-01]\t[-1.e+04  3.e+00]\t[0.77087684 7.        ]\n",
            "3  \t35    \t[-399.27518683    4.62      ]  \t[1.95973975e+03 6.89637586e-01]\t[-1.e+04  3.e+00]\t[0.77087684 7.        ]\n",
            "4  \t26    \t[-599.28081996    4.94      ]  \t[2.37505012e+03 4.20000000e-01]\t[-1.e+04  4.e+00]\t[0.77087684 6.        ]\n",
            "5  \t27    \t[0.76952262 4.94      ]        \t[0.0053624  0.23748684]        \t[0.74740684 4.        ]\t[0.77087684 5.        ]\n",
            "6  \t24    \t[0.76913199 4.94      ]        \t[0.00724265 0.23748684]        \t[0.72922502 4.        ]\t[0.77087684 5.        ]\n",
            "7  \t31    \t[-799.29308446    5.04      ]  \t[2.71314045e+03 3.44093011e-01]\t[-1.e+04  4.e+00]      \t[0.77087684 6.        ]\n",
            "8  \t34    \t[-199.24636432    4.94      ]  \t[1.40010766e+03 3.10483494e-01]\t[-1.e+04  4.e+00]      \t[0.77087684 6.        ]\n",
            "9  \t18    \t[0.77087684 5.        ]        \t[5.55111512e-16 0.00000000e+00]\t[0.77087684 5.        ]\t[0.77087684 5.        ]\n",
            "10 \t34    \t[-199.24802852    4.96      ]  \t[1.40010742e+03 2.80000000e-01]\t[-1.e+04  4.e+00]      \t[0.77087684 6.        ]\n",
            "[False  True  True False False  True  True  True]\n"
          ],
          "name": "stdout"
        }
      ]
    },
    {
      "cell_type": "code",
      "metadata": {
        "id": "TeqIg7aSumR8",
        "colab_type": "code",
        "colab": {
          "base_uri": "https://localhost:8080/",
          "height": 102
        },
        "outputId": "0e7aaf36-7599-4383-bce2-583e6af3ac0a"
      },
      "source": [
        "X.columns[selector.support_].tolist()"
      ],
      "execution_count": 13,
      "outputs": [
        {
          "output_type": "execute_result",
          "data": {
            "text/plain": [
              "['Plasma glucose concentration',\n",
              " 'Diastolic blood pressure',\n",
              " 'Body mass index',\n",
              " 'Diabetes pedigree function',\n",
              " 'Age']"
            ]
          },
          "metadata": {
            "tags": []
          },
          "execution_count": 13
        }
      ]
    }
  ]
}