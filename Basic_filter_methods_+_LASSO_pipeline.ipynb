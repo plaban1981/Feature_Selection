{
  "nbformat": 4,
  "nbformat_minor": 0,
  "metadata": {
    "colab": {
      "name": "Basic filter methods + LASSO pipeline.ipynb",
      "provenance": [],
      "collapsed_sections": [],
      "authorship_tag": "ABX9TyOGzntgneRSwETaXtr8iAKn",
      "include_colab_link": true
    },
    "kernelspec": {
      "name": "python3",
      "display_name": "Python 3"
    },
    "accelerator": "GPU"
  },
  "cells": [
    {
      "cell_type": "markdown",
      "metadata": {
        "id": "view-in-github",
        "colab_type": "text"
      },
      "source": [
        "<a href=\"https://colab.research.google.com/github/plaban1981/Feature_Selection/blob/master/Basic_filter_methods_%2B_LASSO_pipeline.ipynb\" target=\"_parent\"><img src=\"https://colab.research.google.com/assets/colab-badge.svg\" alt=\"Open In Colab\"/></a>"
      ]
    },
    {
      "cell_type": "markdown",
      "metadata": {
        "id": "mD44OIhQkc0m",
        "colab_type": "text"
      },
      "source": [
        "## Basic filter methods + LASSO pipeline"
      ]
    },
    {
      "cell_type": "code",
      "metadata": {
        "id": "s1ZPIvhKkY8W",
        "colab_type": "code",
        "colab": {}
      },
      "source": [
        "import pandas as pd\n",
        "import numpy as np\n",
        " \n",
        "import matplotlib.pyplot as plt\n",
        "import seaborn as sns\n",
        "%matplotlib inline\n",
        " \n",
        "from sklearn.model_selection import train_test_split\n",
        "from sklearn.feature_selection import VarianceThreshold\n",
        " \n",
        "from sklearn.preprocessing import StandardScaler\n",
        "from sklearn.linear_model import LogisticRegression\n",
        "from sklearn.ensemble import RandomForestClassifier\n",
        "from sklearn.tree import DecisionTreeClassifier\n",
        "from sklearn.feature_selection import SelectFromModel\n",
        "from sklearn.metrics import roc_auc_score\n",
        "from sklearn.preprocessing import StandardScaler"
      ],
      "execution_count": 0,
      "outputs": []
    },
    {
      "cell_type": "markdown",
      "metadata": {
        "id": "xrg_rnGrmPA8",
        "colab_type": "text"
      },
      "source": [
        "### load the Santander customer satisfaction dataset from Kaggle"
      ]
    },
    {
      "cell_type": "code",
      "metadata": {
        "id": "5_jMkKhhmQRI",
        "colab_type": "code",
        "colab": {
          "resources": {
            "http://localhost:8080/nbextensions/google.colab/files.js": {
              "data": "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",
              "ok": true,
              "headers": [
                [
                  "content-type",
                  "application/javascript"
                ]
              ],
              "status": 200,
              "status_text": ""
            }
          },
          "base_uri": "https://localhost:8080/",
          "height": 74
        },
        "outputId": "d6501e14-0a1e-4b4d-bfbc-fa381a155f73"
      },
      "source": [
        "from google.colab import files\n",
        "files.upload()"
      ],
      "execution_count": 2,
      "outputs": [
        {
          "output_type": "display_data",
          "data": {
            "text/html": [
              "\n",
              "     <input type=\"file\" id=\"files-2eed37e9-e970-411c-b5e2-9be1fa5929f9\" name=\"files[]\" multiple disabled />\n",
              "     <output id=\"result-2eed37e9-e970-411c-b5e2-9be1fa5929f9\">\n",
              "      Upload widget is only available when the cell has been executed in the\n",
              "      current browser session. Please rerun this cell to enable.\n",
              "      </output>\n",
              "      <script src=\"/nbextensions/google.colab/files.js\"></script> "
            ],
            "text/plain": [
              "<IPython.core.display.HTML object>"
            ]
          },
          "metadata": {
            "tags": []
          }
        },
        {
          "output_type": "stream",
          "text": [
            "Saving Santander_train.csv to Santander_train.csv\n"
          ],
          "name": "stdout"
        }
      ]
    },
    {
      "cell_type": "code",
      "metadata": {
        "id": "7Twz4BGeq8G4",
        "colab_type": "code",
        "colab": {
          "base_uri": "https://localhost:8080/",
          "height": 34
        },
        "outputId": "cc290d7b-e712-49fc-f599-1cb684038130"
      },
      "source": [
        "data = pd.read_csv('Santander_train.csv')\n",
        "data.shape"
      ],
      "execution_count": 4,
      "outputs": [
        {
          "output_type": "execute_result",
          "data": {
            "text/plain": [
              "(76020, 371)"
            ]
          },
          "metadata": {
            "tags": []
          },
          "execution_count": 4
        }
      ]
    },
    {
      "cell_type": "markdown",
      "metadata": {
        "id": "pNJA75FAtPzR",
        "colab_type": "text"
      },
      "source": [
        "## separate dataset into train and test"
      ]
    },
    {
      "cell_type": "code",
      "metadata": {
        "id": "BTvuzbTBtONM",
        "colab_type": "code",
        "colab": {
          "base_uri": "https://localhost:8080/",
          "height": 34
        },
        "outputId": "d63d4ad0-8ca8-4fb7-885e-c9dbe90341bf"
      },
      "source": [
        "\n",
        "X_train, X_test, y_train, y_test = train_test_split(\n",
        "    data.drop(labels=['TARGET'], axis=1),\n",
        "    data['TARGET'],\n",
        "    test_size=0.3,\n",
        "    random_state=0)\n",
        " \n",
        "X_train.shape, X_test.shape"
      ],
      "execution_count": 5,
      "outputs": [
        {
          "output_type": "execute_result",
          "data": {
            "text/plain": [
              "((53214, 370), (22806, 370))"
            ]
          },
          "metadata": {
            "tags": []
          },
          "execution_count": 5
        }
      ]
    },
    {
      "cell_type": "markdown",
      "metadata": {
        "id": "cK8HZHWhtVmi",
        "colab_type": "text"
      },
      "source": [
        "#### keep a copy of the dataset with all the variables to measure the performance of machine learning models at the end of the notebook\n"
      ]
    },
    {
      "cell_type": "code",
      "metadata": {
        "id": "aR1QCw-GtbKI",
        "colab_type": "code",
        "colab": {}
      },
      "source": [
        "X_train_original = X_train.copy()\n",
        "X_test_original = X_test.copy()"
      ],
      "execution_count": 0,
      "outputs": []
    },
    {
      "cell_type": "markdown",
      "metadata": {
        "id": "FXJu_sy8tfJi",
        "colab_type": "text"
      },
      "source": [
        "##Remove constant features"
      ]
    },
    {
      "cell_type": "code",
      "metadata": {
        "id": "yoiIUbA8tiDZ",
        "colab_type": "code",
        "colab": {
          "base_uri": "https://localhost:8080/",
          "height": 34
        },
        "outputId": "8e598d21-91da-4115-f02c-b91800b88c99"
      },
      "source": [
        "constant_features = [feat for feat in X_train.columns if X_train[feat].std() == 0]\n",
        " \n",
        "X_train.drop(labels=constant_features, axis=1, inplace=True)\n",
        "X_test.drop(labels=constant_features, axis=1, inplace=True)\n",
        " \n",
        "X_train.shape, X_test.shape"
      ],
      "execution_count": 7,
      "outputs": [
        {
          "output_type": "execute_result",
          "data": {
            "text/plain": [
              "((53214, 332), (22806, 332))"
            ]
          },
          "metadata": {
            "tags": []
          },
          "execution_count": 7
        }
      ]
    },
    {
      "cell_type": "markdown",
      "metadata": {
        "id": "YaoDMu5OtocB",
        "colab_type": "text"
      },
      "source": [
        "##Remove quasi-constant features"
      ]
    },
    {
      "cell_type": "code",
      "metadata": {
        "id": "NOJKeEpatpYm",
        "colab_type": "code",
        "colab": {
          "base_uri": "https://localhost:8080/",
          "height": 34
        },
        "outputId": "6abe8677-5310-4255-f526-b810fc87e732"
      },
      "source": [
        "sel = VarianceThreshold(threshold=0.01)  # 0.1 indicates 99% of observations approximately\n",
        " \n",
        "sel.fit(X_train)  # fit finds the features with low variance\n",
        " \n",
        "sum(sel.get_support()) # how many not quasi-constant?"
      ],
      "execution_count": 8,
      "outputs": [
        {
          "output_type": "execute_result",
          "data": {
            "text/plain": [
              "268"
            ]
          },
          "metadata": {
            "tags": []
          },
          "execution_count": 8
        }
      ]
    },
    {
      "cell_type": "code",
      "metadata": {
        "id": "I6SpR-aktynY",
        "colab_type": "code",
        "colab": {}
      },
      "source": [
        "features_to_keep = X_train.columns[sel.get_support()]"
      ],
      "execution_count": 0,
      "outputs": []
    },
    {
      "cell_type": "markdown",
      "metadata": {
        "id": "68Om3iyjt2Qv",
        "colab_type": "text"
      },
      "source": [
        "##Remove Quasi Constat features "
      ]
    },
    {
      "cell_type": "code",
      "metadata": {
        "id": "qcA08laxt5DZ",
        "colab_type": "code",
        "colab": {
          "base_uri": "https://localhost:8080/",
          "height": 34
        },
        "outputId": "1ffaed3a-58ef-4942-e6f5-9b4ad1f7bb0a"
      },
      "source": [
        "X_train = sel.transform(X_train)\n",
        "X_test = sel.transform(X_test)\n",
        " \n",
        "X_train.shape, X_test.shape"
      ],
      "execution_count": 10,
      "outputs": [
        {
          "output_type": "execute_result",
          "data": {
            "text/plain": [
              "((53214, 268), (22806, 268))"
            ]
          },
          "metadata": {
            "tags": []
          },
          "execution_count": 10
        }
      ]
    },
    {
      "cell_type": "markdown",
      "metadata": {
        "id": "nRYw_8Vct6uR",
        "colab_type": "text"
      },
      "source": [
        "#### sklearn transformations lead to numpy arrays here I transform the arrays back to dataframes please be mindful of getting the columns assigned correctly"
      ]
    },
    {
      "cell_type": "code",
      "metadata": {
        "id": "EICuqy2BuANv",
        "colab_type": "code",
        "colab": {}
      },
      "source": [
        "X_train= pd.DataFrame(X_train)\n",
        "X_train.columns = features_to_keep\n",
        " \n",
        "X_test= pd.DataFrame(X_test)\n",
        "X_test.columns = features_to_keep"
      ],
      "execution_count": 0,
      "outputs": []
    },
    {
      "cell_type": "markdown",
      "metadata": {
        "id": "lsnKNxVcuIUZ",
        "colab_type": "text"
      },
      "source": [
        "##Remove duplicated features"
      ]
    },
    {
      "cell_type": "code",
      "metadata": {
        "id": "AuVcFhCkuHlY",
        "colab_type": "code",
        "colab": {
          "base_uri": "https://localhost:8080/",
          "height": 493
        },
        "outputId": "da2b3eff-f235-4156-dbe5-c7a204dbe442"
      },
      "source": [
        "duplicated_feat = []\n",
        "for i in range(0, len(X_train.columns)):\n",
        "    if i % 10 == 0:  # this helps me understand how the loop is going\n",
        "        print(i)\n",
        " \n",
        "    col_1 = X_train.columns[i]\n",
        " \n",
        "    for col_2 in X_train.columns[i + 1:]:\n",
        "        if X_train[col_1].equals(X_train[col_2]):\n",
        "            duplicated_feat.append(col_2)\n",
        "            \n",
        "len(duplicated_feat)"
      ],
      "execution_count": 12,
      "outputs": [
        {
          "output_type": "stream",
          "text": [
            "0\n",
            "10\n",
            "20\n",
            "30\n",
            "40\n",
            "50\n",
            "60\n",
            "70\n",
            "80\n",
            "90\n",
            "100\n",
            "110\n",
            "120\n",
            "130\n",
            "140\n",
            "150\n",
            "160\n",
            "170\n",
            "180\n",
            "190\n",
            "200\n",
            "210\n",
            "220\n",
            "230\n",
            "240\n",
            "250\n",
            "260\n"
          ],
          "name": "stdout"
        },
        {
          "output_type": "execute_result",
          "data": {
            "text/plain": [
              "16"
            ]
          },
          "metadata": {
            "tags": []
          },
          "execution_count": 12
        }
      ]
    },
    {
      "cell_type": "code",
      "metadata": {
        "id": "wvyHa2SrvDIK",
        "colab_type": "code",
        "colab": {
          "base_uri": "https://localhost:8080/",
          "height": 34
        },
        "outputId": "a0cf3274-e15b-4c6d-b31a-29656b497700"
      },
      "source": [
        "X_train.drop(labels=duplicated_feat, axis=1, inplace=True)\n",
        "X_test.drop(labels=duplicated_feat, axis=1, inplace=True)\n",
        " \n",
        "X_train.shape, X_test.shape"
      ],
      "execution_count": 13,
      "outputs": [
        {
          "output_type": "execute_result",
          "data": {
            "text/plain": [
              "((53214, 252), (22806, 252))"
            ]
          },
          "metadata": {
            "tags": []
          },
          "execution_count": 13
        }
      ]
    },
    {
      "cell_type": "code",
      "metadata": {
        "id": "LmOfjATKvLSD",
        "colab_type": "code",
        "colab": {}
      },
      "source": [
        "# Keep a copy of the dataset except constant and duplicated variables\n",
        "# to measure the performance of machine learning models\n",
        "# at the end of the notebook\n",
        " \n",
        "X_train_basic_filter = X_train.copy()\n",
        "X_test_basic_filter = X_test.copy()"
      ],
      "execution_count": 0,
      "outputs": []
    },
    {
      "cell_type": "markdown",
      "metadata": {
        "id": "ndvUht7fvO7c",
        "colab_type": "text"
      },
      "source": [
        "##Remove correlated features"
      ]
    },
    {
      "cell_type": "code",
      "metadata": {
        "id": "pvznNWoVvRN9",
        "colab_type": "code",
        "colab": {}
      },
      "source": [
        "# Create correlation matrix\n",
        "df_corr = X_train.corr().abs()"
      ],
      "execution_count": 0,
      "outputs": []
    },
    {
      "cell_type": "code",
      "metadata": {
        "id": "nYKsC2ZtvW2V",
        "colab_type": "code",
        "colab": {
          "base_uri": "https://localhost:8080/",
          "height": 439
        },
        "outputId": "bfb5f983-9eab-4337-d34d-3e5c11859471"
      },
      "source": [
        "# Select upper triangle of correlation matrix\n",
        "import numpy as np\n",
        "upper = df_corr.where(np.triu(np.ones(df_corr.shape),k=1).astype(np.bool))\n",
        "upper"
      ],
      "execution_count": 18,
      "outputs": [
        {
          "output_type": "execute_result",
          "data": {
            "text/html": [
              "<div>\n",
              "<style scoped>\n",
              "    .dataframe tbody tr th:only-of-type {\n",
              "        vertical-align: middle;\n",
              "    }\n",
              "\n",
              "    .dataframe tbody tr th {\n",
              "        vertical-align: top;\n",
              "    }\n",
              "\n",
              "    .dataframe thead th {\n",
              "        text-align: right;\n",
              "    }\n",
              "</style>\n",
              "<table border=\"1\" class=\"dataframe\">\n",
              "  <thead>\n",
              "    <tr style=\"text-align: right;\">\n",
              "      <th></th>\n",
              "      <th>ID</th>\n",
              "      <th>var3</th>\n",
              "      <th>var15</th>\n",
              "      <th>imp_ent_var16_ult1</th>\n",
              "      <th>imp_op_var39_comer_ult1</th>\n",
              "      <th>imp_op_var39_comer_ult3</th>\n",
              "      <th>imp_op_var40_comer_ult1</th>\n",
              "      <th>imp_op_var40_comer_ult3</th>\n",
              "      <th>imp_op_var40_efect_ult1</th>\n",
              "      <th>imp_op_var40_efect_ult3</th>\n",
              "      <th>imp_op_var40_ult1</th>\n",
              "      <th>imp_op_var41_comer_ult1</th>\n",
              "      <th>imp_op_var41_comer_ult3</th>\n",
              "      <th>imp_op_var41_efect_ult1</th>\n",
              "      <th>imp_op_var41_efect_ult3</th>\n",
              "      <th>imp_op_var41_ult1</th>\n",
              "      <th>imp_op_var39_efect_ult1</th>\n",
              "      <th>imp_op_var39_efect_ult3</th>\n",
              "      <th>imp_op_var39_ult1</th>\n",
              "      <th>imp_sal_var16_ult1</th>\n",
              "      <th>ind_var1_0</th>\n",
              "      <th>ind_var5_0</th>\n",
              "      <th>ind_var5</th>\n",
              "      <th>ind_var8_0</th>\n",
              "      <th>ind_var8</th>\n",
              "      <th>ind_var12_0</th>\n",
              "      <th>ind_var12</th>\n",
              "      <th>ind_var13_0</th>\n",
              "      <th>ind_var13_corto_0</th>\n",
              "      <th>ind_var13_corto</th>\n",
              "      <th>ind_var13_largo_0</th>\n",
              "      <th>ind_var13</th>\n",
              "      <th>ind_var14_0</th>\n",
              "      <th>ind_var24_0</th>\n",
              "      <th>ind_var24</th>\n",
              "      <th>ind_var25_cte</th>\n",
              "      <th>ind_var26_0</th>\n",
              "      <th>ind_var26_cte</th>\n",
              "      <th>ind_var25_0</th>\n",
              "      <th>ind_var30</th>\n",
              "      <th>...</th>\n",
              "      <th>num_var45_ult3</th>\n",
              "      <th>saldo_medio_var5_hace2</th>\n",
              "      <th>saldo_medio_var5_hace3</th>\n",
              "      <th>saldo_medio_var5_ult1</th>\n",
              "      <th>saldo_medio_var5_ult3</th>\n",
              "      <th>saldo_medio_var8_hace2</th>\n",
              "      <th>saldo_medio_var8_hace3</th>\n",
              "      <th>saldo_medio_var8_ult1</th>\n",
              "      <th>saldo_medio_var8_ult3</th>\n",
              "      <th>saldo_medio_var12_hace2</th>\n",
              "      <th>saldo_medio_var12_hace3</th>\n",
              "      <th>saldo_medio_var12_ult1</th>\n",
              "      <th>saldo_medio_var12_ult3</th>\n",
              "      <th>saldo_medio_var13_corto_hace2</th>\n",
              "      <th>saldo_medio_var13_corto_hace3</th>\n",
              "      <th>saldo_medio_var13_corto_ult1</th>\n",
              "      <th>saldo_medio_var13_corto_ult3</th>\n",
              "      <th>saldo_medio_var13_largo_hace2</th>\n",
              "      <th>saldo_medio_var13_largo_hace3</th>\n",
              "      <th>saldo_medio_var13_largo_ult1</th>\n",
              "      <th>saldo_medio_var13_largo_ult3</th>\n",
              "      <th>saldo_medio_var13_medio_hace2</th>\n",
              "      <th>saldo_medio_var13_medio_ult3</th>\n",
              "      <th>saldo_medio_var17_hace2</th>\n",
              "      <th>saldo_medio_var17_hace3</th>\n",
              "      <th>saldo_medio_var17_ult1</th>\n",
              "      <th>saldo_medio_var17_ult3</th>\n",
              "      <th>saldo_medio_var29_hace2</th>\n",
              "      <th>saldo_medio_var29_hace3</th>\n",
              "      <th>saldo_medio_var29_ult1</th>\n",
              "      <th>saldo_medio_var29_ult3</th>\n",
              "      <th>saldo_medio_var33_hace2</th>\n",
              "      <th>saldo_medio_var33_hace3</th>\n",
              "      <th>saldo_medio_var33_ult1</th>\n",
              "      <th>saldo_medio_var33_ult3</th>\n",
              "      <th>saldo_medio_var44_hace2</th>\n",
              "      <th>saldo_medio_var44_hace3</th>\n",
              "      <th>saldo_medio_var44_ult1</th>\n",
              "      <th>saldo_medio_var44_ult3</th>\n",
              "      <th>var38</th>\n",
              "    </tr>\n",
              "  </thead>\n",
              "  <tbody>\n",
              "    <tr>\n",
              "      <th>ID</th>\n",
              "      <td>NaN</td>\n",
              "      <td>0.002694</td>\n",
              "      <td>0.001429</td>\n",
              "      <td>0.004771</td>\n",
              "      <td>0.003904</td>\n",
              "      <td>0.001377</td>\n",
              "      <td>0.004445</td>\n",
              "      <td>0.004665</td>\n",
              "      <td>0.007750</td>\n",
              "      <td>0.006784</td>\n",
              "      <td>0.003038</td>\n",
              "      <td>0.005463</td>\n",
              "      <td>0.002843</td>\n",
              "      <td>0.001107</td>\n",
              "      <td>0.003965</td>\n",
              "      <td>0.003121</td>\n",
              "      <td>0.001608</td>\n",
              "      <td>0.004300</td>\n",
              "      <td>0.002635</td>\n",
              "      <td>0.008110</td>\n",
              "      <td>0.000919</td>\n",
              "      <td>0.001349</td>\n",
              "      <td>0.006420</td>\n",
              "      <td>0.001694</td>\n",
              "      <td>0.000372</td>\n",
              "      <td>0.006295</td>\n",
              "      <td>0.007615</td>\n",
              "      <td>0.000129</td>\n",
              "      <td>0.001859</td>\n",
              "      <td>0.001979</td>\n",
              "      <td>0.003868</td>\n",
              "      <td>0.000180</td>\n",
              "      <td>0.002131</td>\n",
              "      <td>0.006357</td>\n",
              "      <td>0.008895</td>\n",
              "      <td>0.001309</td>\n",
              "      <td>0.000252</td>\n",
              "      <td>0.000122</td>\n",
              "      <td>0.001569</td>\n",
              "      <td>0.003460</td>\n",
              "      <td>...</td>\n",
              "      <td>0.004687</td>\n",
              "      <td>0.002832</td>\n",
              "      <td>0.005645</td>\n",
              "      <td>0.004079</td>\n",
              "      <td>0.001265</td>\n",
              "      <td>0.004102</td>\n",
              "      <td>0.000570</td>\n",
              "      <td>0.000034</td>\n",
              "      <td>0.000345</td>\n",
              "      <td>0.004028</td>\n",
              "      <td>0.006703</td>\n",
              "      <td>0.003079</td>\n",
              "      <td>0.003152</td>\n",
              "      <td>0.004016</td>\n",
              "      <td>0.000811</td>\n",
              "      <td>0.002639</td>\n",
              "      <td>0.002627</td>\n",
              "      <td>0.006608</td>\n",
              "      <td>0.002597</td>\n",
              "      <td>0.008487</td>\n",
              "      <td>0.009177</td>\n",
              "      <td>0.005418</td>\n",
              "      <td>0.005418</td>\n",
              "      <td>0.006205</td>\n",
              "      <td>0.000611</td>\n",
              "      <td>0.009187</td>\n",
              "      <td>0.008606</td>\n",
              "      <td>0.006619</td>\n",
              "      <td>0.000187</td>\n",
              "      <td>0.007134</td>\n",
              "      <td>0.009078</td>\n",
              "      <td>0.007105</td>\n",
              "      <td>0.007444</td>\n",
              "      <td>0.003968</td>\n",
              "      <td>0.004385</td>\n",
              "      <td>0.003306</td>\n",
              "      <td>0.000275</td>\n",
              "      <td>0.000197</td>\n",
              "      <td>0.001404</td>\n",
              "      <td>0.002467</td>\n",
              "    </tr>\n",
              "    <tr>\n",
              "      <th>var3</th>\n",
              "      <td>NaN</td>\n",
              "      <td>NaN</td>\n",
              "      <td>0.003769</td>\n",
              "      <td>0.001790</td>\n",
              "      <td>0.005309</td>\n",
              "      <td>0.006322</td>\n",
              "      <td>0.001540</td>\n",
              "      <td>0.001697</td>\n",
              "      <td>0.000536</td>\n",
              "      <td>0.000632</td>\n",
              "      <td>0.001301</td>\n",
              "      <td>0.005203</td>\n",
              "      <td>0.006247</td>\n",
              "      <td>0.002917</td>\n",
              "      <td>0.004218</td>\n",
              "      <td>0.004627</td>\n",
              "      <td>0.002927</td>\n",
              "      <td>0.004225</td>\n",
              "      <td>0.004697</td>\n",
              "      <td>0.000465</td>\n",
              "      <td>0.000285</td>\n",
              "      <td>0.008462</td>\n",
              "      <td>0.037967</td>\n",
              "      <td>0.007395</td>\n",
              "      <td>0.006882</td>\n",
              "      <td>0.010793</td>\n",
              "      <td>0.008750</td>\n",
              "      <td>0.009424</td>\n",
              "      <td>0.008503</td>\n",
              "      <td>0.008339</td>\n",
              "      <td>0.004066</td>\n",
              "      <td>0.009278</td>\n",
              "      <td>0.006257</td>\n",
              "      <td>0.008434</td>\n",
              "      <td>0.007987</td>\n",
              "      <td>0.006577</td>\n",
              "      <td>0.006379</td>\n",
              "      <td>0.006738</td>\n",
              "      <td>0.006223</td>\n",
              "      <td>0.046814</td>\n",
              "      <td>...</td>\n",
              "      <td>0.008330</td>\n",
              "      <td>0.004412</td>\n",
              "      <td>0.004415</td>\n",
              "      <td>0.003101</td>\n",
              "      <td>0.004053</td>\n",
              "      <td>0.001747</td>\n",
              "      <td>0.000896</td>\n",
              "      <td>0.002322</td>\n",
              "      <td>0.002333</td>\n",
              "      <td>0.004559</td>\n",
              "      <td>0.002709</td>\n",
              "      <td>0.005214</td>\n",
              "      <td>0.005250</td>\n",
              "      <td>0.005567</td>\n",
              "      <td>0.003161</td>\n",
              "      <td>0.006123</td>\n",
              "      <td>0.006077</td>\n",
              "      <td>0.002382</td>\n",
              "      <td>0.001406</td>\n",
              "      <td>0.002556</td>\n",
              "      <td>0.002533</td>\n",
              "      <td>0.000173</td>\n",
              "      <td>0.000173</td>\n",
              "      <td>0.000767</td>\n",
              "      <td>0.000410</td>\n",
              "      <td>0.000866</td>\n",
              "      <td>0.000952</td>\n",
              "      <td>0.000203</td>\n",
              "      <td>0.000174</td>\n",
              "      <td>0.000233</td>\n",
              "      <td>0.000280</td>\n",
              "      <td>0.000738</td>\n",
              "      <td>0.000553</td>\n",
              "      <td>0.000732</td>\n",
              "      <td>0.000770</td>\n",
              "      <td>0.000642</td>\n",
              "      <td>0.000465</td>\n",
              "      <td>0.000769</td>\n",
              "      <td>0.000805</td>\n",
              "      <td>0.000140</td>\n",
              "    </tr>\n",
              "    <tr>\n",
              "      <th>var15</th>\n",
              "      <td>NaN</td>\n",
              "      <td>NaN</td>\n",
              "      <td>NaN</td>\n",
              "      <td>0.042432</td>\n",
              "      <td>0.095696</td>\n",
              "      <td>0.101386</td>\n",
              "      <td>0.042572</td>\n",
              "      <td>0.045842</td>\n",
              "      <td>0.008120</td>\n",
              "      <td>0.009172</td>\n",
              "      <td>0.033432</td>\n",
              "      <td>0.089442</td>\n",
              "      <td>0.094711</td>\n",
              "      <td>0.086844</td>\n",
              "      <td>0.093605</td>\n",
              "      <td>0.106290</td>\n",
              "      <td>0.086632</td>\n",
              "      <td>0.093492</td>\n",
              "      <td>0.108378</td>\n",
              "      <td>0.014031</td>\n",
              "      <td>0.103099</td>\n",
              "      <td>0.116352</td>\n",
              "      <td>0.100383</td>\n",
              "      <td>0.114480</td>\n",
              "      <td>0.102165</td>\n",
              "      <td>0.267580</td>\n",
              "      <td>0.222715</td>\n",
              "      <td>0.298271</td>\n",
              "      <td>0.245620</td>\n",
              "      <td>0.242714</td>\n",
              "      <td>0.178713</td>\n",
              "      <td>0.296400</td>\n",
              "      <td>0.154429</td>\n",
              "      <td>0.256206</td>\n",
              "      <td>0.247284</td>\n",
              "      <td>0.081814</td>\n",
              "      <td>0.095670</td>\n",
              "      <td>0.098136</td>\n",
              "      <td>0.080183</td>\n",
              "      <td>0.032738</td>\n",
              "      <td>...</td>\n",
              "      <td>0.229652</td>\n",
              "      <td>0.182474</td>\n",
              "      <td>0.165709</td>\n",
              "      <td>0.125532</td>\n",
              "      <td>0.171304</td>\n",
              "      <td>0.045925</td>\n",
              "      <td>0.026300</td>\n",
              "      <td>0.056655</td>\n",
              "      <td>0.060254</td>\n",
              "      <td>0.176145</td>\n",
              "      <td>0.114159</td>\n",
              "      <td>0.195514</td>\n",
              "      <td>0.197795</td>\n",
              "      <td>0.190344</td>\n",
              "      <td>0.108053</td>\n",
              "      <td>0.210769</td>\n",
              "      <td>0.208317</td>\n",
              "      <td>0.120251</td>\n",
              "      <td>0.070837</td>\n",
              "      <td>0.125647</td>\n",
              "      <td>0.123679</td>\n",
              "      <td>0.003567</td>\n",
              "      <td>0.003567</td>\n",
              "      <td>0.047659</td>\n",
              "      <td>0.025522</td>\n",
              "      <td>0.046276</td>\n",
              "      <td>0.053101</td>\n",
              "      <td>0.007300</td>\n",
              "      <td>0.003421</td>\n",
              "      <td>0.012665</td>\n",
              "      <td>0.013782</td>\n",
              "      <td>0.027528</td>\n",
              "      <td>0.018402</td>\n",
              "      <td>0.028426</td>\n",
              "      <td>0.029238</td>\n",
              "      <td>0.031925</td>\n",
              "      <td>0.019212</td>\n",
              "      <td>0.034742</td>\n",
              "      <td>0.034995</td>\n",
              "      <td>0.004416</td>\n",
              "    </tr>\n",
              "    <tr>\n",
              "      <th>imp_ent_var16_ult1</th>\n",
              "      <td>NaN</td>\n",
              "      <td>NaN</td>\n",
              "      <td>NaN</td>\n",
              "      <td>NaN</td>\n",
              "      <td>0.042590</td>\n",
              "      <td>0.035779</td>\n",
              "      <td>0.013211</td>\n",
              "      <td>0.012599</td>\n",
              "      <td>0.000342</td>\n",
              "      <td>0.000678</td>\n",
              "      <td>0.014719</td>\n",
              "      <td>0.041491</td>\n",
              "      <td>0.034476</td>\n",
              "      <td>0.026414</td>\n",
              "      <td>0.022779</td>\n",
              "      <td>0.039745</td>\n",
              "      <td>0.026165</td>\n",
              "      <td>0.022668</td>\n",
              "      <td>0.040828</td>\n",
              "      <td>0.000205</td>\n",
              "      <td>0.019241</td>\n",
              "      <td>0.000971</td>\n",
              "      <td>0.020472</td>\n",
              "      <td>0.003398</td>\n",
              "      <td>0.004982</td>\n",
              "      <td>0.038615</td>\n",
              "      <td>0.046117</td>\n",
              "      <td>0.024649</td>\n",
              "      <td>0.025463</td>\n",
              "      <td>0.025269</td>\n",
              "      <td>0.002792</td>\n",
              "      <td>0.024399</td>\n",
              "      <td>0.012924</td>\n",
              "      <td>0.042764</td>\n",
              "      <td>0.043673</td>\n",
              "      <td>0.006353</td>\n",
              "      <td>0.005535</td>\n",
              "      <td>0.005818</td>\n",
              "      <td>0.006057</td>\n",
              "      <td>0.031150</td>\n",
              "      <td>...</td>\n",
              "      <td>0.043009</td>\n",
              "      <td>0.004613</td>\n",
              "      <td>0.002274</td>\n",
              "      <td>0.021106</td>\n",
              "      <td>0.013850</td>\n",
              "      <td>0.006537</td>\n",
              "      <td>0.002496</td>\n",
              "      <td>0.008257</td>\n",
              "      <td>0.007797</td>\n",
              "      <td>0.015703</td>\n",
              "      <td>0.002707</td>\n",
              "      <td>0.024910</td>\n",
              "      <td>0.023328</td>\n",
              "      <td>0.000276</td>\n",
              "      <td>0.000929</td>\n",
              "      <td>0.011348</td>\n",
              "      <td>0.013954</td>\n",
              "      <td>0.002847</td>\n",
              "      <td>0.001576</td>\n",
              "      <td>0.003036</td>\n",
              "      <td>0.002991</td>\n",
              "      <td>0.000227</td>\n",
              "      <td>0.000227</td>\n",
              "      <td>0.000969</td>\n",
              "      <td>0.000517</td>\n",
              "      <td>0.000765</td>\n",
              "      <td>0.000974</td>\n",
              "      <td>0.000267</td>\n",
              "      <td>0.000227</td>\n",
              "      <td>0.005399</td>\n",
              "      <td>0.008953</td>\n",
              "      <td>0.000910</td>\n",
              "      <td>0.000684</td>\n",
              "      <td>0.000888</td>\n",
              "      <td>0.000931</td>\n",
              "      <td>0.003087</td>\n",
              "      <td>0.000595</td>\n",
              "      <td>0.006117</td>\n",
              "      <td>0.008007</td>\n",
              "      <td>0.000348</td>\n",
              "    </tr>\n",
              "    <tr>\n",
              "      <th>imp_op_var39_comer_ult1</th>\n",
              "      <td>NaN</td>\n",
              "      <td>NaN</td>\n",
              "      <td>NaN</td>\n",
              "      <td>NaN</td>\n",
              "      <td>NaN</td>\n",
              "      <td>0.889181</td>\n",
              "      <td>0.353187</td>\n",
              "      <td>0.304416</td>\n",
              "      <td>0.029921</td>\n",
              "      <td>0.051720</td>\n",
              "      <td>0.246994</td>\n",
              "      <td>0.961564</td>\n",
              "      <td>0.859373</td>\n",
              "      <td>0.295368</td>\n",
              "      <td>0.323327</td>\n",
              "      <td>0.649083</td>\n",
              "      <td>0.294799</td>\n",
              "      <td>0.323999</td>\n",
              "      <td>0.667666</td>\n",
              "      <td>0.026668</td>\n",
              "      <td>0.249902</td>\n",
              "      <td>0.223220</td>\n",
              "      <td>0.035679</td>\n",
              "      <td>0.221870</td>\n",
              "      <td>0.242594</td>\n",
              "      <td>0.009289</td>\n",
              "      <td>0.018482</td>\n",
              "      <td>0.022446</td>\n",
              "      <td>0.021377</td>\n",
              "      <td>0.021194</td>\n",
              "      <td>0.007182</td>\n",
              "      <td>0.022546</td>\n",
              "      <td>0.017519</td>\n",
              "      <td>0.002223</td>\n",
              "      <td>0.000491</td>\n",
              "      <td>0.253253</td>\n",
              "      <td>0.246547</td>\n",
              "      <td>0.248257</td>\n",
              "      <td>0.251522</td>\n",
              "      <td>0.107845</td>\n",
              "      <td>...</td>\n",
              "      <td>0.287894</td>\n",
              "      <td>0.019377</td>\n",
              "      <td>0.006792</td>\n",
              "      <td>0.041570</td>\n",
              "      <td>0.029101</td>\n",
              "      <td>0.104661</td>\n",
              "      <td>0.057691</td>\n",
              "      <td>0.149924</td>\n",
              "      <td>0.136618</td>\n",
              "      <td>0.006881</td>\n",
              "      <td>0.005021</td>\n",
              "      <td>0.008866</td>\n",
              "      <td>0.008249</td>\n",
              "      <td>0.021636</td>\n",
              "      <td>0.013430</td>\n",
              "      <td>0.023293</td>\n",
              "      <td>0.023242</td>\n",
              "      <td>0.005526</td>\n",
              "      <td>0.001096</td>\n",
              "      <td>0.006882</td>\n",
              "      <td>0.006855</td>\n",
              "      <td>0.000928</td>\n",
              "      <td>0.000928</td>\n",
              "      <td>0.009232</td>\n",
              "      <td>0.000128</td>\n",
              "      <td>0.003745</td>\n",
              "      <td>0.005309</td>\n",
              "      <td>0.001089</td>\n",
              "      <td>0.000928</td>\n",
              "      <td>0.000475</td>\n",
              "      <td>0.001317</td>\n",
              "      <td>0.023219</td>\n",
              "      <td>0.019279</td>\n",
              "      <td>0.018805</td>\n",
              "      <td>0.020868</td>\n",
              "      <td>0.010844</td>\n",
              "      <td>0.008638</td>\n",
              "      <td>0.013411</td>\n",
              "      <td>0.012702</td>\n",
              "      <td>0.009369</td>\n",
              "    </tr>\n",
              "    <tr>\n",
              "      <th>...</th>\n",
              "      <td>...</td>\n",
              "      <td>...</td>\n",
              "      <td>...</td>\n",
              "      <td>...</td>\n",
              "      <td>...</td>\n",
              "      <td>...</td>\n",
              "      <td>...</td>\n",
              "      <td>...</td>\n",
              "      <td>...</td>\n",
              "      <td>...</td>\n",
              "      <td>...</td>\n",
              "      <td>...</td>\n",
              "      <td>...</td>\n",
              "      <td>...</td>\n",
              "      <td>...</td>\n",
              "      <td>...</td>\n",
              "      <td>...</td>\n",
              "      <td>...</td>\n",
              "      <td>...</td>\n",
              "      <td>...</td>\n",
              "      <td>...</td>\n",
              "      <td>...</td>\n",
              "      <td>...</td>\n",
              "      <td>...</td>\n",
              "      <td>...</td>\n",
              "      <td>...</td>\n",
              "      <td>...</td>\n",
              "      <td>...</td>\n",
              "      <td>...</td>\n",
              "      <td>...</td>\n",
              "      <td>...</td>\n",
              "      <td>...</td>\n",
              "      <td>...</td>\n",
              "      <td>...</td>\n",
              "      <td>...</td>\n",
              "      <td>...</td>\n",
              "      <td>...</td>\n",
              "      <td>...</td>\n",
              "      <td>...</td>\n",
              "      <td>...</td>\n",
              "      <td>...</td>\n",
              "      <td>...</td>\n",
              "      <td>...</td>\n",
              "      <td>...</td>\n",
              "      <td>...</td>\n",
              "      <td>...</td>\n",
              "      <td>...</td>\n",
              "      <td>...</td>\n",
              "      <td>...</td>\n",
              "      <td>...</td>\n",
              "      <td>...</td>\n",
              "      <td>...</td>\n",
              "      <td>...</td>\n",
              "      <td>...</td>\n",
              "      <td>...</td>\n",
              "      <td>...</td>\n",
              "      <td>...</td>\n",
              "      <td>...</td>\n",
              "      <td>...</td>\n",
              "      <td>...</td>\n",
              "      <td>...</td>\n",
              "      <td>...</td>\n",
              "      <td>...</td>\n",
              "      <td>...</td>\n",
              "      <td>...</td>\n",
              "      <td>...</td>\n",
              "      <td>...</td>\n",
              "      <td>...</td>\n",
              "      <td>...</td>\n",
              "      <td>...</td>\n",
              "      <td>...</td>\n",
              "      <td>...</td>\n",
              "      <td>...</td>\n",
              "      <td>...</td>\n",
              "      <td>...</td>\n",
              "      <td>...</td>\n",
              "      <td>...</td>\n",
              "      <td>...</td>\n",
              "      <td>...</td>\n",
              "      <td>...</td>\n",
              "      <td>...</td>\n",
              "    </tr>\n",
              "    <tr>\n",
              "      <th>saldo_medio_var44_hace2</th>\n",
              "      <td>NaN</td>\n",
              "      <td>NaN</td>\n",
              "      <td>NaN</td>\n",
              "      <td>NaN</td>\n",
              "      <td>NaN</td>\n",
              "      <td>NaN</td>\n",
              "      <td>NaN</td>\n",
              "      <td>NaN</td>\n",
              "      <td>NaN</td>\n",
              "      <td>NaN</td>\n",
              "      <td>NaN</td>\n",
              "      <td>NaN</td>\n",
              "      <td>NaN</td>\n",
              "      <td>NaN</td>\n",
              "      <td>NaN</td>\n",
              "      <td>NaN</td>\n",
              "      <td>NaN</td>\n",
              "      <td>NaN</td>\n",
              "      <td>NaN</td>\n",
              "      <td>NaN</td>\n",
              "      <td>NaN</td>\n",
              "      <td>NaN</td>\n",
              "      <td>NaN</td>\n",
              "      <td>NaN</td>\n",
              "      <td>NaN</td>\n",
              "      <td>NaN</td>\n",
              "      <td>NaN</td>\n",
              "      <td>NaN</td>\n",
              "      <td>NaN</td>\n",
              "      <td>NaN</td>\n",
              "      <td>NaN</td>\n",
              "      <td>NaN</td>\n",
              "      <td>NaN</td>\n",
              "      <td>NaN</td>\n",
              "      <td>NaN</td>\n",
              "      <td>NaN</td>\n",
              "      <td>NaN</td>\n",
              "      <td>NaN</td>\n",
              "      <td>NaN</td>\n",
              "      <td>NaN</td>\n",
              "      <td>...</td>\n",
              "      <td>NaN</td>\n",
              "      <td>NaN</td>\n",
              "      <td>NaN</td>\n",
              "      <td>NaN</td>\n",
              "      <td>NaN</td>\n",
              "      <td>NaN</td>\n",
              "      <td>NaN</td>\n",
              "      <td>NaN</td>\n",
              "      <td>NaN</td>\n",
              "      <td>NaN</td>\n",
              "      <td>NaN</td>\n",
              "      <td>NaN</td>\n",
              "      <td>NaN</td>\n",
              "      <td>NaN</td>\n",
              "      <td>NaN</td>\n",
              "      <td>NaN</td>\n",
              "      <td>NaN</td>\n",
              "      <td>NaN</td>\n",
              "      <td>NaN</td>\n",
              "      <td>NaN</td>\n",
              "      <td>NaN</td>\n",
              "      <td>NaN</td>\n",
              "      <td>NaN</td>\n",
              "      <td>NaN</td>\n",
              "      <td>NaN</td>\n",
              "      <td>NaN</td>\n",
              "      <td>NaN</td>\n",
              "      <td>NaN</td>\n",
              "      <td>NaN</td>\n",
              "      <td>NaN</td>\n",
              "      <td>NaN</td>\n",
              "      <td>NaN</td>\n",
              "      <td>NaN</td>\n",
              "      <td>NaN</td>\n",
              "      <td>NaN</td>\n",
              "      <td>NaN</td>\n",
              "      <td>0.325992</td>\n",
              "      <td>0.821524</td>\n",
              "      <td>0.711449</td>\n",
              "      <td>0.002998</td>\n",
              "    </tr>\n",
              "    <tr>\n",
              "      <th>saldo_medio_var44_hace3</th>\n",
              "      <td>NaN</td>\n",
              "      <td>NaN</td>\n",
              "      <td>NaN</td>\n",
              "      <td>NaN</td>\n",
              "      <td>NaN</td>\n",
              "      <td>NaN</td>\n",
              "      <td>NaN</td>\n",
              "      <td>NaN</td>\n",
              "      <td>NaN</td>\n",
              "      <td>NaN</td>\n",
              "      <td>NaN</td>\n",
              "      <td>NaN</td>\n",
              "      <td>NaN</td>\n",
              "      <td>NaN</td>\n",
              "      <td>NaN</td>\n",
              "      <td>NaN</td>\n",
              "      <td>NaN</td>\n",
              "      <td>NaN</td>\n",
              "      <td>NaN</td>\n",
              "      <td>NaN</td>\n",
              "      <td>NaN</td>\n",
              "      <td>NaN</td>\n",
              "      <td>NaN</td>\n",
              "      <td>NaN</td>\n",
              "      <td>NaN</td>\n",
              "      <td>NaN</td>\n",
              "      <td>NaN</td>\n",
              "      <td>NaN</td>\n",
              "      <td>NaN</td>\n",
              "      <td>NaN</td>\n",
              "      <td>NaN</td>\n",
              "      <td>NaN</td>\n",
              "      <td>NaN</td>\n",
              "      <td>NaN</td>\n",
              "      <td>NaN</td>\n",
              "      <td>NaN</td>\n",
              "      <td>NaN</td>\n",
              "      <td>NaN</td>\n",
              "      <td>NaN</td>\n",
              "      <td>NaN</td>\n",
              "      <td>...</td>\n",
              "      <td>NaN</td>\n",
              "      <td>NaN</td>\n",
              "      <td>NaN</td>\n",
              "      <td>NaN</td>\n",
              "      <td>NaN</td>\n",
              "      <td>NaN</td>\n",
              "      <td>NaN</td>\n",
              "      <td>NaN</td>\n",
              "      <td>NaN</td>\n",
              "      <td>NaN</td>\n",
              "      <td>NaN</td>\n",
              "      <td>NaN</td>\n",
              "      <td>NaN</td>\n",
              "      <td>NaN</td>\n",
              "      <td>NaN</td>\n",
              "      <td>NaN</td>\n",
              "      <td>NaN</td>\n",
              "      <td>NaN</td>\n",
              "      <td>NaN</td>\n",
              "      <td>NaN</td>\n",
              "      <td>NaN</td>\n",
              "      <td>NaN</td>\n",
              "      <td>NaN</td>\n",
              "      <td>NaN</td>\n",
              "      <td>NaN</td>\n",
              "      <td>NaN</td>\n",
              "      <td>NaN</td>\n",
              "      <td>NaN</td>\n",
              "      <td>NaN</td>\n",
              "      <td>NaN</td>\n",
              "      <td>NaN</td>\n",
              "      <td>NaN</td>\n",
              "      <td>NaN</td>\n",
              "      <td>NaN</td>\n",
              "      <td>NaN</td>\n",
              "      <td>NaN</td>\n",
              "      <td>NaN</td>\n",
              "      <td>0.243201</td>\n",
              "      <td>0.218338</td>\n",
              "      <td>0.001874</td>\n",
              "    </tr>\n",
              "    <tr>\n",
              "      <th>saldo_medio_var44_ult1</th>\n",
              "      <td>NaN</td>\n",
              "      <td>NaN</td>\n",
              "      <td>NaN</td>\n",
              "      <td>NaN</td>\n",
              "      <td>NaN</td>\n",
              "      <td>NaN</td>\n",
              "      <td>NaN</td>\n",
              "      <td>NaN</td>\n",
              "      <td>NaN</td>\n",
              "      <td>NaN</td>\n",
              "      <td>NaN</td>\n",
              "      <td>NaN</td>\n",
              "      <td>NaN</td>\n",
              "      <td>NaN</td>\n",
              "      <td>NaN</td>\n",
              "      <td>NaN</td>\n",
              "      <td>NaN</td>\n",
              "      <td>NaN</td>\n",
              "      <td>NaN</td>\n",
              "      <td>NaN</td>\n",
              "      <td>NaN</td>\n",
              "      <td>NaN</td>\n",
              "      <td>NaN</td>\n",
              "      <td>NaN</td>\n",
              "      <td>NaN</td>\n",
              "      <td>NaN</td>\n",
              "      <td>NaN</td>\n",
              "      <td>NaN</td>\n",
              "      <td>NaN</td>\n",
              "      <td>NaN</td>\n",
              "      <td>NaN</td>\n",
              "      <td>NaN</td>\n",
              "      <td>NaN</td>\n",
              "      <td>NaN</td>\n",
              "      <td>NaN</td>\n",
              "      <td>NaN</td>\n",
              "      <td>NaN</td>\n",
              "      <td>NaN</td>\n",
              "      <td>NaN</td>\n",
              "      <td>NaN</td>\n",
              "      <td>...</td>\n",
              "      <td>NaN</td>\n",
              "      <td>NaN</td>\n",
              "      <td>NaN</td>\n",
              "      <td>NaN</td>\n",
              "      <td>NaN</td>\n",
              "      <td>NaN</td>\n",
              "      <td>NaN</td>\n",
              "      <td>NaN</td>\n",
              "      <td>NaN</td>\n",
              "      <td>NaN</td>\n",
              "      <td>NaN</td>\n",
              "      <td>NaN</td>\n",
              "      <td>NaN</td>\n",
              "      <td>NaN</td>\n",
              "      <td>NaN</td>\n",
              "      <td>NaN</td>\n",
              "      <td>NaN</td>\n",
              "      <td>NaN</td>\n",
              "      <td>NaN</td>\n",
              "      <td>NaN</td>\n",
              "      <td>NaN</td>\n",
              "      <td>NaN</td>\n",
              "      <td>NaN</td>\n",
              "      <td>NaN</td>\n",
              "      <td>NaN</td>\n",
              "      <td>NaN</td>\n",
              "      <td>NaN</td>\n",
              "      <td>NaN</td>\n",
              "      <td>NaN</td>\n",
              "      <td>NaN</td>\n",
              "      <td>NaN</td>\n",
              "      <td>NaN</td>\n",
              "      <td>NaN</td>\n",
              "      <td>NaN</td>\n",
              "      <td>NaN</td>\n",
              "      <td>NaN</td>\n",
              "      <td>NaN</td>\n",
              "      <td>NaN</td>\n",
              "      <td>0.968123</td>\n",
              "      <td>0.003435</td>\n",
              "    </tr>\n",
              "    <tr>\n",
              "      <th>saldo_medio_var44_ult3</th>\n",
              "      <td>NaN</td>\n",
              "      <td>NaN</td>\n",
              "      <td>NaN</td>\n",
              "      <td>NaN</td>\n",
              "      <td>NaN</td>\n",
              "      <td>NaN</td>\n",
              "      <td>NaN</td>\n",
              "      <td>NaN</td>\n",
              "      <td>NaN</td>\n",
              "      <td>NaN</td>\n",
              "      <td>NaN</td>\n",
              "      <td>NaN</td>\n",
              "      <td>NaN</td>\n",
              "      <td>NaN</td>\n",
              "      <td>NaN</td>\n",
              "      <td>NaN</td>\n",
              "      <td>NaN</td>\n",
              "      <td>NaN</td>\n",
              "      <td>NaN</td>\n",
              "      <td>NaN</td>\n",
              "      <td>NaN</td>\n",
              "      <td>NaN</td>\n",
              "      <td>NaN</td>\n",
              "      <td>NaN</td>\n",
              "      <td>NaN</td>\n",
              "      <td>NaN</td>\n",
              "      <td>NaN</td>\n",
              "      <td>NaN</td>\n",
              "      <td>NaN</td>\n",
              "      <td>NaN</td>\n",
              "      <td>NaN</td>\n",
              "      <td>NaN</td>\n",
              "      <td>NaN</td>\n",
              "      <td>NaN</td>\n",
              "      <td>NaN</td>\n",
              "      <td>NaN</td>\n",
              "      <td>NaN</td>\n",
              "      <td>NaN</td>\n",
              "      <td>NaN</td>\n",
              "      <td>NaN</td>\n",
              "      <td>...</td>\n",
              "      <td>NaN</td>\n",
              "      <td>NaN</td>\n",
              "      <td>NaN</td>\n",
              "      <td>NaN</td>\n",
              "      <td>NaN</td>\n",
              "      <td>NaN</td>\n",
              "      <td>NaN</td>\n",
              "      <td>NaN</td>\n",
              "      <td>NaN</td>\n",
              "      <td>NaN</td>\n",
              "      <td>NaN</td>\n",
              "      <td>NaN</td>\n",
              "      <td>NaN</td>\n",
              "      <td>NaN</td>\n",
              "      <td>NaN</td>\n",
              "      <td>NaN</td>\n",
              "      <td>NaN</td>\n",
              "      <td>NaN</td>\n",
              "      <td>NaN</td>\n",
              "      <td>NaN</td>\n",
              "      <td>NaN</td>\n",
              "      <td>NaN</td>\n",
              "      <td>NaN</td>\n",
              "      <td>NaN</td>\n",
              "      <td>NaN</td>\n",
              "      <td>NaN</td>\n",
              "      <td>NaN</td>\n",
              "      <td>NaN</td>\n",
              "      <td>NaN</td>\n",
              "      <td>NaN</td>\n",
              "      <td>NaN</td>\n",
              "      <td>NaN</td>\n",
              "      <td>NaN</td>\n",
              "      <td>NaN</td>\n",
              "      <td>NaN</td>\n",
              "      <td>NaN</td>\n",
              "      <td>NaN</td>\n",
              "      <td>NaN</td>\n",
              "      <td>NaN</td>\n",
              "      <td>0.003031</td>\n",
              "    </tr>\n",
              "    <tr>\n",
              "      <th>var38</th>\n",
              "      <td>NaN</td>\n",
              "      <td>NaN</td>\n",
              "      <td>NaN</td>\n",
              "      <td>NaN</td>\n",
              "      <td>NaN</td>\n",
              "      <td>NaN</td>\n",
              "      <td>NaN</td>\n",
              "      <td>NaN</td>\n",
              "      <td>NaN</td>\n",
              "      <td>NaN</td>\n",
              "      <td>NaN</td>\n",
              "      <td>NaN</td>\n",
              "      <td>NaN</td>\n",
              "      <td>NaN</td>\n",
              "      <td>NaN</td>\n",
              "      <td>NaN</td>\n",
              "      <td>NaN</td>\n",
              "      <td>NaN</td>\n",
              "      <td>NaN</td>\n",
              "      <td>NaN</td>\n",
              "      <td>NaN</td>\n",
              "      <td>NaN</td>\n",
              "      <td>NaN</td>\n",
              "      <td>NaN</td>\n",
              "      <td>NaN</td>\n",
              "      <td>NaN</td>\n",
              "      <td>NaN</td>\n",
              "      <td>NaN</td>\n",
              "      <td>NaN</td>\n",
              "      <td>NaN</td>\n",
              "      <td>NaN</td>\n",
              "      <td>NaN</td>\n",
              "      <td>NaN</td>\n",
              "      <td>NaN</td>\n",
              "      <td>NaN</td>\n",
              "      <td>NaN</td>\n",
              "      <td>NaN</td>\n",
              "      <td>NaN</td>\n",
              "      <td>NaN</td>\n",
              "      <td>NaN</td>\n",
              "      <td>...</td>\n",
              "      <td>NaN</td>\n",
              "      <td>NaN</td>\n",
              "      <td>NaN</td>\n",
              "      <td>NaN</td>\n",
              "      <td>NaN</td>\n",
              "      <td>NaN</td>\n",
              "      <td>NaN</td>\n",
              "      <td>NaN</td>\n",
              "      <td>NaN</td>\n",
              "      <td>NaN</td>\n",
              "      <td>NaN</td>\n",
              "      <td>NaN</td>\n",
              "      <td>NaN</td>\n",
              "      <td>NaN</td>\n",
              "      <td>NaN</td>\n",
              "      <td>NaN</td>\n",
              "      <td>NaN</td>\n",
              "      <td>NaN</td>\n",
              "      <td>NaN</td>\n",
              "      <td>NaN</td>\n",
              "      <td>NaN</td>\n",
              "      <td>NaN</td>\n",
              "      <td>NaN</td>\n",
              "      <td>NaN</td>\n",
              "      <td>NaN</td>\n",
              "      <td>NaN</td>\n",
              "      <td>NaN</td>\n",
              "      <td>NaN</td>\n",
              "      <td>NaN</td>\n",
              "      <td>NaN</td>\n",
              "      <td>NaN</td>\n",
              "      <td>NaN</td>\n",
              "      <td>NaN</td>\n",
              "      <td>NaN</td>\n",
              "      <td>NaN</td>\n",
              "      <td>NaN</td>\n",
              "      <td>NaN</td>\n",
              "      <td>NaN</td>\n",
              "      <td>NaN</td>\n",
              "      <td>NaN</td>\n",
              "    </tr>\n",
              "  </tbody>\n",
              "</table>\n",
              "<p>252 rows × 252 columns</p>\n",
              "</div>"
            ],
            "text/plain": [
              "                         ID      var3  ...  saldo_medio_var44_ult3     var38\n",
              "ID                      NaN  0.002694  ...                0.001404  0.002467\n",
              "var3                    NaN       NaN  ...                0.000805  0.000140\n",
              "var15                   NaN       NaN  ...                0.034995  0.004416\n",
              "imp_ent_var16_ult1      NaN       NaN  ...                0.008007  0.000348\n",
              "imp_op_var39_comer_ult1 NaN       NaN  ...                0.012702  0.009369\n",
              "...                      ..       ...  ...                     ...       ...\n",
              "saldo_medio_var44_hace2 NaN       NaN  ...                0.711449  0.002998\n",
              "saldo_medio_var44_hace3 NaN       NaN  ...                0.218338  0.001874\n",
              "saldo_medio_var44_ult1  NaN       NaN  ...                0.968123  0.003435\n",
              "saldo_medio_var44_ult3  NaN       NaN  ...                     NaN  0.003031\n",
              "var38                   NaN       NaN  ...                     NaN       NaN\n",
              "\n",
              "[252 rows x 252 columns]"
            ]
          },
          "metadata": {
            "tags": []
          },
          "execution_count": 18
        }
      ]
    },
    {
      "cell_type": "code",
      "metadata": {
        "id": "QqXS8Jcfv-cu",
        "colab_type": "code",
        "colab": {
          "base_uri": "https://localhost:8080/",
          "height": 1000
        },
        "outputId": "2569aefa-b69a-495a-91cd-2558ca930e9c"
      },
      "source": [
        "# Find features with correlation greater than 0.80\n",
        "to_drop = [column for column in upper.columns if any(upper[column] > 0.80)]\n",
        "to_drop"
      ],
      "execution_count": 19,
      "outputs": [
        {
          "output_type": "execute_result",
          "data": {
            "text/plain": [
              "['imp_op_var39_comer_ult3',\n",
              " 'imp_op_var40_comer_ult3',\n",
              " 'imp_op_var40_efect_ult3',\n",
              " 'imp_op_var41_comer_ult1',\n",
              " 'imp_op_var41_comer_ult3',\n",
              " 'imp_op_var41_efect_ult3',\n",
              " 'imp_op_var41_ult1',\n",
              " 'imp_op_var39_efect_ult1',\n",
              " 'imp_op_var39_efect_ult3',\n",
              " 'imp_op_var39_ult1',\n",
              " 'ind_var8_0',\n",
              " 'ind_var8',\n",
              " 'ind_var12',\n",
              " 'ind_var13_corto_0',\n",
              " 'ind_var13_corto',\n",
              " 'ind_var13',\n",
              " 'ind_var24_0',\n",
              " 'ind_var24',\n",
              " 'ind_var26_0',\n",
              " 'ind_var26_cte',\n",
              " 'ind_var25_0',\n",
              " 'ind_var30',\n",
              " 'ind_var37_0',\n",
              " 'ind_var40_0',\n",
              " 'ind_var41_0',\n",
              " 'num_var1_0',\n",
              " 'num_var5_0',\n",
              " 'num_var5',\n",
              " 'num_var8_0',\n",
              " 'num_var8',\n",
              " 'num_var12_0',\n",
              " 'num_var12',\n",
              " 'num_var13_0',\n",
              " 'num_var13_corto_0',\n",
              " 'num_var13_corto',\n",
              " 'num_var13_largo_0',\n",
              " 'num_var13_largo',\n",
              " 'num_var13',\n",
              " 'num_var14_0',\n",
              " 'num_var17',\n",
              " 'num_var20',\n",
              " 'num_var24_0',\n",
              " 'num_var24',\n",
              " 'num_var26_0',\n",
              " 'num_var25_0',\n",
              " 'num_op_var40_ult3',\n",
              " 'num_op_var41_ult3',\n",
              " 'num_op_var39_hace2',\n",
              " 'num_op_var39_hace3',\n",
              " 'num_op_var39_ult1',\n",
              " 'num_op_var39_ult3',\n",
              " 'num_var30',\n",
              " 'num_var31_0',\n",
              " 'num_var31',\n",
              " 'num_var35',\n",
              " 'num_var37_0',\n",
              " 'num_var39_0',\n",
              " 'num_var40_0',\n",
              " 'num_var40',\n",
              " 'num_var41_0',\n",
              " 'num_var42_0',\n",
              " 'num_var42',\n",
              " 'num_var44',\n",
              " 'saldo_var13',\n",
              " 'saldo_var18',\n",
              " 'saldo_var24',\n",
              " 'saldo_var25',\n",
              " 'saldo_var32',\n",
              " 'saldo_var40',\n",
              " 'saldo_var42',\n",
              " 'delta_imp_amort_var18_1y3',\n",
              " 'delta_imp_amort_var34_1y3',\n",
              " 'delta_num_aport_var13_1y3',\n",
              " 'delta_num_aport_var17_1y3',\n",
              " 'delta_num_compra_var44_1y3',\n",
              " 'delta_num_venta_var44_1y3',\n",
              " 'imp_amort_var18_ult1',\n",
              " 'imp_amort_var34_ult1',\n",
              " 'imp_trasp_var17_in_ult1',\n",
              " 'imp_trasp_var17_out_ult1',\n",
              " 'imp_trasp_var33_in_ult1',\n",
              " 'imp_trasp_var33_out_ult1',\n",
              " 'imp_venta_var44_ult1',\n",
              " 'ind_var10_ult1',\n",
              " 'ind_var10cte_ult1',\n",
              " 'ind_var9_cte_ult1',\n",
              " 'ind_var9_ult1',\n",
              " 'num_aport_var17_hace3',\n",
              " 'num_aport_var17_ult1',\n",
              " 'num_med_var22_ult3',\n",
              " 'num_meses_var5_ult3',\n",
              " 'num_meses_var8_ult3',\n",
              " 'num_meses_var12_ult3',\n",
              " 'num_meses_var13_corto_ult3',\n",
              " 'num_meses_var13_largo_ult3',\n",
              " 'num_meses_var39_vig_ult3',\n",
              " 'num_op_var39_comer_ult1',\n",
              " 'num_op_var39_comer_ult3',\n",
              " 'num_op_var40_comer_ult3',\n",
              " 'num_op_var40_efect_ult1',\n",
              " 'num_op_var40_efect_ult3',\n",
              " 'num_op_var41_comer_ult1',\n",
              " 'num_op_var41_comer_ult3',\n",
              " 'num_op_var41_efect_ult3',\n",
              " 'num_op_var39_efect_ult1',\n",
              " 'num_op_var39_efect_ult3',\n",
              " 'num_venta_var44_ult1',\n",
              " 'num_var45_hace2',\n",
              " 'num_var45_ult1',\n",
              " 'num_var45_ult3',\n",
              " 'saldo_medio_var5_ult1',\n",
              " 'saldo_medio_var5_ult3',\n",
              " 'saldo_medio_var8_ult1',\n",
              " 'saldo_medio_var8_ult3',\n",
              " 'saldo_medio_var12_hace2',\n",
              " 'saldo_medio_var12_ult1',\n",
              " 'saldo_medio_var12_ult3',\n",
              " 'saldo_medio_var13_corto_hace2',\n",
              " 'saldo_medio_var13_corto_ult1',\n",
              " 'saldo_medio_var13_corto_ult3',\n",
              " 'saldo_medio_var13_largo_ult1',\n",
              " 'saldo_medio_var13_largo_ult3',\n",
              " 'saldo_medio_var13_medio_hace2',\n",
              " 'saldo_medio_var13_medio_ult3',\n",
              " 'saldo_medio_var17_ult1',\n",
              " 'saldo_medio_var17_ult3',\n",
              " 'saldo_medio_var29_ult1',\n",
              " 'saldo_medio_var29_ult3',\n",
              " 'saldo_medio_var33_hace2',\n",
              " 'saldo_medio_var33_ult1',\n",
              " 'saldo_medio_var33_ult3',\n",
              " 'saldo_medio_var44_ult1',\n",
              " 'saldo_medio_var44_ult3']"
            ]
          },
          "metadata": {
            "tags": []
          },
          "execution_count": 19
        }
      ]
    },
    {
      "cell_type": "code",
      "metadata": {
        "id": "OyqVsO9YwE42",
        "colab_type": "code",
        "colab": {
          "base_uri": "https://localhost:8080/",
          "height": 34
        },
        "outputId": "5ffb6e27-4f95-448d-f28d-15267a70671e"
      },
      "source": [
        "len(to_drop)"
      ],
      "execution_count": 20,
      "outputs": [
        {
          "output_type": "execute_result",
          "data": {
            "text/plain": [
              "133"
            ]
          },
          "metadata": {
            "tags": []
          },
          "execution_count": 20
        }
      ]
    },
    {
      "cell_type": "markdown",
      "metadata": {
        "id": "Dtt3eiztwPYi",
        "colab_type": "text"
      },
      "source": [
        "## removed correlated  features"
      ]
    },
    {
      "cell_type": "code",
      "metadata": {
        "id": "w66mBiRxwJkj",
        "colab_type": "code",
        "colab": {
          "base_uri": "https://localhost:8080/",
          "height": 34
        },
        "outputId": "b9dc0674-2df6-41b0-8351-9275d4bcdbf4"
      },
      "source": [
        "\n",
        "X_train.drop(labels=to_drop, axis=1, inplace=True)\n",
        "X_test.drop(labels=to_drop, axis=1, inplace=True)\n",
        " \n",
        "X_train.shape, X_test.shape"
      ],
      "execution_count": 21,
      "outputs": [
        {
          "output_type": "execute_result",
          "data": {
            "text/plain": [
              "((53214, 119), (22806, 119))"
            ]
          },
          "metadata": {
            "tags": []
          },
          "execution_count": 21
        }
      ]
    },
    {
      "cell_type": "markdown",
      "metadata": {
        "id": "sWVZ3BQewRzl",
        "colab_type": "text"
      },
      "source": [
        "## keep a copy of the dataset at  this stage"
      ]
    },
    {
      "cell_type": "code",
      "metadata": {
        "id": "XBjWgrdCwODT",
        "colab_type": "code",
        "colab": {}
      },
      "source": [
        "\n",
        "X_train_corr = X_train.copy()\n",
        "X_test_corr = X_test.copy()"
      ],
      "execution_count": 0,
      "outputs": []
    },
    {
      "cell_type": "markdown",
      "metadata": {
        "id": "V8xhQEKBwrnJ",
        "colab_type": "text"
      },
      "source": [
        "\n",
        "## Remove features using univariate roc_auc\n",
        "- find important features using univariate roc-auc\n",
        "- loop to build a tree, make predictions and get the roc-auc for each feature of the train set"
      ]
    },
    {
      "cell_type": "code",
      "metadata": {
        "id": "uaBh2AaPwxqR",
        "colab_type": "code",
        "colab": {}
      },
      "source": [
        "roc_values = []\n",
        "for feature in X_train.columns:\n",
        "    clf = DecisionTreeClassifier()\n",
        "    clf.fit(X_train[feature].fillna(0).to_frame(), y_train)\n",
        "    y_scored = clf.predict_proba(X_test[feature].fillna(0).to_frame())\n",
        "    roc_values.append(roc_auc_score(y_test, y_scored[:, 1]))"
      ],
      "execution_count": 0,
      "outputs": []
    },
    {
      "cell_type": "code",
      "metadata": {
        "id": "WrGtyyjhw4RT",
        "colab_type": "code",
        "colab": {
          "base_uri": "https://localhost:8080/",
          "height": 204
        },
        "outputId": "ea824a1a-0fd7-4e33-832a-54520ee82d6d"
      },
      "source": [
        "df_roc = pd.DataFrame({'Features':X_train.columns,'ROC':roc_values})\n",
        "df_roc.head()"
      ],
      "execution_count": 24,
      "outputs": [
        {
          "output_type": "execute_result",
          "data": {
            "text/html": [
              "<div>\n",
              "<style scoped>\n",
              "    .dataframe tbody tr th:only-of-type {\n",
              "        vertical-align: middle;\n",
              "    }\n",
              "\n",
              "    .dataframe tbody tr th {\n",
              "        vertical-align: top;\n",
              "    }\n",
              "\n",
              "    .dataframe thead th {\n",
              "        text-align: right;\n",
              "    }\n",
              "</style>\n",
              "<table border=\"1\" class=\"dataframe\">\n",
              "  <thead>\n",
              "    <tr style=\"text-align: right;\">\n",
              "      <th></th>\n",
              "      <th>Features</th>\n",
              "      <th>ROC</th>\n",
              "    </tr>\n",
              "  </thead>\n",
              "  <tbody>\n",
              "    <tr>\n",
              "      <th>0</th>\n",
              "      <td>ID</td>\n",
              "      <td>0.509104</td>\n",
              "    </tr>\n",
              "    <tr>\n",
              "      <th>1</th>\n",
              "      <td>var3</td>\n",
              "      <td>0.503730</td>\n",
              "    </tr>\n",
              "    <tr>\n",
              "      <th>2</th>\n",
              "      <td>var15</td>\n",
              "      <td>0.697065</td>\n",
              "    </tr>\n",
              "    <tr>\n",
              "      <th>3</th>\n",
              "      <td>imp_ent_var16_ult1</td>\n",
              "      <td>0.498143</td>\n",
              "    </tr>\n",
              "    <tr>\n",
              "      <th>4</th>\n",
              "      <td>imp_op_var39_comer_ult1</td>\n",
              "      <td>0.506249</td>\n",
              "    </tr>\n",
              "  </tbody>\n",
              "</table>\n",
              "</div>"
            ],
            "text/plain": [
              "                  Features       ROC\n",
              "0                       ID  0.509104\n",
              "1                     var3  0.503730\n",
              "2                    var15  0.697065\n",
              "3       imp_ent_var16_ult1  0.498143\n",
              "4  imp_op_var39_comer_ult1  0.506249"
            ]
          },
          "metadata": {
            "tags": []
          },
          "execution_count": 24
        }
      ]
    },
    {
      "cell_type": "code",
      "metadata": {
        "id": "AqFepsyew76x",
        "colab_type": "code",
        "colab": {
          "base_uri": "https://localhost:8080/",
          "height": 812
        },
        "outputId": "dfb45da8-6eae-4853-d947-036abaefa554"
      },
      "source": [
        "df_roc.sort_values(by='ROC',ascending=False).set_index('Features').plot.bar(figsize=(20, 11))\n",
        "plt.show()"
      ],
      "execution_count": 25,
      "outputs": [
        {
          "output_type": "display_data",
          "data": {
            "image/png": "[encoded data removed]",
            "text/plain": [
              "<Figure size 1440x792 with 1 Axes>"
            ]
          },
          "metadata": {
            "tags": []
          }
        }
      ]
    },
    {
      "cell_type": "code",
      "metadata": {
        "id": "uv8i2mwhxMJO",
        "colab_type": "code",
        "colab": {
          "base_uri": "https://localhost:8080/",
          "height": 34
        },
        "outputId": "a76fe712-e28e-4195-d11c-3d532eeeb01c"
      },
      "source": [
        "selected_feat = df_roc[df_roc['ROC']>0.5]\n",
        "len(selected_feat), X_train.shape[1]"
      ],
      "execution_count": 26,
      "outputs": [
        {
          "output_type": "execute_result",
          "data": {
            "text/plain": [
              "(90, 119)"
            ]
          },
          "metadata": {
            "tags": []
          },
          "execution_count": 26
        }
      ]
    },
    {
      "cell_type": "markdown",
      "metadata": {
        "id": "-oL66QhwxP58",
        "colab_type": "text"
      },
      "source": [
        "#### Note\n",
        "- by removing features with univariate roc_auc == 0.50, we remove another 30 features\n",
        "- here the selected features which have a ROC > 0.50 is 90\n",
        "total number of features is 119"
      ]
    },
    {
      "cell_type": "markdown",
      "metadata": {
        "id": "Ul8CLtCdxddM",
        "colab_type": "text"
      },
      "source": [
        "## Remove features using Lasso"
      ]
    },
    {
      "cell_type": "code",
      "metadata": {
        "id": "sVNRL5YYxeZT",
        "colab_type": "code",
        "colab": {
          "base_uri": "https://localhost:8080/",
          "height": 34
        },
        "outputId": "931be2f8-8bc8-4f9f-d337-7564ca6d645d"
      },
      "source": [
        "scaler = StandardScaler()\n",
        "scaler.fit(X_train.fillna(0))"
      ],
      "execution_count": 27,
      "outputs": [
        {
          "output_type": "execute_result",
          "data": {
            "text/plain": [
              "StandardScaler(copy=True, with_mean=True, with_std=True)"
            ]
          },
          "metadata": {
            "tags": []
          },
          "execution_count": 27
        }
      ]
    },
    {
      "cell_type": "markdown",
      "metadata": {
        "id": "h52CSphsxrjB",
        "colab_type": "text"
      },
      "source": [
        "## fit a lasso and select features, make sure to select l1"
      ]
    },
    {
      "cell_type": "code",
      "metadata": {
        "id": "YCTft8hjxWln",
        "colab_type": "code",
        "colab": {
          "base_uri": "https://localhost:8080/",
          "height": 170
        },
        "outputId": "a2d11b89-898b-468a-a81d-c630da7a65ed"
      },
      "source": [
        "sel_ = SelectFromModel(LogisticRegression(C=1, penalty='l1',solver='liblinear'))\n",
        "sel_.fit(scaler.transform(X_train), y_train)"
      ],
      "execution_count": 29,
      "outputs": [
        {
          "output_type": "execute_result",
          "data": {
            "text/plain": [
              "SelectFromModel(estimator=LogisticRegression(C=1, class_weight=None, dual=False,\n",
              "                                             fit_intercept=True,\n",
              "                                             intercept_scaling=1, l1_ratio=None,\n",
              "                                             max_iter=100, multi_class='auto',\n",
              "                                             n_jobs=None, penalty='l1',\n",
              "                                             random_state=None,\n",
              "                                             solver='liblinear', tol=0.0001,\n",
              "                                             verbose=0, warm_start=False),\n",
              "                max_features=None, norm_order=1, prefit=False, threshold=None)"
            ]
          },
          "metadata": {
            "tags": []
          },
          "execution_count": 29
        }
      ]
    },
    {
      "cell_type": "markdown",
      "metadata": {
        "id": "rYuN2m5Mx459",
        "colab_type": "text"
      },
      "source": [
        "# remove features with zero coefficient from dataset and parse again as dataframe (output of sklearn is numpy array)"
      ]
    },
    {
      "cell_type": "code",
      "metadata": {
        "id": "5aa2zwiZx8k_",
        "colab_type": "code",
        "colab": {}
      },
      "source": [
        "X_train_lasso = pd.DataFrame(sel_.transform(X_train))\n",
        "X_test_lasso = pd.DataFrame(sel_.transform(X_test))"
      ],
      "execution_count": 0,
      "outputs": []
    },
    {
      "cell_type": "code",
      "metadata": {
        "id": "vUFelRDmyK2K",
        "colab_type": "code",
        "colab": {
          "base_uri": "https://localhost:8080/",
          "height": 527
        },
        "outputId": "6c3d5fa9-591c-4a80-b710-845696252d69"
      },
      "source": [
        "X_train.columns[(sel_.get_support())]"
      ],
      "execution_count": 31,
      "outputs": [
        {
          "output_type": "execute_result",
          "data": {
            "text/plain": [
              "Index(['ID', 'var3', 'var15', 'imp_ent_var16_ult1', 'imp_op_var39_comer_ult1',\n",
              "       'imp_op_var40_comer_ult1', 'imp_op_var40_efect_ult1',\n",
              "       'imp_op_var40_ult1', 'imp_op_var41_efect_ult1', 'ind_var1_0',\n",
              "       'ind_var5_0', 'ind_var5', 'ind_var12_0', 'ind_var13_0',\n",
              "       'ind_var13_largo_0', 'ind_var14_0', 'ind_var25_cte', 'ind_var37_cte',\n",
              "       'ind_var39_0', 'num_var1', 'num_var4', 'num_var14', 'num_var17_0',\n",
              "       'num_var20_0', 'num_op_var40_hace2', 'num_op_var40_ult1',\n",
              "       'num_op_var41_hace2', 'num_op_var41_hace3', 'num_op_var41_ult1',\n",
              "       'num_var30_0', 'num_var32_0', 'num_var33_0', 'num_var37_med_ult2',\n",
              "       'num_var44_0', 'saldo_var1', 'saldo_var5', 'saldo_var6', 'saldo_var8',\n",
              "       'saldo_var12', 'saldo_var13_largo', 'saldo_var13_medio', 'saldo_var14',\n",
              "       'saldo_var26', 'saldo_var30', 'saldo_var31', 'saldo_var34',\n",
              "       'saldo_var37', 'saldo_var44', 'var36', 'delta_imp_aport_var13_1y3',\n",
              "       'delta_imp_aport_var17_1y3', 'delta_imp_compra_var44_1y3',\n",
              "       'delta_imp_reemb_var13_1y3', 'delta_imp_reemb_var17_1y3',\n",
              "       'delta_imp_venta_var44_1y3', 'imp_aport_var13_ult1',\n",
              "       'imp_var7_emit_ult1', 'imp_var7_recib_ult1', 'imp_reemb_var13_ult1',\n",
              "       'imp_reemb_var17_ult1', 'imp_var43_emit_ult1', 'imp_trans_var37_ult1',\n",
              "       'ind_var43_emit_ult1', 'ind_var43_recib_ult1', 'var21',\n",
              "       'num_aport_var13_hace3', 'num_var7_recib_ult1', 'num_compra_var44_ult1',\n",
              "       'num_ent_var16_ult1', 'num_var22_hace2', 'num_var22_ult1',\n",
              "       'num_var22_ult3', 'num_med_var45_ult3', 'num_op_var40_comer_ult1',\n",
              "       'num_op_var41_efect_ult1', 'num_sal_var16_ult1', 'num_var43_emit_ult1',\n",
              "       'num_var43_recib_ult1', 'num_trasp_var11_ult1', 'num_var45_hace3',\n",
              "       'saldo_medio_var5_hace2', 'saldo_medio_var5_hace3',\n",
              "       'saldo_medio_var8_hace2', 'saldo_medio_var8_hace3',\n",
              "       'saldo_medio_var12_hace3', 'saldo_medio_var13_corto_hace3',\n",
              "       'saldo_medio_var13_largo_hace2', 'saldo_medio_var17_hace2',\n",
              "       'saldo_medio_var29_hace3', 'saldo_medio_var44_hace3', 'var38'],\n",
              "      dtype='object')"
            ]
          },
          "metadata": {
            "tags": []
          },
          "execution_count": 31
        }
      ]
    },
    {
      "cell_type": "markdown",
      "metadata": {
        "id": "uuvfwg8ryFGG",
        "colab_type": "text"
      },
      "source": [
        "##Add the column name for features selected by Lasso Regularization whose support score do not divulge to zero"
      ]
    },
    {
      "cell_type": "code",
      "metadata": {
        "id": "QTJuJqDiyEVD",
        "colab_type": "code",
        "colab": {}
      },
      "source": [
        "X_train_lasso.columns = X_train.columns[(sel_.get_support())]\n",
        "X_test_lasso.columns = X_train.columns[(sel_.get_support())]"
      ],
      "execution_count": 0,
      "outputs": []
    },
    {
      "cell_type": "code",
      "metadata": {
        "id": "hFZytpScyXFM",
        "colab_type": "code",
        "colab": {
          "base_uri": "https://localhost:8080/",
          "height": 34
        },
        "outputId": "04face89-8ca8-4a20-ac6b-3fbdc7e14a59"
      },
      "source": [
        "X_train_lasso.shape, X_test_lasso.shape"
      ],
      "execution_count": 33,
      "outputs": [
        {
          "output_type": "execute_result",
          "data": {
            "text/plain": [
              "((53214, 91), (22806, 91))"
            ]
          },
          "metadata": {
            "tags": []
          },
          "execution_count": 33
        }
      ]
    },
    {
      "cell_type": "markdown",
      "metadata": {
        "id": "VTzyVGlSybMz",
        "colab_type": "text"
      },
      "source": [
        "##Compare the performance in machine learning algorithms for different filtered features"
      ]
    },
    {
      "cell_type": "code",
      "metadata": {
        "id": "2U-gnt_wycS1",
        "colab_type": "code",
        "colab": {}
      },
      "source": [
        "def run_randomForests(X_train, X_test, y_train, y_test):\n",
        "  rf = RandomForestClassifier(n_estimators=200, random_state=39, max_depth=4)\n",
        "  rf.fit(X_train,y_train)\n",
        "  print('Train set')\n",
        "  pred = rf.predict_proba(X_train)\n",
        "  print('Random Forests roc-auc: {}'.format(roc_auc_score(y_train, pred[:,1])))\n",
        "  print('Test set')\n",
        "  pred = rf.predict_proba(X_test)\n",
        "  print('Random Forests roc-auc: {}'.format(roc_auc_score(y_test, pred[:,1])))"
      ],
      "execution_count": 0,
      "outputs": []
    },
    {
      "cell_type": "markdown",
      "metadata": {
        "id": "VRXLkISqykBW",
        "colab_type": "text"
      },
      "source": [
        "##Original"
      ]
    },
    {
      "cell_type": "code",
      "metadata": {
        "id": "zz0BacmTyhvF",
        "colab_type": "code",
        "colab": {
          "base_uri": "https://localhost:8080/",
          "height": 85
        },
        "outputId": "0fe47cb9-0aaf-4fe4-c775-a770430cd1a4"
      },
      "source": [
        "run_randomForests(X_train_original.drop(labels=['ID'], axis=1),\n",
        "                  X_test_original.drop(labels=['ID'], axis=1),\n",
        "                  y_train, y_test)"
      ],
      "execution_count": 35,
      "outputs": [
        {
          "output_type": "stream",
          "text": [
            "Train set\n",
            "Random Forests roc-auc: 0.8012314741948454\n",
            "Test set\n",
            "Random Forests roc-auc: 0.7900499757912425\n"
          ],
          "name": "stdout"
        }
      ]
    },
    {
      "cell_type": "markdown",
      "metadata": {
        "id": "3DlVdSXcyprZ",
        "colab_type": "text"
      },
      "source": [
        "##filter methods - basic"
      ]
    },
    {
      "cell_type": "code",
      "metadata": {
        "id": "TgTmmpTsytDd",
        "colab_type": "code",
        "colab": {
          "base_uri": "https://localhost:8080/",
          "height": 85
        },
        "outputId": "09983a74-a4be-4b91-d5dd-3fc65a312190"
      },
      "source": [
        "run_randomForests(X_train_basic_filter.drop(labels=['ID'], axis=1),\n",
        "                  X_test_basic_filter.drop(labels=['ID'], axis=1),\n",
        "                  y_train, y_test)"
      ],
      "execution_count": 36,
      "outputs": [
        {
          "output_type": "stream",
          "text": [
            "Train set\n",
            "Random Forests roc-auc: 0.8016577097093865\n",
            "Test set\n",
            "Random Forests roc-auc: 0.791033019265853\n"
          ],
          "name": "stdout"
        }
      ]
    },
    {
      "cell_type": "markdown",
      "metadata": {
        "id": "qN3xc_s7y0oW",
        "colab_type": "text"
      },
      "source": [
        "##filter methods - correlation"
      ]
    },
    {
      "cell_type": "code",
      "metadata": {
        "id": "ArI5Vh3Yyy0D",
        "colab_type": "code",
        "colab": {
          "base_uri": "https://localhost:8080/",
          "height": 85
        },
        "outputId": "c860b1f8-65eb-40b0-bba9-4403ccd804e6"
      },
      "source": [
        "run_randomForests(X_train_corr.drop(labels=['ID'], axis=1),\n",
        "                  X_test_corr.drop(labels=['ID'], axis=1),\n",
        "                  y_train, y_test)"
      ],
      "execution_count": 37,
      "outputs": [
        {
          "output_type": "stream",
          "text": [
            "Train set\n",
            "Random Forests roc-auc: 0.8073914001626228\n",
            "Test set\n",
            "Random Forests roc-auc: 0.7937667747098247\n"
          ],
          "name": "stdout"
        }
      ]
    },
    {
      "cell_type": "markdown",
      "metadata": {
        "id": "d7rjv2iFy6Cr",
        "colab_type": "text"
      },
      "source": [
        "## filter methods - univariate roc-auc"
      ]
    },
    {
      "cell_type": "code",
      "metadata": {
        "id": "ae6Iti1Ry9LN",
        "colab_type": "code",
        "colab": {
          "base_uri": "https://localhost:8080/",
          "height": 85
        },
        "outputId": "562e8c98-c1c4-452a-d199-4642af7e9126"
      },
      "source": [
        "run_randomForests(X_train[selected_feat['Features']],\n",
        "                  X_test_corr[selected_feat['Features']],\n",
        "                  y_train, y_test)"
      ],
      "execution_count": 38,
      "outputs": [
        {
          "output_type": "stream",
          "text": [
            "Train set\n",
            "Random Forests roc-auc: 0.8105671870819526\n",
            "Test set\n",
            "Random Forests roc-auc: 0.7985492537265694\n"
          ],
          "name": "stdout"
        }
      ]
    },
    {
      "cell_type": "markdown",
      "metadata": {
        "id": "IKEEY3fHzGP5",
        "colab_type": "text"
      },
      "source": [
        "## embedded methods - Lasso"
      ]
    },
    {
      "cell_type": "code",
      "metadata": {
        "id": "_O5sV7vVzJMK",
        "colab_type": "code",
        "colab": {
          "base_uri": "https://localhost:8080/",
          "height": 85
        },
        "outputId": "67ba9039-aabe-4bd8-e487-a702d084ab08"
      },
      "source": [
        "run_randomForests(X_train_lasso.drop(labels=['ID'], axis=1),\n",
        "                  X_test_lasso.drop(labels=['ID'], axis=1),\n",
        "                  y_train, y_test)"
      ],
      "execution_count": 39,
      "outputs": [
        {
          "output_type": "stream",
          "text": [
            "Train set\n",
            "Random Forests roc-auc: 0.8097707624287591\n",
            "Test set\n",
            "Random Forests roc-auc: 0.7981117319117003\n"
          ],
          "name": "stdout"
        }
      ]
    },
    {
      "cell_type": "markdown",
      "metadata": {
        "id": "qNTafxPlzOnr",
        "colab_type": "text"
      },
      "source": [
        "#### Selecting features using Lasso or univariate feature selection using the roc-auc lead to very similar results:\n",
        "\n",
        "- univariate: 0.7985\n",
        "\n",
        "- Lasso: 0.7981\n",
        "\n",
        "\n",
        "The difference is in the 4th decimal, which is likely within the error (remember that all models have an error, which you could estimate doing cross-validation).\n",
        "\n",
        "Therefore, for this dataset, any of the 2 approaches would lead to a similar result in terms of performance and final number of features used (90 and 91 respectively)."
      ]
    },
    {
      "cell_type": "code",
      "metadata": {
        "id": "75ujTMi9znSG",
        "colab_type": "code",
        "colab": {}
      },
      "source": [
        ""
      ],
      "execution_count": 0,
      "outputs": []
    }
  ]
}