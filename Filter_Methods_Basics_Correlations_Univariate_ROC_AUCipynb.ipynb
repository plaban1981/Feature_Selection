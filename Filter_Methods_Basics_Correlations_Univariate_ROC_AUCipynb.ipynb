{
  "nbformat": 4,
  "nbformat_minor": 0,
  "metadata": {
    "colab": {
      "name": "Filter Methods - Basics - Correlations - Univariate ROC-AUCipynb",
      "provenance": [],
      "authorship_tag": "ABX9TyM3GtZq+WBMQqVGuC8iZ2jv",
      "include_colab_link": true
    },
    "kernelspec": {
      "name": "python3",
      "display_name": "Python 3"
    },
    "accelerator": "GPU"
  },
  "cells": [
    {
      "cell_type": "markdown",
      "metadata": {
        "id": "view-in-github",
        "colab_type": "text"
      },
      "source": [
        "<a href=\"https://colab.research.google.com/github/plaban1981/Feature_Selection/blob/master/Filter_Methods_Basics_Correlations_Univariate_ROC_AUCipynb.ipynb\" target=\"_parent\"><img src=\"https://colab.research.google.com/assets/colab-badge.svg\" alt=\"Open In Colab\"/></a>"
      ]
    },
    {
      "cell_type": "markdown",
      "metadata": {
        "id": "o4XSfvAqeSsK",
        "colab_type": "text"
      },
      "source": [
        "##Filter Methods - Basics - Correlations - Univariate ROC-AUC"
      ]
    },
    {
      "cell_type": "code",
      "metadata": {
        "id": "CQd7uTXqePbk",
        "colab_type": "code",
        "colab": {}
      },
      "source": [
        "import pandas as pd\n",
        "import numpy as np\n",
        " \n",
        "import matplotlib.pyplot as plt\n",
        "import seaborn as sns\n",
        "%matplotlib inline\n",
        " \n",
        "from sklearn.model_selection import train_test_split\n",
        "from sklearn.feature_selection import VarianceThreshold\n",
        " \n",
        "from sklearn.preprocessing import StandardScaler\n",
        "from sklearn.linear_model import LogisticRegression\n",
        "from sklearn.ensemble import RandomForestClassifier\n",
        "from sklearn.tree import DecisionTreeClassifier\n",
        "from sklearn.metrics import roc_auc_score"
      ],
      "execution_count": 0,
      "outputs": []
    },
    {
      "cell_type": "markdown",
      "metadata": {
        "id": "Jp4S8HXJepcj",
        "colab_type": "text"
      },
      "source": [
        "## load the Santander customer satisfaction dataset from Kaggle"
      ]
    },
    {
      "cell_type": "code",
      "metadata": {
        "id": "FC52aRcWgeYL",
        "colab_type": "code",
        "colab": {
          "resources": {
            "http://localhost:8080/nbextensions/google.colab/files.js": {
              "data": "Ly8gQ29weXJpZ2h0IDIwMTcgR29vZ2xlIExMQwovLwovLyBMaWNlbnNlZCB1bmRlciB0aGUgQXBhY2hlIExpY2Vuc2UsIFZlcnNpb24gMi4wICh0aGUgIkxpY2Vuc2UiKTsKLy8geW91IG1heSBub3QgdXNlIHRoaXMgZmlsZSBleGNlcHQgaW4gY29tcGxpYW5jZSB3aXRoIHRoZSBMaWNlbnNlLgovLyBZb3UgbWF5IG9idGFpbiBhIGNvcHkgb2YgdGhlIExpY2Vuc2UgYXQKLy8KLy8gICAgICBodHRwOi8vd3d3LmFwYWNoZS5vcmcvbGljZW5zZXMvTElDRU5TRS0yLjAKLy8KLy8gVW5sZXNzIHJlcXVpcmVkIGJ5IGFwcGxpY2FibGUgbGF3IG9yIGFncmVlZCB0byBpbiB3cml0aW5nLCBzb2Z0d2FyZQovLyBkaXN0cmlidXRlZCB1bmRlciB0aGUgTGljZW5zZSBpcyBkaXN0cmlidXRlZCBvbiBhbiAiQVMgSVMiIEJBU0lTLAovLyBXSVRIT1VUIFdBUlJBTlRJRVMgT1IgQ09ORElUSU9OUyBPRiBBTlkgS0lORCwgZWl0aGVyIGV4cHJlc3Mgb3IgaW1wbGllZC4KLy8gU2VlIHRoZSBMaWNlbnNlIGZvciB0aGUgc3BlY2lmaWMgbGFuZ3VhZ2UgZ292ZXJuaW5nIHBlcm1pc3Npb25zIGFuZAovLyBsaW1pdGF0aW9ucyB1bmRlciB0aGUgTGljZW5zZS4KCi8qKgogKiBAZmlsZW92ZXJ2aWV3IEhlbHBlcnMgZm9yIGdvb2dsZS5jb2xhYiBQeXRob24gbW9kdWxlLgogKi8KKGZ1bmN0aW9uKHNjb3BlKSB7CmZ1bmN0aW9uIHNwYW4odGV4dCwgc3R5bGVBdHRyaWJ1dGVzID0ge30pIHsKICBjb25zdCBlbGVtZW50ID0gZG9jdW1lbnQuY3JlYXRlRWxlbWVudCgnc3BhbicpOwogIGVsZW1lbnQudGV4dENvbnRlbnQgPSB0ZXh0OwogIGZvciAoY29uc3Qga2V5IG9mIE9iamVjdC5rZXlzKHN0eWxlQXR0cmlidXRlcykpIHsKICAgIGVsZW1lbnQuc3R5bGVba2V5XSA9IHN0eWxlQXR0cmlidXRlc1trZXldOwogIH0KICByZXR1cm4gZWxlbWVudDsKfQoKLy8gTWF4IG51bWJlciBvZiBieXRlcyB3aGljaCB3aWxsIGJlIHVwbG9hZGVkIGF0IGEgdGltZS4KY29uc3QgTUFYX1BBWUxPQURfU0laRSA9IDEwMCAqIDEwMjQ7Ci8vIE1heCBhbW91bnQgb2YgdGltZSB0byBibG9jayB3YWl0aW5nIGZvciB0aGUgdXNlci4KY29uc3QgRklMRV9DSEFOR0VfVElNRU9VVF9NUyA9IDMwICogMTAwMDsKCmZ1bmN0aW9uIF91cGxvYWRGaWxlcyhpbnB1dElkLCBvdXRwdXRJZCkgewogIGNvbnN0IHN0ZXBzID0gdXBsb2FkRmlsZXNTdGVwKGlucHV0SWQsIG91dHB1dElkKTsKICBjb25zdCBvdXRwdXRFbGVtZW50ID0gZG9jdW1lbnQuZ2V0RWxlbWVudEJ5SWQob3V0cHV0SWQpOwogIC8vIENhY2hlIHN0ZXBzIG9uIHRoZSBvdXRwdXRFbGVtZW50IHRvIG1ha2UgaXQgYXZhaWxhYmxlIGZvciB0aGUgbmV4dCBjYWxsCiAgLy8gdG8gdXBsb2FkRmlsZXNDb250aW51ZSBmcm9tIFB5dGhvbi4KICBvdXRwdXRFbGVtZW50LnN0ZXBzID0gc3RlcHM7CgogIHJldHVybiBfdXBsb2FkRmlsZXNDb250aW51ZShvdXRwdXRJZCk7Cn0KCi8vIFRoaXMgaXMgcm91Z2hseSBhbiBhc3luYyBnZW5lcmF0b3IgKG5vdCBzdXBwb3J0ZWQgaW4gdGhlIGJyb3dzZXIgeWV0KSwKLy8gd2hlcmUgdGhlcmUgYXJlIG11bHRpcGxlIGFzeW5jaHJvbm91cyBzdGVwcyBhbmQgdGhlIFB5dGhvbiBzaWRlIGlzIGdvaW5nCi8vIHRvIHBvbGwgZm9yIGNvbXBsZXRpb24gb2YgZWFjaCBzdGVwLgovLyBUaGlzIHVzZXMgYSBQcm9taXNlIHRvIGJsb2NrIHRoZSBweXRob24gc2lkZSBvbiBjb21wbGV0aW9uIG9mIGVhY2ggc3RlcCwKLy8gdGhlbiBwYXNzZXMgdGhlIHJlc3VsdCBvZiB0aGUgcHJldmlvdXMgc3RlcCBhcyB0aGUgaW5wdXQgdG8gdGhlIG5leHQgc3RlcC4KZnVuY3Rpb24gX3VwbG9hZEZpbGVzQ29udGludWUob3V0cHV0SWQpIHsKICBjb25zdCBvdXRwdXRFbGVtZW50ID0gZG9jdW1lbnQuZ2V0RWxlbWVudEJ5SWQob3V0cHV0SWQpOwogIGNvbnN0IHN0ZXBzID0gb3V0cHV0RWxlbWVudC5zdGVwczsKCiAgY29uc3QgbmV4dCA9IHN0ZXBzLm5leHQob3V0cHV0RWxlbWVudC5sYXN0UHJvbWlzZVZhbHVlKTsKICByZXR1cm4gUHJvbWlzZS5yZXNvbHZlKG5leHQudmFsdWUucHJvbWlzZSkudGhlbigodmFsdWUpID0+IHsKICAgIC8vIENhY2hlIHRoZSBsYXN0IHByb21pc2UgdmFsdWUgdG8gbWFrZSBpdCBhdmFpbGFibGUgdG8gdGhlIG5leHQKICAgIC8vIHN0ZXAgb2YgdGhlIGdlbmVyYXRvci4KICAgIG91dHB1dEVsZW1lbnQubGFzdFByb21pc2VWYWx1ZSA9IHZhbHVlOwogICAgcmV0dXJuIG5leHQudmFsdWUucmVzcG9uc2U7CiAgfSk7Cn0KCi8qKgogKiBHZW5lcmF0b3IgZnVuY3Rpb24gd2hpY2ggaXMgY2FsbGVkIGJldHdlZW4gZWFjaCBhc3luYyBzdGVwIG9mIHRoZSB1cGxvYWQKICogcHJvY2Vzcy4KICogQHBhcmFtIHtzdHJpbmd9IGlucHV0SWQgRWxlbWVudCBJRCBvZiB0aGUgaW5wdXQgZmlsZSBwaWNrZXIgZWxlbWVudC4KICogQHBhcmFtIHtzdHJpbmd9IG91dHB1dElkIEVsZW1lbnQgSUQgb2YgdGhlIG91dHB1dCBkaXNwbGF5LgogKiBAcmV0dXJuIHshSXRlcmFibGU8IU9iamVjdD59IEl0ZXJhYmxlIG9mIG5leHQgc3RlcHMuCiAqLwpmdW5jdGlvbiogdXBsb2FkRmlsZXNTdGVwKGlucHV0SWQsIG91dHB1dElkKSB7CiAgY29uc3QgaW5wdXRFbGVtZW50ID0gZG9jdW1lbnQuZ2V0RWxlbWVudEJ5SWQoaW5wdXRJZCk7CiAgaW5wdXRFbGVtZW50LmRpc2FibGVkID0gZmFsc2U7CgogIGNvbnN0IG91dHB1dEVsZW1lbnQgPSBkb2N1bWVudC5nZXRFbGVtZW50QnlJZChvdXRwdXRJZCk7CiAgb3V0cHV0RWxlbWVudC5pbm5lckhUTUwgPSAnJzsKCiAgY29uc3QgcGlja2VkUHJvbWlzZSA9IG5ldyBQcm9taXNlKChyZXNvbHZlKSA9PiB7CiAgICBpbnB1dEVsZW1lbnQuYWRkRXZlbnRMaXN0ZW5lcignY2hhbmdlJywgKGUpID0+IHsKICAgICAgcmVzb2x2ZShlLnRhcmdldC5maWxlcyk7CiAgICB9KTsKICB9KTsKCiAgY29uc3QgY2FuY2VsID0gZG9jdW1lbnQuY3JlYXRlRWxlbWVudCgnYnV0dG9uJyk7CiAgaW5wdXRFbGVtZW50LnBhcmVudEVsZW1lbnQuYXBwZW5kQ2hpbGQoY2FuY2VsKTsKICBjYW5jZWwudGV4dENvbnRlbnQgPSAnQ2FuY2VsIHVwbG9hZCc7CiAgY29uc3QgY2FuY2VsUHJvbWlzZSA9IG5ldyBQcm9taXNlKChyZXNvbHZlKSA9PiB7CiAgICBjYW5jZWwub25jbGljayA9ICgpID0+IHsKICAgICAgcmVzb2x2ZShudWxsKTsKICAgIH07CiAgfSk7CgogIC8vIENhbmNlbCB1cGxvYWQgaWYgdXNlciBoYXNuJ3QgcGlja2VkIGFueXRoaW5nIGluIHRpbWVvdXQuCiAgY29uc3QgdGltZW91dFByb21pc2UgPSBuZXcgUHJvbWlzZSgocmVzb2x2ZSkgPT4gewogICAgc2V0VGltZW91dCgoKSA9PiB7CiAgICAgIHJlc29sdmUobnVsbCk7CiAgICB9LCBGSUxFX0NIQU5HRV9USU1FT1VUX01TKTsKICB9KTsKCiAgLy8gV2FpdCBmb3IgdGhlIHVzZXIgdG8gcGljayB0aGUgZmlsZXMuCiAgY29uc3QgZmlsZXMgPSB5aWVsZCB7CiAgICBwcm9taXNlOiBQcm9taXNlLnJhY2UoW3BpY2tlZFByb21pc2UsIHRpbWVvdXRQcm9taXNlLCBjYW5jZWxQcm9taXNlXSksCiAgICByZXNwb25zZTogewogICAgICBhY3Rpb246ICdzdGFydGluZycsCiAgICB9CiAgfTsKCiAgaWYgKCFmaWxlcykgewogICAgcmV0dXJuIHsKICAgICAgcmVzcG9uc2U6IHsKICAgICAgICBhY3Rpb246ICdjb21wbGV0ZScsCiAgICAgIH0KICAgIH07CiAgfQoKICBjYW5jZWwucmVtb3ZlKCk7CgogIC8vIERpc2FibGUgdGhlIGlucHV0IGVsZW1lbnQgc2luY2UgZnVydGhlciBwaWNrcyBhcmUgbm90IGFsbG93ZWQuCiAgaW5wdXRFbGVtZW50LmRpc2FibGVkID0gdHJ1ZTsKCiAgZm9yIChjb25zdCBmaWxlIG9mIGZpbGVzKSB7CiAgICBjb25zdCBsaSA9IGRvY3VtZW50LmNyZWF0ZUVsZW1lbnQoJ2xpJyk7CiAgICBsaS5hcHBlbmQoc3BhbihmaWxlLm5hbWUsIHtmb250V2VpZ2h0OiAnYm9sZCd9KSk7CiAgICBsaS5hcHBlbmQoc3BhbigKICAgICAgICBgKCR7ZmlsZS50eXBlIHx8ICduL2EnfSkgLSAke2ZpbGUuc2l6ZX0gYnl0ZXMsIGAgKwogICAgICAgIGBsYXN0IG1vZGlmaWVkOiAkewogICAgICAgICAgICBmaWxlLmxhc3RNb2RpZmllZERhdGUgPyBmaWxlLmxhc3RNb2RpZmllZERhdGUudG9Mb2NhbGVEYXRlU3RyaW5nKCkgOgogICAgICAgICAgICAgICAgICAgICAgICAgICAgICAgICAgICAnbi9hJ30gLSBgKSk7CiAgICBjb25zdCBwZXJjZW50ID0gc3BhbignMCUgZG9uZScpOwogICAgbGkuYXBwZW5kQ2hpbGQocGVyY2VudCk7CgogICAgb3V0cHV0RWxlbWVudC5hcHBlbmRDaGlsZChsaSk7CgogICAgY29uc3QgZmlsZURhdGFQcm9taXNlID0gbmV3IFByb21pc2UoKHJlc29sdmUpID0+IHsKICAgICAgY29uc3QgcmVhZGVyID0gbmV3IEZpbGVSZWFkZXIoKTsKICAgICAgcmVhZGVyLm9ubG9hZCA9IChlKSA9PiB7CiAgICAgICAgcmVzb2x2ZShlLnRhcmdldC5yZXN1bHQpOwogICAgICB9OwogICAgICByZWFkZXIucmVhZEFzQXJyYXlCdWZmZXIoZmlsZSk7CiAgICB9KTsKICAgIC8vIFdhaXQgZm9yIHRoZSBkYXRhIHRvIGJlIHJlYWR5LgogICAgbGV0IGZpbGVEYXRhID0geWllbGQgewogICAgICBwcm9taXNlOiBmaWxlRGF0YVByb21pc2UsCiAgICAgIHJlc3BvbnNlOiB7CiAgICAgICAgYWN0aW9uOiAnY29udGludWUnLAogICAgICB9CiAgICB9OwoKICAgIC8vIFVzZSBhIGNodW5rZWQgc2VuZGluZyB0byBhdm9pZCBtZXNzYWdlIHNpemUgbGltaXRzLiBTZWUgYi82MjExNTY2MC4KICAgIGxldCBwb3NpdGlvbiA9IDA7CiAgICB3aGlsZSAocG9zaXRpb24gPCBmaWxlRGF0YS5ieXRlTGVuZ3RoKSB7CiAgICAgIGNvbnN0IGxlbmd0aCA9IE1hdGgubWluKGZpbGVEYXRhLmJ5dGVMZW5ndGggLSBwb3NpdGlvbiwgTUFYX1BBWUxPQURfU0laRSk7CiAgICAgIGNvbnN0IGNodW5rID0gbmV3IFVpbnQ4QXJyYXkoZmlsZURhdGEsIHBvc2l0aW9uLCBsZW5ndGgpOwogICAgICBwb3NpdGlvbiArPSBsZW5ndGg7CgogICAgICBjb25zdCBiYXNlNjQgPSBidG9hKFN0cmluZy5mcm9tQ2hhckNvZGUuYXBwbHkobnVsbCwgY2h1bmspKTsKICAgICAgeWllbGQgewogICAgICAgIHJlc3BvbnNlOiB7CiAgICAgICAgICBhY3Rpb246ICdhcHBlbmQnLAogICAgICAgICAgZmlsZTogZmlsZS5uYW1lLAogICAgICAgICAgZGF0YTogYmFzZTY0LAogICAgICAgIH0sCiAgICAgIH07CiAgICAgIHBlcmNlbnQudGV4dENvbnRlbnQgPQogICAgICAgICAgYCR7TWF0aC5yb3VuZCgocG9zaXRpb24gLyBmaWxlRGF0YS5ieXRlTGVuZ3RoKSAqIDEwMCl9JSBkb25lYDsKICAgIH0KICB9CgogIC8vIEFsbCBkb25lLgogIHlpZWxkIHsKICAgIHJlc3BvbnNlOiB7CiAgICAgIGFjdGlvbjogJ2NvbXBsZXRlJywKICAgIH0KICB9Owp9CgpzY29wZS5nb29nbGUgPSBzY29wZS5nb29nbGUgfHwge307CnNjb3BlLmdvb2dsZS5jb2xhYiA9IHNjb3BlLmdvb2dsZS5jb2xhYiB8fCB7fTsKc2NvcGUuZ29vZ2xlLmNvbGFiLl9maWxlcyA9IHsKICBfdXBsb2FkRmlsZXMsCiAgX3VwbG9hZEZpbGVzQ29udGludWUsCn07Cn0pKHNlbGYpOwo=",
              "ok": true,
              "headers": [
                [
                  "content-type",
                  "application/javascript"
                ]
              ],
              "status": 200,
              "status_text": ""
            }
          },
          "base_uri": "https://localhost:8080/",
          "height": 74
        },
        "outputId": "ae3038b5-f6c8-4748-a875-cdb65d15e83c"
      },
      "source": [
        "from google.colab import files\n",
        "files.upload()"
      ],
      "execution_count": 3,
      "outputs": [
        {
          "output_type": "display_data",
          "data": {
            "text/html": [
              "\n",
              "     <input type=\"file\" id=\"files-240aca9e-7b9f-40ac-a40c-c01d5bc06343\" name=\"files[]\" multiple disabled />\n",
              "     <output id=\"result-240aca9e-7b9f-40ac-a40c-c01d5bc06343\">\n",
              "      Upload widget is only available when the cell has been executed in the\n",
              "      current browser session. Please rerun this cell to enable.\n",
              "      </output>\n",
              "      <script src=\"/nbextensions/google.colab/files.js\"></script> "
            ],
            "text/plain": [
              "<IPython.core.display.HTML object>"
            ]
          },
          "metadata": {
            "tags": []
          }
        },
        {
          "output_type": "stream",
          "text": [
            "Saving Santander_train.csv to Santander_train.csv\n"
          ],
          "name": "stdout"
        }
      ]
    },
    {
      "cell_type": "code",
      "metadata": {
        "id": "ZSv8zUfbgPIG",
        "colab_type": "code",
        "colab": {
          "base_uri": "https://localhost:8080/",
          "height": 34
        },
        "outputId": "fea46fad-bd5b-4fdd-d957-617a9278211e"
      },
      "source": [
        "data = pd.read_csv('Santander_train.csv')\n",
        "data.shape"
      ],
      "execution_count": 11,
      "outputs": [
        {
          "output_type": "execute_result",
          "data": {
            "text/plain": [
              "(76020, 371)"
            ]
          },
          "metadata": {
            "tags": []
          },
          "execution_count": 11
        }
      ]
    },
    {
      "cell_type": "markdown",
      "metadata": {
        "id": "u3xzJNjGk15A",
        "colab_type": "text"
      },
      "source": [
        "## separate dataset into train and test"
      ]
    },
    {
      "cell_type": "code",
      "metadata": {
        "id": "c31wSNBdk5q9",
        "colab_type": "code",
        "colab": {
          "base_uri": "https://localhost:8080/",
          "height": 34
        },
        "outputId": "d5986d59-36a2-4155-d879-545ad317dd3e"
      },
      "source": [
        "X_train, X_test, y_train, y_test = train_test_split(\n",
        "    data.drop(labels=['TARGET'], axis=1),\n",
        "    data['TARGET'],\n",
        "    test_size=0.3,\n",
        "    random_state=1)\n",
        " \n",
        "X_train.shape, X_test.shape"
      ],
      "execution_count": 12,
      "outputs": [
        {
          "output_type": "execute_result",
          "data": {
            "text/plain": [
              "((53214, 370), (22806, 370))"
            ]
          },
          "metadata": {
            "tags": []
          },
          "execution_count": 12
        }
      ]
    },
    {
      "cell_type": "markdown",
      "metadata": {
        "id": "wPS_Iz4vp9nm",
        "colab_type": "text"
      },
      "source": [
        "## Keep a copy of the dataset with all the variables to measure the performance of machine learning models at the end of the notebook"
      ]
    },
    {
      "cell_type": "code",
      "metadata": {
        "id": "junUkXSRp578",
        "colab_type": "code",
        "colab": {}
      },
      "source": [
        "X_train_original = X_train.copy()\n",
        "X_test_original = X_test.copy()"
      ],
      "execution_count": 0,
      "outputs": []
    },
    {
      "cell_type": "markdown",
      "metadata": {
        "id": "U0gUiz1plBGa",
        "colab_type": "text"
      },
      "source": [
        "##Remove constant features"
      ]
    },
    {
      "cell_type": "code",
      "metadata": {
        "id": "ce46Tq8glCHn",
        "colab_type": "code",
        "colab": {
          "base_uri": "https://localhost:8080/",
          "height": 71
        },
        "outputId": "be555a12-c67d-4ec3-deb1-87fdd1ea86dd"
      },
      "source": [
        "constant_features = [feat for feat in X_train.columns if X_train[feat].std() == 0]\n",
        "print(constant_features)\n",
        "#\n",
        "X_train.drop(labels=constant_features, axis=1, inplace=True)\n",
        "X_test.drop(labels=constant_features, axis=1, inplace=True)\n",
        "#\n",
        "X_train.shape, X_test.shape"
      ],
      "execution_count": 14,
      "outputs": [
        {
          "output_type": "stream",
          "text": [
            "['ind_var2_0', 'ind_var2', 'ind_var13_medio_0', 'ind_var13_medio', 'ind_var27_0', 'ind_var28_0', 'ind_var28', 'ind_var27', 'ind_var41', 'ind_var46_0', 'ind_var46', 'num_var13_medio_0', 'num_var13_medio', 'num_var27_0', 'num_var28_0', 'num_var28', 'num_var27', 'num_var41', 'num_var46_0', 'num_var46', 'saldo_var13_medio', 'saldo_var28', 'saldo_var27', 'saldo_var41', 'saldo_var46', 'imp_amort_var18_hace3', 'imp_amort_var34_hace3', 'imp_reemb_var13_hace3', 'imp_reemb_var33_hace3', 'imp_trasp_var17_out_hace3', 'imp_trasp_var33_out_hace3', 'num_var2_0_ult1', 'num_var2_ult1', 'num_meses_var13_medio_ult3', 'num_reemb_var13_hace3', 'num_reemb_var33_hace3', 'num_trasp_var17_out_hace3', 'num_trasp_var33_out_hace3', 'saldo_var2_ult1', 'saldo_medio_var13_medio_hace2', 'saldo_medio_var13_medio_hace3', 'saldo_medio_var13_medio_ult1', 'saldo_medio_var13_medio_ult3']\n"
          ],
          "name": "stdout"
        },
        {
          "output_type": "execute_result",
          "data": {
            "text/plain": [
              "((53214, 327), (22806, 327))"
            ]
          },
          "metadata": {
            "tags": []
          },
          "execution_count": 14
        }
      ]
    },
    {
      "cell_type": "markdown",
      "metadata": {
        "id": "BgdYSVrVq6ki",
        "colab_type": "text"
      },
      "source": [
        "##Remove quasi-constant features"
      ]
    },
    {
      "cell_type": "code",
      "metadata": {
        "id": "BbiaB-Gmq7nH",
        "colab_type": "code",
        "colab": {
          "base_uri": "https://localhost:8080/",
          "height": 34
        },
        "outputId": "00b423ef-9b30-46a4-e33d-5e49a433533f"
      },
      "source": [
        "sel = VarianceThreshold(threshold=0.01)  # 0.01 indicates 99% of observations approximately\n",
        " \n",
        "sel.fit(X_train)  # fit finds the features with low variance\n",
        " \n",
        "sum(sel.get_support()) # how many not quasi-constant?"
      ],
      "execution_count": 15,
      "outputs": [
        {
          "output_type": "execute_result",
          "data": {
            "text/plain": [
              "269"
            ]
          },
          "metadata": {
            "tags": []
          },
          "execution_count": 15
        }
      ]
    },
    {
      "cell_type": "code",
      "metadata": {
        "id": "TQr-vXDfrG0u",
        "colab_type": "code",
        "colab": {}
      },
      "source": [
        "features_to_keep = X_train.columns[sel.get_support()]"
      ],
      "execution_count": 0,
      "outputs": []
    },
    {
      "cell_type": "code",
      "metadata": {
        "id": "MTXguj2nrK_2",
        "colab_type": "code",
        "colab": {
          "base_uri": "https://localhost:8080/",
          "height": 34
        },
        "outputId": "b22f2534-f965-4c32-a883-2552e565f7ef"
      },
      "source": [
        "# we can then remove the features like this\n",
        "X_train = sel.transform(X_train)\n",
        "X_test = sel.transform(X_test)\n",
        " \n",
        "X_train.shape, X_test.shape"
      ],
      "execution_count": 17,
      "outputs": [
        {
          "output_type": "execute_result",
          "data": {
            "text/plain": [
              "((53214, 269), (22806, 269))"
            ]
          },
          "metadata": {
            "tags": []
          },
          "execution_count": 17
        }
      ]
    },
    {
      "cell_type": "markdown",
      "metadata": {
        "id": "lrbA5vrzrvYl",
        "colab_type": "text"
      },
      "source": [
        "## sklearn transformations lead to numpy arrays .Transform the arrays back to dataframes"
      ]
    },
    {
      "cell_type": "code",
      "metadata": {
        "id": "1i7iyp-kr0x9",
        "colab_type": "code",
        "colab": {}
      },
      "source": [
        "X_train= pd.DataFrame(X_train)\n",
        "X_train.columns = features_to_keep\n",
        " \n",
        "X_test= pd.DataFrame(X_test)\n",
        "X_test.columns = features_to_keep"
      ],
      "execution_count": 0,
      "outputs": []
    },
    {
      "cell_type": "code",
      "metadata": {
        "id": "d7g7dRyWsdL-",
        "colab_type": "code",
        "colab": {
          "base_uri": "https://localhost:8080/",
          "height": 34
        },
        "outputId": "2a0957c3-d837-4d5c-a82d-93f6cdd4b57c"
      },
      "source": [
        "X_train.shape,X_test.shape"
      ],
      "execution_count": 20,
      "outputs": [
        {
          "output_type": "execute_result",
          "data": {
            "text/plain": [
              "((53214, 269), (22806, 269))"
            ]
          },
          "metadata": {
            "tags": []
          },
          "execution_count": 20
        }
      ]
    },
    {
      "cell_type": "markdown",
      "metadata": {
        "id": "X6lxGrfCr_DS",
        "colab_type": "text"
      },
      "source": [
        "## Remove duplicated features"
      ]
    },
    {
      "cell_type": "code",
      "metadata": {
        "id": "FtPBt-AGsBKT",
        "colab_type": "code",
        "colab": {}
      },
      "source": [
        "X_train = X_train.drop_duplicates(keep='first')\n",
        "X_test = X_test.drop_duplicates(keep='first')"
      ],
      "execution_count": 0,
      "outputs": []
    },
    {
      "cell_type": "code",
      "metadata": {
        "id": "_yxdM4D-st3u",
        "colab_type": "code",
        "colab": {
          "base_uri": "https://localhost:8080/",
          "height": 493
        },
        "outputId": "0a9dc723-45e5-49d4-c949-17ca173f2870"
      },
      "source": [
        "# check for duplicated features in the training set\n",
        "duplicated_feat = []\n",
        "for i in range(0, len(X_train.columns)):\n",
        "    if i % 10 == 0:  # this helps me understand how the loop is going\n",
        "        print(i)\n",
        " \n",
        "    col_1 = X_train.columns[i]\n",
        " \n",
        "    for col_2 in X_train.columns[i + 1:]:\n",
        "        if X_train[col_1].equals(X_train[col_2]):\n",
        "            duplicated_feat.append(col_2)\n",
        "            \n",
        "len(duplicated_feat)"
      ],
      "execution_count": 23,
      "outputs": [
        {
          "output_type": "stream",
          "text": [
            "0\n",
            "10\n",
            "20\n",
            "30\n",
            "40\n",
            "50\n",
            "60\n",
            "70\n",
            "80\n",
            "90\n",
            "100\n",
            "110\n",
            "120\n",
            "130\n",
            "140\n",
            "150\n",
            "160\n",
            "170\n",
            "180\n",
            "190\n",
            "200\n",
            "210\n",
            "220\n",
            "230\n",
            "240\n",
            "250\n",
            "260\n"
          ],
          "name": "stdout"
        },
        {
          "output_type": "execute_result",
          "data": {
            "text/plain": [
              "16"
            ]
          },
          "metadata": {
            "tags": []
          },
          "execution_count": 23
        }
      ]
    },
    {
      "cell_type": "code",
      "metadata": {
        "id": "kyTVJYsJspFi",
        "colab_type": "code",
        "colab": {
          "base_uri": "https://localhost:8080/",
          "height": 34
        },
        "outputId": "72a1c0e1-b339-47c9-c721-332fcd402151"
      },
      "source": [
        "X_train.shape,X_test.shape"
      ],
      "execution_count": 24,
      "outputs": [
        {
          "output_type": "execute_result",
          "data": {
            "text/plain": [
              "((53214, 269), (22806, 269))"
            ]
          },
          "metadata": {
            "tags": []
          },
          "execution_count": 24
        }
      ]
    },
    {
      "cell_type": "code",
      "metadata": {
        "id": "uLkG1haktTt2",
        "colab_type": "code",
        "colab": {
          "base_uri": "https://localhost:8080/",
          "height": 289
        },
        "outputId": "f109c2da-9170-4572-957c-6a24f8910c25"
      },
      "source": [
        "duplicated_feat"
      ],
      "execution_count": 25,
      "outputs": [
        {
          "output_type": "execute_result",
          "data": {
            "text/plain": [
              "['ind_var26',\n",
              " 'ind_var25',\n",
              " 'ind_var37',\n",
              " 'num_var26',\n",
              " 'num_var25',\n",
              " 'num_var32',\n",
              " 'num_var37',\n",
              " 'num_var39',\n",
              " 'saldo_var29',\n",
              " 'delta_num_reemb_var13_1y3',\n",
              " 'delta_num_reemb_var17_1y3',\n",
              " 'delta_num_reemb_var33_1y3',\n",
              " 'delta_num_trasp_var17_in_1y3',\n",
              " 'delta_num_trasp_var17_out_1y3',\n",
              " 'delta_num_trasp_var33_in_1y3',\n",
              " 'delta_num_trasp_var33_out_1y3']"
            ]
          },
          "metadata": {
            "tags": []
          },
          "execution_count": 25
        }
      ]
    },
    {
      "cell_type": "code",
      "metadata": {
        "id": "iFG8HNE0tg3f",
        "colab_type": "code",
        "colab": {
          "base_uri": "https://localhost:8080/",
          "height": 34
        },
        "outputId": "be4343a3-74e7-4f87-f6bf-ef34bba2a8ad"
      },
      "source": [
        "# remove duplicated features\n",
        "X_train.drop(labels=duplicated_feat, axis=1, inplace=True)\n",
        "X_test.drop(labels=duplicated_feat, axis=1, inplace=True)\n",
        " \n",
        "X_train.shape, X_test.shape"
      ],
      "execution_count": 26,
      "outputs": [
        {
          "output_type": "execute_result",
          "data": {
            "text/plain": [
              "((53214, 253), (22806, 253))"
            ]
          },
          "metadata": {
            "tags": []
          },
          "execution_count": 26
        }
      ]
    },
    {
      "cell_type": "code",
      "metadata": {
        "id": "bhJ-CWnatq3y",
        "colab_type": "code",
        "colab": {}
      },
      "source": [
        "# Keep a copy of the dataset except constant and duplicated variables\n",
        "# to measure the performance of machine learning models\n",
        "# at the end of the notebook\n",
        " \n",
        "X_train_basic_filter = X_train.copy()\n",
        "X_test_basic_filter = X_test.copy()"
      ],
      "execution_count": 0,
      "outputs": []
    },
    {
      "cell_type": "markdown",
      "metadata": {
        "id": "E1KhGQI7t5bI",
        "colab_type": "text"
      },
      "source": [
        "##Remove correlated features"
      ]
    },
    {
      "cell_type": "code",
      "metadata": {
        "id": "whhlGtelt6aL",
        "colab_type": "code",
        "colab": {}
      },
      "source": [
        "# Create correlation matrix\n",
        "df_corr = X_train.corr().abs()"
      ],
      "execution_count": 0,
      "outputs": []
    },
    {
      "cell_type": "code",
      "metadata": {
        "id": "3hBdZFoWuk8w",
        "colab_type": "code",
        "colab": {
          "base_uri": "https://localhost:8080/",
          "height": 439
        },
        "outputId": "ea515c71-b608-4c66-9883-d3a77642d247"
      },
      "source": [
        "# Select upper triangle of correlation matrix\n",
        "import numpy as np\n",
        "upper = df_corr.where(np.triu(np.ones(df_corr.shape),k=1).astype(np.bool))\n",
        "upper"
      ],
      "execution_count": 33,
      "outputs": [
        {
          "output_type": "execute_result",
          "data": {
            "text/html": [
              "<div>\n",
              "<style scoped>\n",
              "    .dataframe tbody tr th:only-of-type {\n",
              "        vertical-align: middle;\n",
              "    }\n",
              "\n",
              "    .dataframe tbody tr th {\n",
              "        vertical-align: top;\n",
              "    }\n",
              "\n",
              "    .dataframe thead th {\n",
              "        text-align: right;\n",
              "    }\n",
              "</style>\n",
              "<table border=\"1\" class=\"dataframe\">\n",
              "  <thead>\n",
              "    <tr style=\"text-align: right;\">\n",
              "      <th></th>\n",
              "      <th>ID</th>\n",
              "      <th>var3</th>\n",
              "      <th>var15</th>\n",
              "      <th>imp_ent_var16_ult1</th>\n",
              "      <th>imp_op_var39_comer_ult1</th>\n",
              "      <th>imp_op_var39_comer_ult3</th>\n",
              "      <th>imp_op_var40_comer_ult1</th>\n",
              "      <th>imp_op_var40_comer_ult3</th>\n",
              "      <th>imp_op_var40_efect_ult1</th>\n",
              "      <th>imp_op_var40_efect_ult3</th>\n",
              "      <th>imp_op_var40_ult1</th>\n",
              "      <th>imp_op_var41_comer_ult1</th>\n",
              "      <th>imp_op_var41_comer_ult3</th>\n",
              "      <th>imp_op_var41_efect_ult1</th>\n",
              "      <th>imp_op_var41_efect_ult3</th>\n",
              "      <th>imp_op_var41_ult1</th>\n",
              "      <th>imp_op_var39_efect_ult1</th>\n",
              "      <th>imp_op_var39_efect_ult3</th>\n",
              "      <th>imp_op_var39_ult1</th>\n",
              "      <th>imp_sal_var16_ult1</th>\n",
              "      <th>ind_var1_0</th>\n",
              "      <th>ind_var5_0</th>\n",
              "      <th>ind_var5</th>\n",
              "      <th>ind_var8_0</th>\n",
              "      <th>ind_var8</th>\n",
              "      <th>ind_var12_0</th>\n",
              "      <th>ind_var12</th>\n",
              "      <th>ind_var13_0</th>\n",
              "      <th>ind_var13_corto_0</th>\n",
              "      <th>ind_var13_corto</th>\n",
              "      <th>ind_var13_largo_0</th>\n",
              "      <th>ind_var13_largo</th>\n",
              "      <th>ind_var13</th>\n",
              "      <th>ind_var14_0</th>\n",
              "      <th>ind_var24_0</th>\n",
              "      <th>ind_var24</th>\n",
              "      <th>ind_var25_cte</th>\n",
              "      <th>ind_var26_0</th>\n",
              "      <th>ind_var26_cte</th>\n",
              "      <th>ind_var25_0</th>\n",
              "      <th>...</th>\n",
              "      <th>num_var45_hace3</th>\n",
              "      <th>num_var45_ult1</th>\n",
              "      <th>num_var45_ult3</th>\n",
              "      <th>saldo_medio_var5_hace2</th>\n",
              "      <th>saldo_medio_var5_hace3</th>\n",
              "      <th>saldo_medio_var5_ult1</th>\n",
              "      <th>saldo_medio_var5_ult3</th>\n",
              "      <th>saldo_medio_var8_hace2</th>\n",
              "      <th>saldo_medio_var8_hace3</th>\n",
              "      <th>saldo_medio_var8_ult1</th>\n",
              "      <th>saldo_medio_var8_ult3</th>\n",
              "      <th>saldo_medio_var12_hace2</th>\n",
              "      <th>saldo_medio_var12_hace3</th>\n",
              "      <th>saldo_medio_var12_ult1</th>\n",
              "      <th>saldo_medio_var12_ult3</th>\n",
              "      <th>saldo_medio_var13_corto_hace2</th>\n",
              "      <th>saldo_medio_var13_corto_hace3</th>\n",
              "      <th>saldo_medio_var13_corto_ult1</th>\n",
              "      <th>saldo_medio_var13_corto_ult3</th>\n",
              "      <th>saldo_medio_var13_largo_hace2</th>\n",
              "      <th>saldo_medio_var13_largo_hace3</th>\n",
              "      <th>saldo_medio_var13_largo_ult1</th>\n",
              "      <th>saldo_medio_var13_largo_ult3</th>\n",
              "      <th>saldo_medio_var17_hace2</th>\n",
              "      <th>saldo_medio_var17_hace3</th>\n",
              "      <th>saldo_medio_var17_ult1</th>\n",
              "      <th>saldo_medio_var17_ult3</th>\n",
              "      <th>saldo_medio_var29_hace2</th>\n",
              "      <th>saldo_medio_var29_hace3</th>\n",
              "      <th>saldo_medio_var29_ult1</th>\n",
              "      <th>saldo_medio_var29_ult3</th>\n",
              "      <th>saldo_medio_var33_hace2</th>\n",
              "      <th>saldo_medio_var33_hace3</th>\n",
              "      <th>saldo_medio_var33_ult1</th>\n",
              "      <th>saldo_medio_var33_ult3</th>\n",
              "      <th>saldo_medio_var44_hace2</th>\n",
              "      <th>saldo_medio_var44_hace3</th>\n",
              "      <th>saldo_medio_var44_ult1</th>\n",
              "      <th>saldo_medio_var44_ult3</th>\n",
              "      <th>var38</th>\n",
              "    </tr>\n",
              "  </thead>\n",
              "  <tbody>\n",
              "    <tr>\n",
              "      <th>ID</th>\n",
              "      <td>NaN</td>\n",
              "      <td>0.000693</td>\n",
              "      <td>0.005353</td>\n",
              "      <td>0.000690</td>\n",
              "      <td>0.001844</td>\n",
              "      <td>0.002232</td>\n",
              "      <td>0.005337</td>\n",
              "      <td>0.005283</td>\n",
              "      <td>0.006391</td>\n",
              "      <td>0.005840</td>\n",
              "      <td>0.010243</td>\n",
              "      <td>0.003557</td>\n",
              "      <td>0.000810</td>\n",
              "      <td>0.000033</td>\n",
              "      <td>0.001330</td>\n",
              "      <td>0.002920</td>\n",
              "      <td>0.000466</td>\n",
              "      <td>0.001614</td>\n",
              "      <td>0.001471</td>\n",
              "      <td>0.005926</td>\n",
              "      <td>0.004250</td>\n",
              "      <td>0.001369</td>\n",
              "      <td>0.002155</td>\n",
              "      <td>0.000734</td>\n",
              "      <td>0.001087</td>\n",
              "      <td>0.004552</td>\n",
              "      <td>0.009444</td>\n",
              "      <td>0.002147</td>\n",
              "      <td>0.002653</td>\n",
              "      <td>0.003567</td>\n",
              "      <td>0.000586</td>\n",
              "      <td>0.000413</td>\n",
              "      <td>0.002987</td>\n",
              "      <td>0.003916</td>\n",
              "      <td>0.009782</td>\n",
              "      <td>0.011560</td>\n",
              "      <td>0.000465</td>\n",
              "      <td>0.000314</td>\n",
              "      <td>0.001002</td>\n",
              "      <td>0.001378</td>\n",
              "      <td>...</td>\n",
              "      <td>0.001408</td>\n",
              "      <td>0.000343</td>\n",
              "      <td>0.000348</td>\n",
              "      <td>0.004462</td>\n",
              "      <td>0.007501</td>\n",
              "      <td>0.004571</td>\n",
              "      <td>0.002594</td>\n",
              "      <td>0.001879</td>\n",
              "      <td>0.005036</td>\n",
              "      <td>0.003630</td>\n",
              "      <td>0.003822</td>\n",
              "      <td>0.007979</td>\n",
              "      <td>0.007016</td>\n",
              "      <td>0.006958</td>\n",
              "      <td>0.006893</td>\n",
              "      <td>0.004340</td>\n",
              "      <td>0.000133</td>\n",
              "      <td>0.004375</td>\n",
              "      <td>0.004722</td>\n",
              "      <td>0.002769</td>\n",
              "      <td>0.002417</td>\n",
              "      <td>0.003395</td>\n",
              "      <td>0.004271</td>\n",
              "      <td>0.006154</td>\n",
              "      <td>0.000547</td>\n",
              "      <td>0.006233</td>\n",
              "      <td>0.004878</td>\n",
              "      <td>0.000820</td>\n",
              "      <td>0.000157</td>\n",
              "      <td>0.007195</td>\n",
              "      <td>0.009152</td>\n",
              "      <td>0.002319</td>\n",
              "      <td>0.001996</td>\n",
              "      <td>0.004407</td>\n",
              "      <td>0.004310</td>\n",
              "      <td>0.005680</td>\n",
              "      <td>0.003435</td>\n",
              "      <td>0.003635</td>\n",
              "      <td>0.003208</td>\n",
              "      <td>0.008756</td>\n",
              "    </tr>\n",
              "    <tr>\n",
              "      <th>var3</th>\n",
              "      <td>NaN</td>\n",
              "      <td>NaN</td>\n",
              "      <td>0.003410</td>\n",
              "      <td>0.001764</td>\n",
              "      <td>0.004574</td>\n",
              "      <td>0.005690</td>\n",
              "      <td>0.001563</td>\n",
              "      <td>0.001756</td>\n",
              "      <td>0.000550</td>\n",
              "      <td>0.000616</td>\n",
              "      <td>0.001334</td>\n",
              "      <td>0.004402</td>\n",
              "      <td>0.005544</td>\n",
              "      <td>0.000079</td>\n",
              "      <td>0.001392</td>\n",
              "      <td>0.002008</td>\n",
              "      <td>0.000041</td>\n",
              "      <td>0.001414</td>\n",
              "      <td>0.002141</td>\n",
              "      <td>0.000435</td>\n",
              "      <td>0.000344</td>\n",
              "      <td>0.008018</td>\n",
              "      <td>0.035051</td>\n",
              "      <td>0.007025</td>\n",
              "      <td>0.006548</td>\n",
              "      <td>0.010358</td>\n",
              "      <td>0.008407</td>\n",
              "      <td>0.009101</td>\n",
              "      <td>0.008185</td>\n",
              "      <td>0.008025</td>\n",
              "      <td>0.003993</td>\n",
              "      <td>0.003961</td>\n",
              "      <td>0.008960</td>\n",
              "      <td>0.006000</td>\n",
              "      <td>0.008125</td>\n",
              "      <td>0.007679</td>\n",
              "      <td>0.006296</td>\n",
              "      <td>0.006060</td>\n",
              "      <td>0.006431</td>\n",
              "      <td>0.005937</td>\n",
              "      <td>...</td>\n",
              "      <td>0.008048</td>\n",
              "      <td>0.007433</td>\n",
              "      <td>0.007096</td>\n",
              "      <td>0.004343</td>\n",
              "      <td>0.003887</td>\n",
              "      <td>0.003629</td>\n",
              "      <td>0.004308</td>\n",
              "      <td>0.001838</td>\n",
              "      <td>0.000702</td>\n",
              "      <td>0.002434</td>\n",
              "      <td>0.002379</td>\n",
              "      <td>0.004060</td>\n",
              "      <td>0.002451</td>\n",
              "      <td>0.004799</td>\n",
              "      <td>0.004878</td>\n",
              "      <td>0.005320</td>\n",
              "      <td>0.002975</td>\n",
              "      <td>0.005854</td>\n",
              "      <td>0.005814</td>\n",
              "      <td>0.002315</td>\n",
              "      <td>0.001467</td>\n",
              "      <td>0.002346</td>\n",
              "      <td>0.002388</td>\n",
              "      <td>0.000674</td>\n",
              "      <td>0.000292</td>\n",
              "      <td>0.000799</td>\n",
              "      <td>0.000861</td>\n",
              "      <td>0.000233</td>\n",
              "      <td>0.000167</td>\n",
              "      <td>0.000223</td>\n",
              "      <td>0.000268</td>\n",
              "      <td>0.000674</td>\n",
              "      <td>0.000485</td>\n",
              "      <td>0.000582</td>\n",
              "      <td>0.000608</td>\n",
              "      <td>0.000575</td>\n",
              "      <td>0.000514</td>\n",
              "      <td>0.000697</td>\n",
              "      <td>0.000769</td>\n",
              "      <td>0.000052</td>\n",
              "    </tr>\n",
              "    <tr>\n",
              "      <th>var15</th>\n",
              "      <td>NaN</td>\n",
              "      <td>NaN</td>\n",
              "      <td>NaN</td>\n",
              "      <td>0.040397</td>\n",
              "      <td>0.092375</td>\n",
              "      <td>0.099206</td>\n",
              "      <td>0.045242</td>\n",
              "      <td>0.052795</td>\n",
              "      <td>0.008735</td>\n",
              "      <td>0.009206</td>\n",
              "      <td>0.037703</td>\n",
              "      <td>0.084809</td>\n",
              "      <td>0.090087</td>\n",
              "      <td>0.085532</td>\n",
              "      <td>0.082997</td>\n",
              "      <td>0.103642</td>\n",
              "      <td>0.085277</td>\n",
              "      <td>0.082923</td>\n",
              "      <td>0.106287</td>\n",
              "      <td>0.013640</td>\n",
              "      <td>0.108934</td>\n",
              "      <td>0.120042</td>\n",
              "      <td>0.097694</td>\n",
              "      <td>0.117210</td>\n",
              "      <td>0.106289</td>\n",
              "      <td>0.264526</td>\n",
              "      <td>0.219967</td>\n",
              "      <td>0.303071</td>\n",
              "      <td>0.244760</td>\n",
              "      <td>0.242472</td>\n",
              "      <td>0.191412</td>\n",
              "      <td>0.191956</td>\n",
              "      <td>0.301864</td>\n",
              "      <td>0.152322</td>\n",
              "      <td>0.251101</td>\n",
              "      <td>0.241224</td>\n",
              "      <td>0.085507</td>\n",
              "      <td>0.096586</td>\n",
              "      <td>0.100069</td>\n",
              "      <td>0.083288</td>\n",
              "      <td>...</td>\n",
              "      <td>0.228360</td>\n",
              "      <td>0.154928</td>\n",
              "      <td>0.227385</td>\n",
              "      <td>0.173926</td>\n",
              "      <td>0.147660</td>\n",
              "      <td>0.127364</td>\n",
              "      <td>0.162532</td>\n",
              "      <td>0.054233</td>\n",
              "      <td>0.020494</td>\n",
              "      <td>0.064399</td>\n",
              "      <td>0.067084</td>\n",
              "      <td>0.161871</td>\n",
              "      <td>0.103263</td>\n",
              "      <td>0.187661</td>\n",
              "      <td>0.190046</td>\n",
              "      <td>0.190363</td>\n",
              "      <td>0.107205</td>\n",
              "      <td>0.210746</td>\n",
              "      <td>0.208718</td>\n",
              "      <td>0.125335</td>\n",
              "      <td>0.079274</td>\n",
              "      <td>0.123976</td>\n",
              "      <td>0.125667</td>\n",
              "      <td>0.040650</td>\n",
              "      <td>0.019041</td>\n",
              "      <td>0.041774</td>\n",
              "      <td>0.046375</td>\n",
              "      <td>0.009415</td>\n",
              "      <td>0.003421</td>\n",
              "      <td>0.012745</td>\n",
              "      <td>0.013871</td>\n",
              "      <td>0.030178</td>\n",
              "      <td>0.018317</td>\n",
              "      <td>0.029240</td>\n",
              "      <td>0.029662</td>\n",
              "      <td>0.027682</td>\n",
              "      <td>0.020785</td>\n",
              "      <td>0.033246</td>\n",
              "      <td>0.036761</td>\n",
              "      <td>0.006741</td>\n",
              "    </tr>\n",
              "    <tr>\n",
              "      <th>imp_ent_var16_ult1</th>\n",
              "      <td>NaN</td>\n",
              "      <td>NaN</td>\n",
              "      <td>NaN</td>\n",
              "      <td>NaN</td>\n",
              "      <td>0.041577</td>\n",
              "      <td>0.035345</td>\n",
              "      <td>0.009419</td>\n",
              "      <td>0.010578</td>\n",
              "      <td>0.000855</td>\n",
              "      <td>0.003151</td>\n",
              "      <td>0.012173</td>\n",
              "      <td>0.041441</td>\n",
              "      <td>0.034540</td>\n",
              "      <td>0.023863</td>\n",
              "      <td>0.020304</td>\n",
              "      <td>0.038071</td>\n",
              "      <td>0.023685</td>\n",
              "      <td>0.020331</td>\n",
              "      <td>0.038817</td>\n",
              "      <td>0.000226</td>\n",
              "      <td>0.021812</td>\n",
              "      <td>0.002271</td>\n",
              "      <td>0.016926</td>\n",
              "      <td>0.003877</td>\n",
              "      <td>0.005491</td>\n",
              "      <td>0.034847</td>\n",
              "      <td>0.040622</td>\n",
              "      <td>0.041212</td>\n",
              "      <td>0.031615</td>\n",
              "      <td>0.031828</td>\n",
              "      <td>0.026844</td>\n",
              "      <td>0.027080</td>\n",
              "      <td>0.041453</td>\n",
              "      <td>0.020948</td>\n",
              "      <td>0.034585</td>\n",
              "      <td>0.034004</td>\n",
              "      <td>0.012869</td>\n",
              "      <td>0.012461</td>\n",
              "      <td>0.012255</td>\n",
              "      <td>0.013039</td>\n",
              "      <td>...</td>\n",
              "      <td>0.018586</td>\n",
              "      <td>0.056873</td>\n",
              "      <td>0.046673</td>\n",
              "      <td>0.009512</td>\n",
              "      <td>0.000215</td>\n",
              "      <td>0.031655</td>\n",
              "      <td>0.026218</td>\n",
              "      <td>0.008739</td>\n",
              "      <td>0.001587</td>\n",
              "      <td>0.008214</td>\n",
              "      <td>0.006757</td>\n",
              "      <td>0.003225</td>\n",
              "      <td>0.000128</td>\n",
              "      <td>0.008488</td>\n",
              "      <td>0.007744</td>\n",
              "      <td>0.005025</td>\n",
              "      <td>0.002425</td>\n",
              "      <td>0.010883</td>\n",
              "      <td>0.015285</td>\n",
              "      <td>0.007888</td>\n",
              "      <td>0.001253</td>\n",
              "      <td>0.013797</td>\n",
              "      <td>0.016092</td>\n",
              "      <td>0.000903</td>\n",
              "      <td>0.000411</td>\n",
              "      <td>0.000712</td>\n",
              "      <td>0.000906</td>\n",
              "      <td>0.000331</td>\n",
              "      <td>0.000236</td>\n",
              "      <td>0.005374</td>\n",
              "      <td>0.008917</td>\n",
              "      <td>0.000910</td>\n",
              "      <td>0.000662</td>\n",
              "      <td>0.000598</td>\n",
              "      <td>0.000544</td>\n",
              "      <td>0.003653</td>\n",
              "      <td>0.000570</td>\n",
              "      <td>0.007205</td>\n",
              "      <td>0.010253</td>\n",
              "      <td>0.000782</td>\n",
              "    </tr>\n",
              "    <tr>\n",
              "      <th>imp_op_var39_comer_ult1</th>\n",
              "      <td>NaN</td>\n",
              "      <td>NaN</td>\n",
              "      <td>NaN</td>\n",
              "      <td>NaN</td>\n",
              "      <td>NaN</td>\n",
              "      <td>0.881357</td>\n",
              "      <td>0.349344</td>\n",
              "      <td>0.298969</td>\n",
              "      <td>0.035157</td>\n",
              "      <td>0.057864</td>\n",
              "      <td>0.242072</td>\n",
              "      <td>0.960038</td>\n",
              "      <td>0.850837</td>\n",
              "      <td>0.276382</td>\n",
              "      <td>0.273425</td>\n",
              "      <td>0.644177</td>\n",
              "      <td>0.276027</td>\n",
              "      <td>0.274561</td>\n",
              "      <td>0.661661</td>\n",
              "      <td>0.012904</td>\n",
              "      <td>0.221596</td>\n",
              "      <td>0.217318</td>\n",
              "      <td>0.034844</td>\n",
              "      <td>0.212450</td>\n",
              "      <td>0.231861</td>\n",
              "      <td>0.008275</td>\n",
              "      <td>0.016663</td>\n",
              "      <td>0.017920</td>\n",
              "      <td>0.018325</td>\n",
              "      <td>0.018356</td>\n",
              "      <td>0.003522</td>\n",
              "      <td>0.004831</td>\n",
              "      <td>0.018212</td>\n",
              "      <td>0.011708</td>\n",
              "      <td>0.005499</td>\n",
              "      <td>0.005228</td>\n",
              "      <td>0.240214</td>\n",
              "      <td>0.230606</td>\n",
              "      <td>0.235423</td>\n",
              "      <td>0.234964</td>\n",
              "      <td>...</td>\n",
              "      <td>0.154639</td>\n",
              "      <td>0.277929</td>\n",
              "      <td>0.274934</td>\n",
              "      <td>0.022600</td>\n",
              "      <td>0.002438</td>\n",
              "      <td>0.046900</td>\n",
              "      <td>0.033448</td>\n",
              "      <td>0.096301</td>\n",
              "      <td>0.078943</td>\n",
              "      <td>0.134005</td>\n",
              "      <td>0.130677</td>\n",
              "      <td>0.011459</td>\n",
              "      <td>0.007262</td>\n",
              "      <td>0.011419</td>\n",
              "      <td>0.011298</td>\n",
              "      <td>0.015291</td>\n",
              "      <td>0.001641</td>\n",
              "      <td>0.018278</td>\n",
              "      <td>0.017801</td>\n",
              "      <td>0.003874</td>\n",
              "      <td>0.001848</td>\n",
              "      <td>0.005424</td>\n",
              "      <td>0.005415</td>\n",
              "      <td>0.002621</td>\n",
              "      <td>0.001569</td>\n",
              "      <td>0.001819</td>\n",
              "      <td>0.001669</td>\n",
              "      <td>0.001274</td>\n",
              "      <td>0.000907</td>\n",
              "      <td>0.000520</td>\n",
              "      <td>0.001377</td>\n",
              "      <td>0.017530</td>\n",
              "      <td>0.016137</td>\n",
              "      <td>0.010836</td>\n",
              "      <td>0.012938</td>\n",
              "      <td>0.001973</td>\n",
              "      <td>0.006788</td>\n",
              "      <td>0.004128</td>\n",
              "      <td>0.005472</td>\n",
              "      <td>0.011939</td>\n",
              "    </tr>\n",
              "    <tr>\n",
              "      <th>...</th>\n",
              "      <td>...</td>\n",
              "      <td>...</td>\n",
              "      <td>...</td>\n",
              "      <td>...</td>\n",
              "      <td>...</td>\n",
              "      <td>...</td>\n",
              "      <td>...</td>\n",
              "      <td>...</td>\n",
              "      <td>...</td>\n",
              "      <td>...</td>\n",
              "      <td>...</td>\n",
              "      <td>...</td>\n",
              "      <td>...</td>\n",
              "      <td>...</td>\n",
              "      <td>...</td>\n",
              "      <td>...</td>\n",
              "      <td>...</td>\n",
              "      <td>...</td>\n",
              "      <td>...</td>\n",
              "      <td>...</td>\n",
              "      <td>...</td>\n",
              "      <td>...</td>\n",
              "      <td>...</td>\n",
              "      <td>...</td>\n",
              "      <td>...</td>\n",
              "      <td>...</td>\n",
              "      <td>...</td>\n",
              "      <td>...</td>\n",
              "      <td>...</td>\n",
              "      <td>...</td>\n",
              "      <td>...</td>\n",
              "      <td>...</td>\n",
              "      <td>...</td>\n",
              "      <td>...</td>\n",
              "      <td>...</td>\n",
              "      <td>...</td>\n",
              "      <td>...</td>\n",
              "      <td>...</td>\n",
              "      <td>...</td>\n",
              "      <td>...</td>\n",
              "      <td>...</td>\n",
              "      <td>...</td>\n",
              "      <td>...</td>\n",
              "      <td>...</td>\n",
              "      <td>...</td>\n",
              "      <td>...</td>\n",
              "      <td>...</td>\n",
              "      <td>...</td>\n",
              "      <td>...</td>\n",
              "      <td>...</td>\n",
              "      <td>...</td>\n",
              "      <td>...</td>\n",
              "      <td>...</td>\n",
              "      <td>...</td>\n",
              "      <td>...</td>\n",
              "      <td>...</td>\n",
              "      <td>...</td>\n",
              "      <td>...</td>\n",
              "      <td>...</td>\n",
              "      <td>...</td>\n",
              "      <td>...</td>\n",
              "      <td>...</td>\n",
              "      <td>...</td>\n",
              "      <td>...</td>\n",
              "      <td>...</td>\n",
              "      <td>...</td>\n",
              "      <td>...</td>\n",
              "      <td>...</td>\n",
              "      <td>...</td>\n",
              "      <td>...</td>\n",
              "      <td>...</td>\n",
              "      <td>...</td>\n",
              "      <td>...</td>\n",
              "      <td>...</td>\n",
              "      <td>...</td>\n",
              "      <td>...</td>\n",
              "      <td>...</td>\n",
              "      <td>...</td>\n",
              "      <td>...</td>\n",
              "      <td>...</td>\n",
              "      <td>...</td>\n",
              "    </tr>\n",
              "    <tr>\n",
              "      <th>saldo_medio_var44_hace2</th>\n",
              "      <td>NaN</td>\n",
              "      <td>NaN</td>\n",
              "      <td>NaN</td>\n",
              "      <td>NaN</td>\n",
              "      <td>NaN</td>\n",
              "      <td>NaN</td>\n",
              "      <td>NaN</td>\n",
              "      <td>NaN</td>\n",
              "      <td>NaN</td>\n",
              "      <td>NaN</td>\n",
              "      <td>NaN</td>\n",
              "      <td>NaN</td>\n",
              "      <td>NaN</td>\n",
              "      <td>NaN</td>\n",
              "      <td>NaN</td>\n",
              "      <td>NaN</td>\n",
              "      <td>NaN</td>\n",
              "      <td>NaN</td>\n",
              "      <td>NaN</td>\n",
              "      <td>NaN</td>\n",
              "      <td>NaN</td>\n",
              "      <td>NaN</td>\n",
              "      <td>NaN</td>\n",
              "      <td>NaN</td>\n",
              "      <td>NaN</td>\n",
              "      <td>NaN</td>\n",
              "      <td>NaN</td>\n",
              "      <td>NaN</td>\n",
              "      <td>NaN</td>\n",
              "      <td>NaN</td>\n",
              "      <td>NaN</td>\n",
              "      <td>NaN</td>\n",
              "      <td>NaN</td>\n",
              "      <td>NaN</td>\n",
              "      <td>NaN</td>\n",
              "      <td>NaN</td>\n",
              "      <td>NaN</td>\n",
              "      <td>NaN</td>\n",
              "      <td>NaN</td>\n",
              "      <td>NaN</td>\n",
              "      <td>...</td>\n",
              "      <td>NaN</td>\n",
              "      <td>NaN</td>\n",
              "      <td>NaN</td>\n",
              "      <td>NaN</td>\n",
              "      <td>NaN</td>\n",
              "      <td>NaN</td>\n",
              "      <td>NaN</td>\n",
              "      <td>NaN</td>\n",
              "      <td>NaN</td>\n",
              "      <td>NaN</td>\n",
              "      <td>NaN</td>\n",
              "      <td>NaN</td>\n",
              "      <td>NaN</td>\n",
              "      <td>NaN</td>\n",
              "      <td>NaN</td>\n",
              "      <td>NaN</td>\n",
              "      <td>NaN</td>\n",
              "      <td>NaN</td>\n",
              "      <td>NaN</td>\n",
              "      <td>NaN</td>\n",
              "      <td>NaN</td>\n",
              "      <td>NaN</td>\n",
              "      <td>NaN</td>\n",
              "      <td>NaN</td>\n",
              "      <td>NaN</td>\n",
              "      <td>NaN</td>\n",
              "      <td>NaN</td>\n",
              "      <td>NaN</td>\n",
              "      <td>NaN</td>\n",
              "      <td>NaN</td>\n",
              "      <td>NaN</td>\n",
              "      <td>NaN</td>\n",
              "      <td>NaN</td>\n",
              "      <td>NaN</td>\n",
              "      <td>NaN</td>\n",
              "      <td>NaN</td>\n",
              "      <td>0.450117</td>\n",
              "      <td>0.882247</td>\n",
              "      <td>0.827879</td>\n",
              "      <td>0.002158</td>\n",
              "    </tr>\n",
              "    <tr>\n",
              "      <th>saldo_medio_var44_hace3</th>\n",
              "      <td>NaN</td>\n",
              "      <td>NaN</td>\n",
              "      <td>NaN</td>\n",
              "      <td>NaN</td>\n",
              "      <td>NaN</td>\n",
              "      <td>NaN</td>\n",
              "      <td>NaN</td>\n",
              "      <td>NaN</td>\n",
              "      <td>NaN</td>\n",
              "      <td>NaN</td>\n",
              "      <td>NaN</td>\n",
              "      <td>NaN</td>\n",
              "      <td>NaN</td>\n",
              "      <td>NaN</td>\n",
              "      <td>NaN</td>\n",
              "      <td>NaN</td>\n",
              "      <td>NaN</td>\n",
              "      <td>NaN</td>\n",
              "      <td>NaN</td>\n",
              "      <td>NaN</td>\n",
              "      <td>NaN</td>\n",
              "      <td>NaN</td>\n",
              "      <td>NaN</td>\n",
              "      <td>NaN</td>\n",
              "      <td>NaN</td>\n",
              "      <td>NaN</td>\n",
              "      <td>NaN</td>\n",
              "      <td>NaN</td>\n",
              "      <td>NaN</td>\n",
              "      <td>NaN</td>\n",
              "      <td>NaN</td>\n",
              "      <td>NaN</td>\n",
              "      <td>NaN</td>\n",
              "      <td>NaN</td>\n",
              "      <td>NaN</td>\n",
              "      <td>NaN</td>\n",
              "      <td>NaN</td>\n",
              "      <td>NaN</td>\n",
              "      <td>NaN</td>\n",
              "      <td>NaN</td>\n",
              "      <td>...</td>\n",
              "      <td>NaN</td>\n",
              "      <td>NaN</td>\n",
              "      <td>NaN</td>\n",
              "      <td>NaN</td>\n",
              "      <td>NaN</td>\n",
              "      <td>NaN</td>\n",
              "      <td>NaN</td>\n",
              "      <td>NaN</td>\n",
              "      <td>NaN</td>\n",
              "      <td>NaN</td>\n",
              "      <td>NaN</td>\n",
              "      <td>NaN</td>\n",
              "      <td>NaN</td>\n",
              "      <td>NaN</td>\n",
              "      <td>NaN</td>\n",
              "      <td>NaN</td>\n",
              "      <td>NaN</td>\n",
              "      <td>NaN</td>\n",
              "      <td>NaN</td>\n",
              "      <td>NaN</td>\n",
              "      <td>NaN</td>\n",
              "      <td>NaN</td>\n",
              "      <td>NaN</td>\n",
              "      <td>NaN</td>\n",
              "      <td>NaN</td>\n",
              "      <td>NaN</td>\n",
              "      <td>NaN</td>\n",
              "      <td>NaN</td>\n",
              "      <td>NaN</td>\n",
              "      <td>NaN</td>\n",
              "      <td>NaN</td>\n",
              "      <td>NaN</td>\n",
              "      <td>NaN</td>\n",
              "      <td>NaN</td>\n",
              "      <td>NaN</td>\n",
              "      <td>NaN</td>\n",
              "      <td>NaN</td>\n",
              "      <td>0.298042</td>\n",
              "      <td>0.289146</td>\n",
              "      <td>0.004064</td>\n",
              "    </tr>\n",
              "    <tr>\n",
              "      <th>saldo_medio_var44_ult1</th>\n",
              "      <td>NaN</td>\n",
              "      <td>NaN</td>\n",
              "      <td>NaN</td>\n",
              "      <td>NaN</td>\n",
              "      <td>NaN</td>\n",
              "      <td>NaN</td>\n",
              "      <td>NaN</td>\n",
              "      <td>NaN</td>\n",
              "      <td>NaN</td>\n",
              "      <td>NaN</td>\n",
              "      <td>NaN</td>\n",
              "      <td>NaN</td>\n",
              "      <td>NaN</td>\n",
              "      <td>NaN</td>\n",
              "      <td>NaN</td>\n",
              "      <td>NaN</td>\n",
              "      <td>NaN</td>\n",
              "      <td>NaN</td>\n",
              "      <td>NaN</td>\n",
              "      <td>NaN</td>\n",
              "      <td>NaN</td>\n",
              "      <td>NaN</td>\n",
              "      <td>NaN</td>\n",
              "      <td>NaN</td>\n",
              "      <td>NaN</td>\n",
              "      <td>NaN</td>\n",
              "      <td>NaN</td>\n",
              "      <td>NaN</td>\n",
              "      <td>NaN</td>\n",
              "      <td>NaN</td>\n",
              "      <td>NaN</td>\n",
              "      <td>NaN</td>\n",
              "      <td>NaN</td>\n",
              "      <td>NaN</td>\n",
              "      <td>NaN</td>\n",
              "      <td>NaN</td>\n",
              "      <td>NaN</td>\n",
              "      <td>NaN</td>\n",
              "      <td>NaN</td>\n",
              "      <td>NaN</td>\n",
              "      <td>...</td>\n",
              "      <td>NaN</td>\n",
              "      <td>NaN</td>\n",
              "      <td>NaN</td>\n",
              "      <td>NaN</td>\n",
              "      <td>NaN</td>\n",
              "      <td>NaN</td>\n",
              "      <td>NaN</td>\n",
              "      <td>NaN</td>\n",
              "      <td>NaN</td>\n",
              "      <td>NaN</td>\n",
              "      <td>NaN</td>\n",
              "      <td>NaN</td>\n",
              "      <td>NaN</td>\n",
              "      <td>NaN</td>\n",
              "      <td>NaN</td>\n",
              "      <td>NaN</td>\n",
              "      <td>NaN</td>\n",
              "      <td>NaN</td>\n",
              "      <td>NaN</td>\n",
              "      <td>NaN</td>\n",
              "      <td>NaN</td>\n",
              "      <td>NaN</td>\n",
              "      <td>NaN</td>\n",
              "      <td>NaN</td>\n",
              "      <td>NaN</td>\n",
              "      <td>NaN</td>\n",
              "      <td>NaN</td>\n",
              "      <td>NaN</td>\n",
              "      <td>NaN</td>\n",
              "      <td>NaN</td>\n",
              "      <td>NaN</td>\n",
              "      <td>NaN</td>\n",
              "      <td>NaN</td>\n",
              "      <td>NaN</td>\n",
              "      <td>NaN</td>\n",
              "      <td>NaN</td>\n",
              "      <td>NaN</td>\n",
              "      <td>NaN</td>\n",
              "      <td>0.979138</td>\n",
              "      <td>0.002070</td>\n",
              "    </tr>\n",
              "    <tr>\n",
              "      <th>saldo_medio_var44_ult3</th>\n",
              "      <td>NaN</td>\n",
              "      <td>NaN</td>\n",
              "      <td>NaN</td>\n",
              "      <td>NaN</td>\n",
              "      <td>NaN</td>\n",
              "      <td>NaN</td>\n",
              "      <td>NaN</td>\n",
              "      <td>NaN</td>\n",
              "      <td>NaN</td>\n",
              "      <td>NaN</td>\n",
              "      <td>NaN</td>\n",
              "      <td>NaN</td>\n",
              "      <td>NaN</td>\n",
              "      <td>NaN</td>\n",
              "      <td>NaN</td>\n",
              "      <td>NaN</td>\n",
              "      <td>NaN</td>\n",
              "      <td>NaN</td>\n",
              "      <td>NaN</td>\n",
              "      <td>NaN</td>\n",
              "      <td>NaN</td>\n",
              "      <td>NaN</td>\n",
              "      <td>NaN</td>\n",
              "      <td>NaN</td>\n",
              "      <td>NaN</td>\n",
              "      <td>NaN</td>\n",
              "      <td>NaN</td>\n",
              "      <td>NaN</td>\n",
              "      <td>NaN</td>\n",
              "      <td>NaN</td>\n",
              "      <td>NaN</td>\n",
              "      <td>NaN</td>\n",
              "      <td>NaN</td>\n",
              "      <td>NaN</td>\n",
              "      <td>NaN</td>\n",
              "      <td>NaN</td>\n",
              "      <td>NaN</td>\n",
              "      <td>NaN</td>\n",
              "      <td>NaN</td>\n",
              "      <td>NaN</td>\n",
              "      <td>...</td>\n",
              "      <td>NaN</td>\n",
              "      <td>NaN</td>\n",
              "      <td>NaN</td>\n",
              "      <td>NaN</td>\n",
              "      <td>NaN</td>\n",
              "      <td>NaN</td>\n",
              "      <td>NaN</td>\n",
              "      <td>NaN</td>\n",
              "      <td>NaN</td>\n",
              "      <td>NaN</td>\n",
              "      <td>NaN</td>\n",
              "      <td>NaN</td>\n",
              "      <td>NaN</td>\n",
              "      <td>NaN</td>\n",
              "      <td>NaN</td>\n",
              "      <td>NaN</td>\n",
              "      <td>NaN</td>\n",
              "      <td>NaN</td>\n",
              "      <td>NaN</td>\n",
              "      <td>NaN</td>\n",
              "      <td>NaN</td>\n",
              "      <td>NaN</td>\n",
              "      <td>NaN</td>\n",
              "      <td>NaN</td>\n",
              "      <td>NaN</td>\n",
              "      <td>NaN</td>\n",
              "      <td>NaN</td>\n",
              "      <td>NaN</td>\n",
              "      <td>NaN</td>\n",
              "      <td>NaN</td>\n",
              "      <td>NaN</td>\n",
              "      <td>NaN</td>\n",
              "      <td>NaN</td>\n",
              "      <td>NaN</td>\n",
              "      <td>NaN</td>\n",
              "      <td>NaN</td>\n",
              "      <td>NaN</td>\n",
              "      <td>NaN</td>\n",
              "      <td>NaN</td>\n",
              "      <td>0.001909</td>\n",
              "    </tr>\n",
              "    <tr>\n",
              "      <th>var38</th>\n",
              "      <td>NaN</td>\n",
              "      <td>NaN</td>\n",
              "      <td>NaN</td>\n",
              "      <td>NaN</td>\n",
              "      <td>NaN</td>\n",
              "      <td>NaN</td>\n",
              "      <td>NaN</td>\n",
              "      <td>NaN</td>\n",
              "      <td>NaN</td>\n",
              "      <td>NaN</td>\n",
              "      <td>NaN</td>\n",
              "      <td>NaN</td>\n",
              "      <td>NaN</td>\n",
              "      <td>NaN</td>\n",
              "      <td>NaN</td>\n",
              "      <td>NaN</td>\n",
              "      <td>NaN</td>\n",
              "      <td>NaN</td>\n",
              "      <td>NaN</td>\n",
              "      <td>NaN</td>\n",
              "      <td>NaN</td>\n",
              "      <td>NaN</td>\n",
              "      <td>NaN</td>\n",
              "      <td>NaN</td>\n",
              "      <td>NaN</td>\n",
              "      <td>NaN</td>\n",
              "      <td>NaN</td>\n",
              "      <td>NaN</td>\n",
              "      <td>NaN</td>\n",
              "      <td>NaN</td>\n",
              "      <td>NaN</td>\n",
              "      <td>NaN</td>\n",
              "      <td>NaN</td>\n",
              "      <td>NaN</td>\n",
              "      <td>NaN</td>\n",
              "      <td>NaN</td>\n",
              "      <td>NaN</td>\n",
              "      <td>NaN</td>\n",
              "      <td>NaN</td>\n",
              "      <td>NaN</td>\n",
              "      <td>...</td>\n",
              "      <td>NaN</td>\n",
              "      <td>NaN</td>\n",
              "      <td>NaN</td>\n",
              "      <td>NaN</td>\n",
              "      <td>NaN</td>\n",
              "      <td>NaN</td>\n",
              "      <td>NaN</td>\n",
              "      <td>NaN</td>\n",
              "      <td>NaN</td>\n",
              "      <td>NaN</td>\n",
              "      <td>NaN</td>\n",
              "      <td>NaN</td>\n",
              "      <td>NaN</td>\n",
              "      <td>NaN</td>\n",
              "      <td>NaN</td>\n",
              "      <td>NaN</td>\n",
              "      <td>NaN</td>\n",
              "      <td>NaN</td>\n",
              "      <td>NaN</td>\n",
              "      <td>NaN</td>\n",
              "      <td>NaN</td>\n",
              "      <td>NaN</td>\n",
              "      <td>NaN</td>\n",
              "      <td>NaN</td>\n",
              "      <td>NaN</td>\n",
              "      <td>NaN</td>\n",
              "      <td>NaN</td>\n",
              "      <td>NaN</td>\n",
              "      <td>NaN</td>\n",
              "      <td>NaN</td>\n",
              "      <td>NaN</td>\n",
              "      <td>NaN</td>\n",
              "      <td>NaN</td>\n",
              "      <td>NaN</td>\n",
              "      <td>NaN</td>\n",
              "      <td>NaN</td>\n",
              "      <td>NaN</td>\n",
              "      <td>NaN</td>\n",
              "      <td>NaN</td>\n",
              "      <td>NaN</td>\n",
              "    </tr>\n",
              "  </tbody>\n",
              "</table>\n",
              "<p>253 rows × 253 columns</p>\n",
              "</div>"
            ],
            "text/plain": [
              "                         ID      var3  ...  saldo_medio_var44_ult3     var38\n",
              "ID                      NaN  0.000693  ...                0.003208  0.008756\n",
              "var3                    NaN       NaN  ...                0.000769  0.000052\n",
              "var15                   NaN       NaN  ...                0.036761  0.006741\n",
              "imp_ent_var16_ult1      NaN       NaN  ...                0.010253  0.000782\n",
              "imp_op_var39_comer_ult1 NaN       NaN  ...                0.005472  0.011939\n",
              "...                      ..       ...  ...                     ...       ...\n",
              "saldo_medio_var44_hace2 NaN       NaN  ...                0.827879  0.002158\n",
              "saldo_medio_var44_hace3 NaN       NaN  ...                0.289146  0.004064\n",
              "saldo_medio_var44_ult1  NaN       NaN  ...                0.979138  0.002070\n",
              "saldo_medio_var44_ult3  NaN       NaN  ...                     NaN  0.001909\n",
              "var38                   NaN       NaN  ...                     NaN       NaN\n",
              "\n",
              "[253 rows x 253 columns]"
            ]
          },
          "metadata": {
            "tags": []
          },
          "execution_count": 33
        }
      ]
    },
    {
      "cell_type": "code",
      "metadata": {
        "id": "dGU5cTeDwJAb",
        "colab_type": "code",
        "colab": {
          "base_uri": "https://localhost:8080/",
          "height": 1000
        },
        "outputId": "91c9629e-f42d-4893-cdbd-258bc6a5a703"
      },
      "source": [
        "# Find features with correlation greater than 0.80\n",
        "to_drop = [column for column in upper.columns if any(upper[column] > 0.80)]\n",
        "to_drop"
      ],
      "execution_count": 35,
      "outputs": [
        {
          "output_type": "execute_result",
          "data": {
            "text/plain": [
              "['imp_op_var39_comer_ult3',\n",
              " 'imp_op_var40_comer_ult3',\n",
              " 'imp_op_var40_efect_ult3',\n",
              " 'imp_op_var41_comer_ult1',\n",
              " 'imp_op_var41_comer_ult3',\n",
              " 'imp_op_var41_efect_ult3',\n",
              " 'imp_op_var41_ult1',\n",
              " 'imp_op_var39_efect_ult1',\n",
              " 'imp_op_var39_efect_ult3',\n",
              " 'imp_op_var39_ult1',\n",
              " 'ind_var8_0',\n",
              " 'ind_var8',\n",
              " 'ind_var12',\n",
              " 'ind_var13_corto_0',\n",
              " 'ind_var13_corto',\n",
              " 'ind_var13_largo',\n",
              " 'ind_var13',\n",
              " 'ind_var24_0',\n",
              " 'ind_var24',\n",
              " 'ind_var26_0',\n",
              " 'ind_var26_cte',\n",
              " 'ind_var25_0',\n",
              " 'ind_var30',\n",
              " 'ind_var37_0',\n",
              " 'ind_var40_0',\n",
              " 'ind_var41_0',\n",
              " 'num_var1_0',\n",
              " 'num_var5_0',\n",
              " 'num_var5',\n",
              " 'num_var8_0',\n",
              " 'num_var8',\n",
              " 'num_var12_0',\n",
              " 'num_var12',\n",
              " 'num_var13_0',\n",
              " 'num_var13_corto_0',\n",
              " 'num_var13_corto',\n",
              " 'num_var13_largo_0',\n",
              " 'num_var13_largo',\n",
              " 'num_var13',\n",
              " 'num_var17',\n",
              " 'num_var20',\n",
              " 'num_var24_0',\n",
              " 'num_var24',\n",
              " 'num_var26_0',\n",
              " 'num_var25_0',\n",
              " 'num_op_var40_ult3',\n",
              " 'num_op_var41_ult3',\n",
              " 'num_op_var39_hace2',\n",
              " 'num_op_var39_hace3',\n",
              " 'num_op_var39_ult1',\n",
              " 'num_op_var39_ult3',\n",
              " 'num_var30_0',\n",
              " 'num_var30',\n",
              " 'num_var31_0',\n",
              " 'num_var31',\n",
              " 'num_var35',\n",
              " 'num_var37_0',\n",
              " 'num_var39_0',\n",
              " 'num_var40_0',\n",
              " 'num_var40',\n",
              " 'num_var41_0',\n",
              " 'num_var42_0',\n",
              " 'num_var42',\n",
              " 'num_var44',\n",
              " 'saldo_var13',\n",
              " 'saldo_var18',\n",
              " 'saldo_var24',\n",
              " 'saldo_var25',\n",
              " 'saldo_var32',\n",
              " 'saldo_var40',\n",
              " 'saldo_var42',\n",
              " 'delta_imp_amort_var34_1y3',\n",
              " 'delta_num_aport_var13_1y3',\n",
              " 'delta_num_aport_var17_1y3',\n",
              " 'delta_num_aport_var33_1y3',\n",
              " 'delta_num_compra_var44_1y3',\n",
              " 'delta_num_venta_var44_1y3',\n",
              " 'imp_amort_var18_ult1',\n",
              " 'imp_amort_var34_ult1',\n",
              " 'imp_reemb_var33_ult1',\n",
              " 'imp_trasp_var33_out_ult1',\n",
              " 'imp_venta_var44_ult1',\n",
              " 'ind_var10_ult1',\n",
              " 'ind_var10cte_ult1',\n",
              " 'ind_var9_cte_ult1',\n",
              " 'ind_var9_ult1',\n",
              " 'num_aport_var13_ult1',\n",
              " 'num_med_var22_ult3',\n",
              " 'num_meses_var5_ult3',\n",
              " 'num_meses_var8_ult3',\n",
              " 'num_meses_var12_ult3',\n",
              " 'num_meses_var13_corto_ult3',\n",
              " 'num_meses_var13_largo_ult3',\n",
              " 'num_meses_var39_vig_ult3',\n",
              " 'num_op_var39_comer_ult1',\n",
              " 'num_op_var39_comer_ult3',\n",
              " 'num_op_var40_comer_ult3',\n",
              " 'num_op_var40_efect_ult1',\n",
              " 'num_op_var40_efect_ult3',\n",
              " 'num_op_var41_comer_ult1',\n",
              " 'num_op_var41_comer_ult3',\n",
              " 'num_op_var41_efect_ult3',\n",
              " 'num_op_var39_efect_ult1',\n",
              " 'num_op_var39_efect_ult3',\n",
              " 'num_var45_hace2',\n",
              " 'num_var45_ult1',\n",
              " 'num_var45_ult3',\n",
              " 'saldo_medio_var5_ult1',\n",
              " 'saldo_medio_var5_ult3',\n",
              " 'saldo_medio_var8_ult1',\n",
              " 'saldo_medio_var8_ult3',\n",
              " 'saldo_medio_var12_hace2',\n",
              " 'saldo_medio_var12_ult1',\n",
              " 'saldo_medio_var12_ult3',\n",
              " 'saldo_medio_var13_corto_hace2',\n",
              " 'saldo_medio_var13_corto_ult1',\n",
              " 'saldo_medio_var13_corto_ult3',\n",
              " 'saldo_medio_var13_largo_ult1',\n",
              " 'saldo_medio_var13_largo_ult3',\n",
              " 'saldo_medio_var17_ult1',\n",
              " 'saldo_medio_var17_ult3',\n",
              " 'saldo_medio_var29_ult1',\n",
              " 'saldo_medio_var29_ult3',\n",
              " 'saldo_medio_var33_hace2',\n",
              " 'saldo_medio_var33_ult1',\n",
              " 'saldo_medio_var33_ult3',\n",
              " 'saldo_medio_var44_ult1',\n",
              " 'saldo_medio_var44_ult3']"
            ]
          },
          "metadata": {
            "tags": []
          },
          "execution_count": 35
        }
      ]
    },
    {
      "cell_type": "code",
      "metadata": {
        "id": "RhMwbbU1wV80",
        "colab_type": "code",
        "colab": {
          "base_uri": "https://localhost:8080/",
          "height": 34
        },
        "outputId": "3d0a451d-c55e-45e4-dff7-df35aff40598"
      },
      "source": [
        "len(to_drop)"
      ],
      "execution_count": 36,
      "outputs": [
        {
          "output_type": "execute_result",
          "data": {
            "text/plain": [
              "128"
            ]
          },
          "metadata": {
            "tags": []
          },
          "execution_count": 36
        }
      ]
    },
    {
      "cell_type": "code",
      "metadata": {
        "id": "W7s7Xw2Mwcsw",
        "colab_type": "code",
        "colab": {
          "base_uri": "https://localhost:8080/",
          "height": 34
        },
        "outputId": "033b0140-8768-49cd-cfb5-93b1995e9d61"
      },
      "source": [
        "# removed correlated  features\n",
        "X_train.drop(labels=to_drop, axis=1, inplace=True)\n",
        "X_test.drop(labels=to_drop, axis=1, inplace=True)\n",
        " \n",
        "X_train.shape, X_test.shape"
      ],
      "execution_count": 37,
      "outputs": [
        {
          "output_type": "execute_result",
          "data": {
            "text/plain": [
              "((53214, 125), (22806, 125))"
            ]
          },
          "metadata": {
            "tags": []
          },
          "execution_count": 37
        }
      ]
    },
    {
      "cell_type": "code",
      "metadata": {
        "id": "Wd7E9VAxwsiW",
        "colab_type": "code",
        "colab": {}
      },
      "source": [
        "# keep a copy of the dataset at  this stage\n",
        "X_train_corr = X_train.copy()\n",
        "X_test_corr = X_test.copy()"
      ],
      "execution_count": 0,
      "outputs": []
    },
    {
      "cell_type": "markdown",
      "metadata": {
        "id": "xw_FC79txCrc",
        "colab_type": "text"
      },
      "source": [
        "##Remove features using univariate roc_auc\n",
        "\n",
        "- # find important features using univariate roc-auc\n",
        "- # loop to build a tree, make predictions and get the roc-auc for each feature of the train set"
      ]
    },
    {
      "cell_type": "code",
      "metadata": {
        "id": "AHpimIQ-xSty",
        "colab_type": "code",
        "colab": {}
      },
      "source": [
        "roc_values = []\n",
        "for feature in X_train.columns:\n",
        "    clf = DecisionTreeClassifier()\n",
        "    clf.fit(X_train[feature].fillna(0).to_frame(), y_train)\n",
        "    y_scored = clf.predict_proba(X_test[feature].fillna(0).to_frame())\n",
        "    roc_values.append(roc_auc_score(y_test, y_scored[:, 1]))"
      ],
      "execution_count": 0,
      "outputs": []
    },
    {
      "cell_type": "code",
      "metadata": {
        "id": "xmY_h3i3yJFK",
        "colab_type": "code",
        "colab": {
          "base_uri": "https://localhost:8080/",
          "height": 204
        },
        "outputId": "68ffd8d1-601b-4c97-8322-1b521edafa3e"
      },
      "source": [
        "df_roc = pd.DataFrame({'Features':X_train.columns,'ROC':roc_values})\n",
        "df_roc.head()"
      ],
      "execution_count": 42,
      "outputs": [
        {
          "output_type": "execute_result",
          "data": {
            "text/html": [
              "<div>\n",
              "<style scoped>\n",
              "    .dataframe tbody tr th:only-of-type {\n",
              "        vertical-align: middle;\n",
              "    }\n",
              "\n",
              "    .dataframe tbody tr th {\n",
              "        vertical-align: top;\n",
              "    }\n",
              "\n",
              "    .dataframe thead th {\n",
              "        text-align: right;\n",
              "    }\n",
              "</style>\n",
              "<table border=\"1\" class=\"dataframe\">\n",
              "  <thead>\n",
              "    <tr style=\"text-align: right;\">\n",
              "      <th></th>\n",
              "      <th>Features</th>\n",
              "      <th>ROC</th>\n",
              "    </tr>\n",
              "  </thead>\n",
              "  <tbody>\n",
              "    <tr>\n",
              "      <th>0</th>\n",
              "      <td>ID</td>\n",
              "      <td>0.500512</td>\n",
              "    </tr>\n",
              "    <tr>\n",
              "      <th>1</th>\n",
              "      <td>var3</td>\n",
              "      <td>0.502106</td>\n",
              "    </tr>\n",
              "    <tr>\n",
              "      <th>2</th>\n",
              "      <td>var15</td>\n",
              "      <td>0.701030</td>\n",
              "    </tr>\n",
              "    <tr>\n",
              "      <th>3</th>\n",
              "      <td>imp_ent_var16_ult1</td>\n",
              "      <td>0.497959</td>\n",
              "    </tr>\n",
              "    <tr>\n",
              "      <th>4</th>\n",
              "      <td>imp_op_var39_comer_ult1</td>\n",
              "      <td>0.499298</td>\n",
              "    </tr>\n",
              "  </tbody>\n",
              "</table>\n",
              "</div>"
            ],
            "text/plain": [
              "                  Features       ROC\n",
              "0                       ID  0.500512\n",
              "1                     var3  0.502106\n",
              "2                    var15  0.701030\n",
              "3       imp_ent_var16_ult1  0.497959\n",
              "4  imp_op_var39_comer_ult1  0.499298"
            ]
          },
          "metadata": {
            "tags": []
          },
          "execution_count": 42
        }
      ]
    },
    {
      "cell_type": "code",
      "metadata": {
        "id": "31l9ReRty_sC",
        "colab_type": "code",
        "colab": {
          "base_uri": "https://localhost:8080/",
          "height": 832
        },
        "outputId": "7b1020cc-e821-4f62-9483-166201bb259e"
      },
      "source": [
        "df_roc.sort_values(by='ROC',ascending=False).set_index('Features').plot.bar(figsize=(20, 11))\n",
        "plt.show()"
      ],
      "execution_count": 51,
      "outputs": [
        {
          "output_type": "display_data",
          "data": {
            "image/png": "[encoded data removed]",
            "text/plain": [
              "<Figure size 1440x792 with 1 Axes>"
            ]
          },
          "metadata": {
            "tags": []
          }
        }
      ]
    },
    {
      "cell_type": "markdown",
      "metadata": {
        "id": "NgOlML581gJg",
        "colab_type": "text"
      },
      "source": [
        " - by removing features with univariate roc_auc == 0.50, we remove another 39 features\n",
        "- here the selected features which have a ROC > 0.50 is 86\n",
        "- total number of features is 125"
      ]
    },
    {
      "cell_type": "code",
      "metadata": {
        "id": "mHwG9_TW2W5M",
        "colab_type": "code",
        "colab": {
          "base_uri": "https://localhost:8080/",
          "height": 204
        },
        "outputId": "47960397-75f3-47ff-bd41-8327fa9aba64"
      },
      "source": [
        "df_roc[df_roc['ROC']>0.50].head()"
      ],
      "execution_count": 56,
      "outputs": [
        {
          "output_type": "execute_result",
          "data": {
            "text/html": [
              "<div>\n",
              "<style scoped>\n",
              "    .dataframe tbody tr th:only-of-type {\n",
              "        vertical-align: middle;\n",
              "    }\n",
              "\n",
              "    .dataframe tbody tr th {\n",
              "        vertical-align: top;\n",
              "    }\n",
              "\n",
              "    .dataframe thead th {\n",
              "        text-align: right;\n",
              "    }\n",
              "</style>\n",
              "<table border=\"1\" class=\"dataframe\">\n",
              "  <thead>\n",
              "    <tr style=\"text-align: right;\">\n",
              "      <th></th>\n",
              "      <th>Features</th>\n",
              "      <th>ROC</th>\n",
              "    </tr>\n",
              "  </thead>\n",
              "  <tbody>\n",
              "    <tr>\n",
              "      <th>0</th>\n",
              "      <td>ID</td>\n",
              "      <td>0.500512</td>\n",
              "    </tr>\n",
              "    <tr>\n",
              "      <th>1</th>\n",
              "      <td>var3</td>\n",
              "      <td>0.502106</td>\n",
              "    </tr>\n",
              "    <tr>\n",
              "      <th>2</th>\n",
              "      <td>var15</td>\n",
              "      <td>0.701030</td>\n",
              "    </tr>\n",
              "    <tr>\n",
              "      <th>8</th>\n",
              "      <td>imp_op_var41_efect_ult1</td>\n",
              "      <td>0.503363</td>\n",
              "    </tr>\n",
              "    <tr>\n",
              "      <th>10</th>\n",
              "      <td>ind_var1_0</td>\n",
              "      <td>0.501457</td>\n",
              "    </tr>\n",
              "  </tbody>\n",
              "</table>\n",
              "</div>"
            ],
            "text/plain": [
              "                   Features       ROC\n",
              "0                        ID  0.500512\n",
              "1                      var3  0.502106\n",
              "2                     var15  0.701030\n",
              "8   imp_op_var41_efect_ult1  0.503363\n",
              "10               ind_var1_0  0.501457"
            ]
          },
          "metadata": {
            "tags": []
          },
          "execution_count": 56
        }
      ]
    },
    {
      "cell_type": "code",
      "metadata": {
        "id": "P3UdWtmV1clm",
        "colab_type": "code",
        "colab": {
          "base_uri": "https://localhost:8080/",
          "height": 34
        },
        "outputId": "cb75a1b4-3046-459e-bd32-137a94ea4468"
      },
      "source": [
        "selected_feat = df_roc[df_roc['ROC']>0.5]\n",
        "len(selected_feat), X_train.shape[1]"
      ],
      "execution_count": 57,
      "outputs": [
        {
          "output_type": "execute_result",
          "data": {
            "text/plain": [
              "(86, 125)"
            ]
          },
          "metadata": {
            "tags": []
          },
          "execution_count": 57
        }
      ]
    },
    {
      "cell_type": "code",
      "metadata": {
        "id": "Y--WldFs5vTB",
        "colab_type": "code",
        "colab": {
          "base_uri": "https://localhost:8080/",
          "height": 419
        },
        "outputId": "d164fd92-b8c2-423d-9542-98c1b488c539"
      },
      "source": [
        "selected_feat"
      ],
      "execution_count": 62,
      "outputs": [
        {
          "output_type": "execute_result",
          "data": {
            "text/html": [
              "<div>\n",
              "<style scoped>\n",
              "    .dataframe tbody tr th:only-of-type {\n",
              "        vertical-align: middle;\n",
              "    }\n",
              "\n",
              "    .dataframe tbody tr th {\n",
              "        vertical-align: top;\n",
              "    }\n",
              "\n",
              "    .dataframe thead th {\n",
              "        text-align: right;\n",
              "    }\n",
              "</style>\n",
              "<table border=\"1\" class=\"dataframe\">\n",
              "  <thead>\n",
              "    <tr style=\"text-align: right;\">\n",
              "      <th></th>\n",
              "      <th>Features</th>\n",
              "      <th>ROC</th>\n",
              "    </tr>\n",
              "  </thead>\n",
              "  <tbody>\n",
              "    <tr>\n",
              "      <th>0</th>\n",
              "      <td>ID</td>\n",
              "      <td>0.500512</td>\n",
              "    </tr>\n",
              "    <tr>\n",
              "      <th>1</th>\n",
              "      <td>var3</td>\n",
              "      <td>0.502106</td>\n",
              "    </tr>\n",
              "    <tr>\n",
              "      <th>2</th>\n",
              "      <td>var15</td>\n",
              "      <td>0.701030</td>\n",
              "    </tr>\n",
              "    <tr>\n",
              "      <th>8</th>\n",
              "      <td>imp_op_var41_efect_ult1</td>\n",
              "      <td>0.503363</td>\n",
              "    </tr>\n",
              "    <tr>\n",
              "      <th>10</th>\n",
              "      <td>ind_var1_0</td>\n",
              "      <td>0.501457</td>\n",
              "    </tr>\n",
              "    <tr>\n",
              "      <th>...</th>\n",
              "      <td>...</td>\n",
              "      <td>...</td>\n",
              "    </tr>\n",
              "    <tr>\n",
              "      <th>118</th>\n",
              "      <td>saldo_medio_var17_hace3</td>\n",
              "      <td>0.500182</td>\n",
              "    </tr>\n",
              "    <tr>\n",
              "      <th>121</th>\n",
              "      <td>saldo_medio_var33_hace3</td>\n",
              "      <td>0.500137</td>\n",
              "    </tr>\n",
              "    <tr>\n",
              "      <th>122</th>\n",
              "      <td>saldo_medio_var44_hace2</td>\n",
              "      <td>0.500616</td>\n",
              "    </tr>\n",
              "    <tr>\n",
              "      <th>123</th>\n",
              "      <td>saldo_medio_var44_hace3</td>\n",
              "      <td>0.500251</td>\n",
              "    </tr>\n",
              "    <tr>\n",
              "      <th>124</th>\n",
              "      <td>var38</td>\n",
              "      <td>0.508177</td>\n",
              "    </tr>\n",
              "  </tbody>\n",
              "</table>\n",
              "<p>86 rows × 2 columns</p>\n",
              "</div>"
            ],
            "text/plain": [
              "                    Features       ROC\n",
              "0                         ID  0.500512\n",
              "1                       var3  0.502106\n",
              "2                      var15  0.701030\n",
              "8    imp_op_var41_efect_ult1  0.503363\n",
              "10                ind_var1_0  0.501457\n",
              "..                       ...       ...\n",
              "118  saldo_medio_var17_hace3  0.500182\n",
              "121  saldo_medio_var33_hace3  0.500137\n",
              "122  saldo_medio_var44_hace2  0.500616\n",
              "123  saldo_medio_var44_hace3  0.500251\n",
              "124                    var38  0.508177\n",
              "\n",
              "[86 rows x 2 columns]"
            ]
          },
          "metadata": {
            "tags": []
          },
          "execution_count": 62
        }
      ]
    },
    {
      "cell_type": "markdown",
      "metadata": {
        "id": "geP1AnxN3cdW",
        "colab_type": "text"
      },
      "source": [
        "## Compare the performance in machine learning algorithms for different filtered features"
      ]
    },
    {
      "cell_type": "markdown",
      "metadata": {
        "id": "mwkuIpvM3y82",
        "colab_type": "text"
      },
      "source": [
        "#### create a function to build random forests and compare performance in train and test set"
      ]
    },
    {
      "cell_type": "code",
      "metadata": {
        "id": "-UOuBwD-3fyx",
        "colab_type": "code",
        "colab": {}
      },
      "source": [
        "def run_randomForests(X_train, X_test, y_train, y_test):\n",
        "  rf = RandomForestClassifier(n_estimators=200, random_state=39, max_depth=4)\n",
        "  rf.fit(X_train,y_train)\n",
        "  print('Train set')\n",
        "  pred = rf.predict_proba(X_train)\n",
        "  print('Random Forests roc-auc: {}'.format(roc_auc_score(y_train, pred[:,1])))\n",
        "  print('Test set')\n",
        "  pred = rf.predict_proba(X_test)\n",
        "  print('Random Forests roc-auc: {}'.format(roc_auc_score(y_test, pred[:,1])))"
      ],
      "execution_count": 0,
      "outputs": []
    },
    {
      "cell_type": "markdown",
      "metadata": {
        "id": "mB3FqYjb4iGy",
        "colab_type": "text"
      },
      "source": [
        "#### original"
      ]
    },
    {
      "cell_type": "code",
      "metadata": {
        "id": "bFjkxZ4R4eWn",
        "colab_type": "code",
        "colab": {
          "base_uri": "https://localhost:8080/",
          "height": 85
        },
        "outputId": "30761d17-d7a5-4752-9b7e-fbf8d417d8ea"
      },
      "source": [
        "run_randomForests(X_train_original.drop(labels=['ID'], axis=1),\n",
        "                  X_test_original.drop(labels=['ID'], axis=1),\n",
        "                  y_train, y_test)"
      ],
      "execution_count": 59,
      "outputs": [
        {
          "output_type": "stream",
          "text": [
            "Train set\n",
            "Random Forests roc-auc: 0.8065249945894206\n",
            "Test set\n",
            "Random Forests roc-auc: 0.7890248605641693\n"
          ],
          "name": "stdout"
        }
      ]
    },
    {
      "cell_type": "markdown",
      "metadata": {
        "id": "wRG95xul4y5x",
        "colab_type": "text"
      },
      "source": [
        "## filter methods - basic"
      ]
    },
    {
      "cell_type": "code",
      "metadata": {
        "id": "a4rN-kBM41dQ",
        "colab_type": "code",
        "colab": {
          "base_uri": "https://localhost:8080/",
          "height": 85
        },
        "outputId": "0980df12-1988-4595-9a7b-c4aa619c1e6e"
      },
      "source": [
        "run_randomForests(X_train_basic_filter.drop(labels=['ID'], axis=1),\n",
        "                  X_test_basic_filter.drop(labels=['ID'], axis=1),\n",
        "                  y_train, y_test)"
      ],
      "execution_count": 60,
      "outputs": [
        {
          "output_type": "stream",
          "text": [
            "Train set\n",
            "Random Forests roc-auc: 0.8058834175647219\n",
            "Test set\n",
            "Random Forests roc-auc: 0.7893567672719184\n"
          ],
          "name": "stdout"
        }
      ]
    },
    {
      "cell_type": "markdown",
      "metadata": {
        "id": "c6v5SW71_7x9",
        "colab_type": "text"
      },
      "source": [
        "## filter methods - correlation"
      ]
    },
    {
      "cell_type": "code",
      "metadata": {
        "id": "1MpXjh1w_2Kc",
        "colab_type": "code",
        "colab": {
          "base_uri": "https://localhost:8080/",
          "height": 85
        },
        "outputId": "0398d01e-a52e-49b8-c0d9-af7e3aca4225"
      },
      "source": [
        "run_randomForests(X_train_corr.drop(labels=['ID'], axis=1),\n",
        "                  X_test_corr.drop(labels=['ID'], axis=1),\n",
        "                  y_train, y_test)"
      ],
      "execution_count": 73,
      "outputs": [
        {
          "output_type": "stream",
          "text": [
            "Train set\n",
            "Random Forests roc-auc: 0.8077692618287293\n",
            "Test set\n",
            "Random Forests roc-auc: 0.7925816070339918\n"
          ],
          "name": "stdout"
        }
      ]
    },
    {
      "cell_type": "markdown",
      "metadata": {
        "id": "L8iu0TC25WV2",
        "colab_type": "text"
      },
      "source": [
        "## filter methods - univariate roc-auc"
      ]
    },
    {
      "cell_type": "code",
      "metadata": {
        "id": "4Boqet2U5YGY",
        "colab_type": "code",
        "colab": {
          "base_uri": "https://localhost:8080/",
          "height": 85
        },
        "outputId": "9bbd1a96-80f0-4dac-9888-623c913de7bc"
      },
      "source": [
        "run_randomForests(X_train[selected_feat['Features']],X_test[selected_feat['Features']],y_train, y_test)"
      ],
      "execution_count": 63,
      "outputs": [
        {
          "output_type": "stream",
          "text": [
            "Train set\n",
            "Random Forests roc-auc: 0.8079737819149474\n",
            "Test set\n",
            "Random Forests roc-auc: 0.7915463165873029\n"
          ],
          "name": "stdout"
        }
      ]
    },
    {
      "cell_type": "markdown",
      "metadata": {
        "id": "wvEY4oOt6Hkg",
        "colab_type": "text"
      },
      "source": [
        "#### Note :\n",
        "\n",
        "We can see that removing constant, quasi-constant, duplicated, correlated and now features with univariate roc-auc ==0.5 we still keep or even enhance the performance of the random forests (0.789 vs 0.791) at the time that we reduce the feature space dramatically (from 371 to 86)."
      ]
    },
    {
      "cell_type": "markdown",
      "metadata": {
        "id": "YNWFVpVf6UDU",
        "colab_type": "text"
      },
      "source": [
        "## Checking the performance of logistic regression "
      ]
    },
    {
      "cell_type": "code",
      "metadata": {
        "id": "FTsD-M6R6bS8",
        "colab_type": "code",
        "colab": {}
      },
      "source": [
        "def run_logistic(X_train, X_test, y_train, y_test):\n",
        "  lr = LogisticRegression(max_iter=200,random_state=44,solver='liblinear')\n",
        "  lr.fit(X_train,y_train)\n",
        "  print('Train set')\n",
        "  pred = lr.predict_proba(X_train)\n",
        "  print('Logistic Regression roc-auc: {}'.format(roc_auc_score(y_train, pred[:,1])))\n",
        "  print('Test set')\n",
        "  pred = lr.predict_proba(X_test)\n",
        "  print('Logistic Regression roc-auc: {}'.format(roc_auc_score(y_test, pred[:,1])))"
      ],
      "execution_count": 0,
      "outputs": []
    },
    {
      "cell_type": "markdown",
      "metadata": {
        "id": "z6SjTdEB8_tN",
        "colab_type": "text"
      },
      "source": [
        "##original"
      ]
    },
    {
      "cell_type": "code",
      "metadata": {
        "id": "7bSkGekP9At-",
        "colab_type": "code",
        "colab": {
          "base_uri": "https://localhost:8080/",
          "height": 85
        },
        "outputId": "05f8acfa-1d5b-48e5-be25-501ace1d7621"
      },
      "source": [
        "scaler = StandardScaler().fit(X_train_original.drop(labels=['ID'], axis=1))\n",
        " \n",
        "run_logistic(scaler.transform(X_train_original.drop(labels=['ID'], axis=1)),\n",
        "             scaler.transform(X_test_original.drop(labels=['ID'], axis=1)),\n",
        "                  y_train, y_test)"
      ],
      "execution_count": 71,
      "outputs": [
        {
          "output_type": "stream",
          "text": [
            "Train set\n",
            "Logistic Regression roc-auc: 0.8069421054352028\n",
            "Test set\n",
            "Logistic Regression roc-auc: 0.7892812309485755\n"
          ],
          "name": "stdout"
        }
      ]
    },
    {
      "cell_type": "markdown",
      "metadata": {
        "id": "plnditYl_Z06",
        "colab_type": "text"
      },
      "source": [
        "## filter methods - basic"
      ]
    },
    {
      "cell_type": "code",
      "metadata": {
        "id": "-ijoHb_S_dmh",
        "colab_type": "code",
        "colab": {
          "base_uri": "https://localhost:8080/",
          "height": 85
        },
        "outputId": "5ced7a07-427a-4215-82cc-963572bd03ad"
      },
      "source": [
        "scaler = StandardScaler().fit(X_train_basic_filter.drop(labels=['ID'], axis=1))\n",
        " \n",
        "run_logistic(scaler.transform(X_train_basic_filter.drop(labels=['ID'], axis=1)),\n",
        "             scaler.transform(X_test_basic_filter.drop(labels=['ID'], axis=1)),\n",
        "                  y_train, y_test)"
      ],
      "execution_count": 72,
      "outputs": [
        {
          "output_type": "stream",
          "text": [
            "Train set\n",
            "Logistic Regression roc-auc: 0.8062876706749105\n",
            "Test set\n",
            "Logistic Regression roc-auc: 0.7886641707584321\n"
          ],
          "name": "stdout"
        }
      ]
    },
    {
      "cell_type": "markdown",
      "metadata": {
        "id": "H47zhP67_wTP",
        "colab_type": "text"
      },
      "source": [
        "## filter methods - correlation"
      ]
    },
    {
      "cell_type": "code",
      "metadata": {
        "id": "eN3UVt76ABHo",
        "colab_type": "code",
        "colab": {
          "base_uri": "https://localhost:8080/",
          "height": 85
        },
        "outputId": "1c4d3c42-20c7-45ae-a664-dfb811d9b953"
      },
      "source": [
        "scaler = StandardScaler().fit(X_train_corr.drop(labels=['ID'], axis=1))\n",
        " \n",
        "run_logistic(scaler.transform(X_train_corr.drop(labels=['ID'], axis=1)),\n",
        "             scaler.transform(X_test_corr.drop(labels=['ID'], axis=1)),\n",
        "                  y_train, y_test)"
      ],
      "execution_count": 74,
      "outputs": [
        {
          "output_type": "stream",
          "text": [
            "Train set\n",
            "Logistic Regression roc-auc: 0.7963450622937921\n",
            "Test set\n",
            "Logistic Regression roc-auc: 0.7838809759684303\n"
          ],
          "name": "stdout"
        }
      ]
    },
    {
      "cell_type": "markdown",
      "metadata": {
        "id": "GYLICpmIALvq",
        "colab_type": "text"
      },
      "source": [
        "## filter methods - univariate roc-auc"
      ]
    },
    {
      "cell_type": "code",
      "metadata": {
        "id": "Ho6C8p_tAPyq",
        "colab_type": "code",
        "colab": {
          "base_uri": "https://localhost:8080/",
          "height": 85
        },
        "outputId": "a869d282-80a2-43a7-a069-711c8c885570"
      },
      "source": [
        "scaler = StandardScaler().fit(X_train[selected_feat['Features']])\n",
        " \n",
        "run_logistic(scaler.transform(X_train[selected_feat['Features']]),\n",
        "             scaler.transform(X_test[selected_feat['Features']]),\n",
        "                  y_train, y_test)"
      ],
      "execution_count": 76,
      "outputs": [
        {
          "output_type": "stream",
          "text": [
            "Train set\n",
            "Logistic Regression roc-auc: 0.7935915330206204\n",
            "Test set\n",
            "Logistic Regression roc-auc: 0.7823928280140383\n"
          ],
          "name": "stdout"
        }
      ]
    }
  ]
}